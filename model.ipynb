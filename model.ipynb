{
 "cells": [
  {
   "cell_type": "code",
   "execution_count": 1,
   "id": "965e2f3c-d5da-4f3e-8c1c-348262df1da9",
   "metadata": {},
   "outputs": [],
   "source": [
    "import pandas as pd\n",
    "import numpy as np\n",
    "import matplotlib.pyplot as plt\n",
    "import seaborn as sns"
   ]
  },
  {
   "cell_type": "code",
   "execution_count": 154,
   "id": "6dd65b37-c58b-45f3-8beb-1d51b7218887",
   "metadata": {},
   "outputs": [],
   "source": [
    "import warnings\n",
    "warnings.filterwarnings('ignore')"
   ]
  },
  {
   "cell_type": "code",
   "execution_count": 2,
   "id": "bc74368b-0a21-418b-849e-cc14fb82bb76",
   "metadata": {},
   "outputs": [],
   "source": [
    "df_train = pd.read_csv('cs-training.csv')"
   ]
  },
  {
   "cell_type": "code",
   "execution_count": 3,
   "id": "9c681df6-4ca8-4f4d-86fa-88ca8066d78c",
   "metadata": {},
   "outputs": [
    {
     "data": {
      "text/html": [
       "<div>\n",
       "<style scoped>\n",
       "    .dataframe tbody tr th:only-of-type {\n",
       "        vertical-align: middle;\n",
       "    }\n",
       "\n",
       "    .dataframe tbody tr th {\n",
       "        vertical-align: top;\n",
       "    }\n",
       "\n",
       "    .dataframe thead th {\n",
       "        text-align: right;\n",
       "    }\n",
       "</style>\n",
       "<table border=\"1\" class=\"dataframe\">\n",
       "  <thead>\n",
       "    <tr style=\"text-align: right;\">\n",
       "      <th></th>\n",
       "      <th>Unnamed: 0</th>\n",
       "      <th>SeriousDlqin2yrs</th>\n",
       "      <th>RevolvingUtilizationOfUnsecuredLines</th>\n",
       "      <th>age</th>\n",
       "      <th>NumberOfTime30-59DaysPastDueNotWorse</th>\n",
       "      <th>DebtRatio</th>\n",
       "      <th>MonthlyIncome</th>\n",
       "      <th>NumberOfOpenCreditLinesAndLoans</th>\n",
       "      <th>NumberOfTimes90DaysLate</th>\n",
       "      <th>NumberRealEstateLoansOrLines</th>\n",
       "      <th>NumberOfTime60-89DaysPastDueNotWorse</th>\n",
       "      <th>NumberOfDependents</th>\n",
       "    </tr>\n",
       "  </thead>\n",
       "  <tbody>\n",
       "    <tr>\n",
       "      <th>0</th>\n",
       "      <td>1</td>\n",
       "      <td>1</td>\n",
       "      <td>0.766127</td>\n",
       "      <td>45</td>\n",
       "      <td>2</td>\n",
       "      <td>0.802982</td>\n",
       "      <td>9120.0</td>\n",
       "      <td>13</td>\n",
       "      <td>0</td>\n",
       "      <td>6</td>\n",
       "      <td>0</td>\n",
       "      <td>2.0</td>\n",
       "    </tr>\n",
       "    <tr>\n",
       "      <th>1</th>\n",
       "      <td>2</td>\n",
       "      <td>0</td>\n",
       "      <td>0.957151</td>\n",
       "      <td>40</td>\n",
       "      <td>0</td>\n",
       "      <td>0.121876</td>\n",
       "      <td>2600.0</td>\n",
       "      <td>4</td>\n",
       "      <td>0</td>\n",
       "      <td>0</td>\n",
       "      <td>0</td>\n",
       "      <td>1.0</td>\n",
       "    </tr>\n",
       "    <tr>\n",
       "      <th>2</th>\n",
       "      <td>3</td>\n",
       "      <td>0</td>\n",
       "      <td>0.658180</td>\n",
       "      <td>38</td>\n",
       "      <td>1</td>\n",
       "      <td>0.085113</td>\n",
       "      <td>3042.0</td>\n",
       "      <td>2</td>\n",
       "      <td>1</td>\n",
       "      <td>0</td>\n",
       "      <td>0</td>\n",
       "      <td>0.0</td>\n",
       "    </tr>\n",
       "    <tr>\n",
       "      <th>3</th>\n",
       "      <td>4</td>\n",
       "      <td>0</td>\n",
       "      <td>0.233810</td>\n",
       "      <td>30</td>\n",
       "      <td>0</td>\n",
       "      <td>0.036050</td>\n",
       "      <td>3300.0</td>\n",
       "      <td>5</td>\n",
       "      <td>0</td>\n",
       "      <td>0</td>\n",
       "      <td>0</td>\n",
       "      <td>0.0</td>\n",
       "    </tr>\n",
       "    <tr>\n",
       "      <th>4</th>\n",
       "      <td>5</td>\n",
       "      <td>0</td>\n",
       "      <td>0.907239</td>\n",
       "      <td>49</td>\n",
       "      <td>1</td>\n",
       "      <td>0.024926</td>\n",
       "      <td>63588.0</td>\n",
       "      <td>7</td>\n",
       "      <td>0</td>\n",
       "      <td>1</td>\n",
       "      <td>0</td>\n",
       "      <td>0.0</td>\n",
       "    </tr>\n",
       "  </tbody>\n",
       "</table>\n",
       "</div>"
      ],
      "text/plain": [
       "   Unnamed: 0  SeriousDlqin2yrs  RevolvingUtilizationOfUnsecuredLines  age  \\\n",
       "0           1                 1                              0.766127   45   \n",
       "1           2                 0                              0.957151   40   \n",
       "2           3                 0                              0.658180   38   \n",
       "3           4                 0                              0.233810   30   \n",
       "4           5                 0                              0.907239   49   \n",
       "\n",
       "   NumberOfTime30-59DaysPastDueNotWorse  DebtRatio  MonthlyIncome  \\\n",
       "0                                     2   0.802982         9120.0   \n",
       "1                                     0   0.121876         2600.0   \n",
       "2                                     1   0.085113         3042.0   \n",
       "3                                     0   0.036050         3300.0   \n",
       "4                                     1   0.024926        63588.0   \n",
       "\n",
       "   NumberOfOpenCreditLinesAndLoans  NumberOfTimes90DaysLate  \\\n",
       "0                               13                        0   \n",
       "1                                4                        0   \n",
       "2                                2                        1   \n",
       "3                                5                        0   \n",
       "4                                7                        0   \n",
       "\n",
       "   NumberRealEstateLoansOrLines  NumberOfTime60-89DaysPastDueNotWorse  \\\n",
       "0                             6                                     0   \n",
       "1                             0                                     0   \n",
       "2                             0                                     0   \n",
       "3                             0                                     0   \n",
       "4                             1                                     0   \n",
       "\n",
       "   NumberOfDependents  \n",
       "0                 2.0  \n",
       "1                 1.0  \n",
       "2                 0.0  \n",
       "3                 0.0  \n",
       "4                 0.0  "
      ]
     },
     "execution_count": 3,
     "metadata": {},
     "output_type": "execute_result"
    }
   ],
   "source": [
    "df_train.head()"
   ]
  },
  {
   "cell_type": "code",
   "execution_count": 4,
   "id": "0052921e-b09c-4d95-9b03-8b971939045a",
   "metadata": {},
   "outputs": [
    {
     "name": "stdout",
     "output_type": "stream",
     "text": [
      "<class 'pandas.core.frame.DataFrame'>\n",
      "RangeIndex: 150000 entries, 0 to 149999\n",
      "Data columns (total 12 columns):\n",
      " #   Column                                Non-Null Count   Dtype  \n",
      "---  ------                                --------------   -----  \n",
      " 0   Unnamed: 0                            150000 non-null  int64  \n",
      " 1   SeriousDlqin2yrs                      150000 non-null  int64  \n",
      " 2   RevolvingUtilizationOfUnsecuredLines  150000 non-null  float64\n",
      " 3   age                                   150000 non-null  int64  \n",
      " 4   NumberOfTime30-59DaysPastDueNotWorse  150000 non-null  int64  \n",
      " 5   DebtRatio                             150000 non-null  float64\n",
      " 6   MonthlyIncome                         120269 non-null  float64\n",
      " 7   NumberOfOpenCreditLinesAndLoans       150000 non-null  int64  \n",
      " 8   NumberOfTimes90DaysLate               150000 non-null  int64  \n",
      " 9   NumberRealEstateLoansOrLines          150000 non-null  int64  \n",
      " 10  NumberOfTime60-89DaysPastDueNotWorse  150000 non-null  int64  \n",
      " 11  NumberOfDependents                    146076 non-null  float64\n",
      "dtypes: float64(4), int64(8)\n",
      "memory usage: 13.7 MB\n"
     ]
    }
   ],
   "source": [
    "df_train.info()"
   ]
  },
  {
   "cell_type": "code",
   "execution_count": 5,
   "id": "556e93e2-eec9-448c-a548-4b382c11e976",
   "metadata": {},
   "outputs": [
    {
     "data": {
      "text/html": [
       "<div>\n",
       "<style scoped>\n",
       "    .dataframe tbody tr th:only-of-type {\n",
       "        vertical-align: middle;\n",
       "    }\n",
       "\n",
       "    .dataframe tbody tr th {\n",
       "        vertical-align: top;\n",
       "    }\n",
       "\n",
       "    .dataframe thead th {\n",
       "        text-align: right;\n",
       "    }\n",
       "</style>\n",
       "<table border=\"1\" class=\"dataframe\">\n",
       "  <thead>\n",
       "    <tr style=\"text-align: right;\">\n",
       "      <th></th>\n",
       "      <th>Unnamed: 0</th>\n",
       "      <th>SeriousDlqin2yrs</th>\n",
       "      <th>RevolvingUtilizationOfUnsecuredLines</th>\n",
       "      <th>age</th>\n",
       "      <th>NumberOfTime30-59DaysPastDueNotWorse</th>\n",
       "      <th>DebtRatio</th>\n",
       "      <th>MonthlyIncome</th>\n",
       "      <th>NumberOfOpenCreditLinesAndLoans</th>\n",
       "      <th>NumberOfTimes90DaysLate</th>\n",
       "      <th>NumberRealEstateLoansOrLines</th>\n",
       "      <th>NumberOfTime60-89DaysPastDueNotWorse</th>\n",
       "      <th>NumberOfDependents</th>\n",
       "    </tr>\n",
       "  </thead>\n",
       "  <tbody>\n",
       "    <tr>\n",
       "      <th>count</th>\n",
       "      <td>150000.000000</td>\n",
       "      <td>150000.000000</td>\n",
       "      <td>150000.000000</td>\n",
       "      <td>150000.000000</td>\n",
       "      <td>150000.000000</td>\n",
       "      <td>150000.000000</td>\n",
       "      <td>1.202690e+05</td>\n",
       "      <td>150000.000000</td>\n",
       "      <td>150000.000000</td>\n",
       "      <td>150000.000000</td>\n",
       "      <td>150000.000000</td>\n",
       "      <td>146076.000000</td>\n",
       "    </tr>\n",
       "    <tr>\n",
       "      <th>mean</th>\n",
       "      <td>75000.500000</td>\n",
       "      <td>0.066840</td>\n",
       "      <td>6.048438</td>\n",
       "      <td>52.295207</td>\n",
       "      <td>0.421033</td>\n",
       "      <td>353.005076</td>\n",
       "      <td>6.670221e+03</td>\n",
       "      <td>8.452760</td>\n",
       "      <td>0.265973</td>\n",
       "      <td>1.018240</td>\n",
       "      <td>0.240387</td>\n",
       "      <td>0.757222</td>\n",
       "    </tr>\n",
       "    <tr>\n",
       "      <th>std</th>\n",
       "      <td>43301.414527</td>\n",
       "      <td>0.249746</td>\n",
       "      <td>249.755371</td>\n",
       "      <td>14.771866</td>\n",
       "      <td>4.192781</td>\n",
       "      <td>2037.818523</td>\n",
       "      <td>1.438467e+04</td>\n",
       "      <td>5.145951</td>\n",
       "      <td>4.169304</td>\n",
       "      <td>1.129771</td>\n",
       "      <td>4.155179</td>\n",
       "      <td>1.115086</td>\n",
       "    </tr>\n",
       "    <tr>\n",
       "      <th>min</th>\n",
       "      <td>1.000000</td>\n",
       "      <td>0.000000</td>\n",
       "      <td>0.000000</td>\n",
       "      <td>0.000000</td>\n",
       "      <td>0.000000</td>\n",
       "      <td>0.000000</td>\n",
       "      <td>0.000000e+00</td>\n",
       "      <td>0.000000</td>\n",
       "      <td>0.000000</td>\n",
       "      <td>0.000000</td>\n",
       "      <td>0.000000</td>\n",
       "      <td>0.000000</td>\n",
       "    </tr>\n",
       "    <tr>\n",
       "      <th>25%</th>\n",
       "      <td>37500.750000</td>\n",
       "      <td>0.000000</td>\n",
       "      <td>0.029867</td>\n",
       "      <td>41.000000</td>\n",
       "      <td>0.000000</td>\n",
       "      <td>0.175074</td>\n",
       "      <td>3.400000e+03</td>\n",
       "      <td>5.000000</td>\n",
       "      <td>0.000000</td>\n",
       "      <td>0.000000</td>\n",
       "      <td>0.000000</td>\n",
       "      <td>0.000000</td>\n",
       "    </tr>\n",
       "    <tr>\n",
       "      <th>50%</th>\n",
       "      <td>75000.500000</td>\n",
       "      <td>0.000000</td>\n",
       "      <td>0.154181</td>\n",
       "      <td>52.000000</td>\n",
       "      <td>0.000000</td>\n",
       "      <td>0.366508</td>\n",
       "      <td>5.400000e+03</td>\n",
       "      <td>8.000000</td>\n",
       "      <td>0.000000</td>\n",
       "      <td>1.000000</td>\n",
       "      <td>0.000000</td>\n",
       "      <td>0.000000</td>\n",
       "    </tr>\n",
       "    <tr>\n",
       "      <th>75%</th>\n",
       "      <td>112500.250000</td>\n",
       "      <td>0.000000</td>\n",
       "      <td>0.559046</td>\n",
       "      <td>63.000000</td>\n",
       "      <td>0.000000</td>\n",
       "      <td>0.868254</td>\n",
       "      <td>8.249000e+03</td>\n",
       "      <td>11.000000</td>\n",
       "      <td>0.000000</td>\n",
       "      <td>2.000000</td>\n",
       "      <td>0.000000</td>\n",
       "      <td>1.000000</td>\n",
       "    </tr>\n",
       "    <tr>\n",
       "      <th>max</th>\n",
       "      <td>150000.000000</td>\n",
       "      <td>1.000000</td>\n",
       "      <td>50708.000000</td>\n",
       "      <td>109.000000</td>\n",
       "      <td>98.000000</td>\n",
       "      <td>329664.000000</td>\n",
       "      <td>3.008750e+06</td>\n",
       "      <td>58.000000</td>\n",
       "      <td>98.000000</td>\n",
       "      <td>54.000000</td>\n",
       "      <td>98.000000</td>\n",
       "      <td>20.000000</td>\n",
       "    </tr>\n",
       "  </tbody>\n",
       "</table>\n",
       "</div>"
      ],
      "text/plain": [
       "          Unnamed: 0  SeriousDlqin2yrs  RevolvingUtilizationOfUnsecuredLines  \\\n",
       "count  150000.000000     150000.000000                         150000.000000   \n",
       "mean    75000.500000          0.066840                              6.048438   \n",
       "std     43301.414527          0.249746                            249.755371   \n",
       "min         1.000000          0.000000                              0.000000   \n",
       "25%     37500.750000          0.000000                              0.029867   \n",
       "50%     75000.500000          0.000000                              0.154181   \n",
       "75%    112500.250000          0.000000                              0.559046   \n",
       "max    150000.000000          1.000000                          50708.000000   \n",
       "\n",
       "                 age  NumberOfTime30-59DaysPastDueNotWorse      DebtRatio  \\\n",
       "count  150000.000000                         150000.000000  150000.000000   \n",
       "mean       52.295207                              0.421033     353.005076   \n",
       "std        14.771866                              4.192781    2037.818523   \n",
       "min         0.000000                              0.000000       0.000000   \n",
       "25%        41.000000                              0.000000       0.175074   \n",
       "50%        52.000000                              0.000000       0.366508   \n",
       "75%        63.000000                              0.000000       0.868254   \n",
       "max       109.000000                             98.000000  329664.000000   \n",
       "\n",
       "       MonthlyIncome  NumberOfOpenCreditLinesAndLoans  \\\n",
       "count   1.202690e+05                    150000.000000   \n",
       "mean    6.670221e+03                         8.452760   \n",
       "std     1.438467e+04                         5.145951   \n",
       "min     0.000000e+00                         0.000000   \n",
       "25%     3.400000e+03                         5.000000   \n",
       "50%     5.400000e+03                         8.000000   \n",
       "75%     8.249000e+03                        11.000000   \n",
       "max     3.008750e+06                        58.000000   \n",
       "\n",
       "       NumberOfTimes90DaysLate  NumberRealEstateLoansOrLines  \\\n",
       "count            150000.000000                 150000.000000   \n",
       "mean                  0.265973                      1.018240   \n",
       "std                   4.169304                      1.129771   \n",
       "min                   0.000000                      0.000000   \n",
       "25%                   0.000000                      0.000000   \n",
       "50%                   0.000000                      1.000000   \n",
       "75%                   0.000000                      2.000000   \n",
       "max                  98.000000                     54.000000   \n",
       "\n",
       "       NumberOfTime60-89DaysPastDueNotWorse  NumberOfDependents  \n",
       "count                         150000.000000       146076.000000  \n",
       "mean                               0.240387            0.757222  \n",
       "std                                4.155179            1.115086  \n",
       "min                                0.000000            0.000000  \n",
       "25%                                0.000000            0.000000  \n",
       "50%                                0.000000            0.000000  \n",
       "75%                                0.000000            1.000000  \n",
       "max                               98.000000           20.000000  "
      ]
     },
     "execution_count": 5,
     "metadata": {},
     "output_type": "execute_result"
    }
   ],
   "source": [
    "df_train.describe()"
   ]
  },
  {
   "cell_type": "code",
   "execution_count": 6,
   "id": "7d8e227f-0d26-4057-941e-65cb4a502ee3",
   "metadata": {},
   "outputs": [
    {
     "data": {
      "text/plain": [
       "<seaborn.axisgrid.FacetGrid at 0x2e552a48b80>"
      ]
     },
     "execution_count": 6,
     "metadata": {},
     "output_type": "execute_result"
    },
    {
     "data": {
      "image/png": "[encoded data removed]",
      "text/plain": [
       "<Figure size 500x500 with 1 Axes>"
      ]
     },
     "metadata": {},
     "output_type": "display_data"
    }
   ],
   "source": [
    "sns.displot(x=df_train['RevolvingUtilizationOfUnsecuredLines'],bins=30)"
   ]
  },
  {
   "cell_type": "code",
   "execution_count": 7,
   "id": "9253d969-af46-40dd-a971-85ed7fde5e5a",
   "metadata": {},
   "outputs": [
    {
     "data": {
      "text/plain": [
       "RevolvingUtilizationOfUnsecuredLines\n",
       "0.000000                                10878\n",
       "1.000000                                10256\n",
       "1.000000                                   17\n",
       "0.950100                                    8\n",
       "0.007984                                    6\n",
       "                                        ...  \n",
       "0.066947                                    1\n",
       "0.066945                                    1\n",
       "0.066944                                    1\n",
       "0.066940                                    1\n",
       "50708.000000                                1\n",
       "Name: count, Length: 125728, dtype: int64"
      ]
     },
     "execution_count": 7,
     "metadata": {},
     "output_type": "execute_result"
    }
   ],
   "source": [
    "df_train[['RevolvingUtilizationOfUnsecuredLines']].value_counts()"
   ]
  },
  {
   "cell_type": "code",
   "execution_count": 8,
   "id": "f132f5e6-d453-4216-b546-c1486d7c02c9",
   "metadata": {},
   "outputs": [],
   "source": [
    "df_train.drop('Unnamed: 0',axis=1,inplace=True)"
   ]
  },
  {
   "cell_type": "code",
   "execution_count": 9,
   "id": "d2c7e571-05be-42e9-ab35-a60712725d4d",
   "metadata": {},
   "outputs": [
    {
     "data": {
      "image/png": "[encoded data removed]",
      "text/plain": [
       "<Figure size 500x500 with 1 Axes>"
      ]
     },
     "metadata": {},
     "output_type": "display_data"
    },
    {
     "data": {
      "image/png": "[encoded data removed]",
      "text/plain": [
       "<Figure size 500x500 with 1 Axes>"
      ]
     },
     "metadata": {},
     "output_type": "display_data"
    },
    {
     "data": {
      "image/png": "[encoded data removed]",
      "text/plain": [
       "<Figure size 500x500 with 1 Axes>"
      ]
     },
     "metadata": {},
     "output_type": "display_data"
    },
    {
     "data": {
      "image/png": "[encoded data removed]",
      "text/plain": [
       "<Figure size 500x500 with 1 Axes>"
      ]
     },
     "metadata": {},
     "output_type": "display_data"
    },
    {
     "data": {
      "image/png": "[encoded data removed]",
      "text/plain": [
       "<Figure size 500x500 with 1 Axes>"
      ]
     },
     "metadata": {},
     "output_type": "display_data"
    },
    {
     "data": {
      "image/png": "[encoded data removed]",
      "text/plain": [
       "<Figure size 500x500 with 1 Axes>"
      ]
     },
     "metadata": {},
     "output_type": "display_data"
    },
    {
     "data": {
      "image/png": "[encoded data removed]",
      "text/plain": [
       "<Figure size 500x500 with 1 Axes>"
      ]
     },
     "metadata": {},
     "output_type": "display_data"
    },
    {
     "data": {
      "image/png": "[encoded data removed]",
      "text/plain": [
       "<Figure size 500x500 with 1 Axes>"
      ]
     },
     "metadata": {},
     "output_type": "display_data"
    },
    {
     "data": {
      "image/png": "[encoded data removed]",
      "text/plain": [
       "<Figure size 500x500 with 1 Axes>"
      ]
     },
     "metadata": {},
     "output_type": "display_data"
    },
    {
     "data": {
      "image/png": "[encoded data removed]",
      "text/plain": [
       "<Figure size 500x500 with 1 Axes>"
      ]
     },
     "metadata": {},
     "output_type": "display_data"
    },
    {
     "data": {
      "image/png": "[encoded data removed]",
      "text/plain": [
       "<Figure size 500x500 with 1 Axes>"
      ]
     },
     "metadata": {},
     "output_type": "display_data"
    }
   ],
   "source": [
    "for x in df_train.columns:\n",
    "    sns.displot(df_train[x],bins=30)\n",
    "    plt.tight_layout()\n",
    "    plt.show()"
   ]
  },
  {
   "cell_type": "code",
   "execution_count": 10,
   "id": "6c7d20f5-687f-4cd1-aeb3-0b2b46a6e7b2",
   "metadata": {},
   "outputs": [],
   "source": [
    "df_corr = df_train.corr()"
   ]
  },
  {
   "cell_type": "code",
   "execution_count": 11,
   "id": "1d98076f-9718-4867-b2cf-56b45c7e0307",
   "metadata": {},
   "outputs": [
    {
     "data": {
      "text/plain": [
       "<Axes: >"
      ]
     },
     "execution_count": 11,
     "metadata": {},
     "output_type": "execute_result"
    },
    {
     "data": {
      "image/png": "[encoded data removed]",
      "text/plain": [
       "<Figure size 1200x1000 with 2 Axes>"
      ]
     },
     "metadata": {},
     "output_type": "display_data"
    }
   ],
   "source": [
    "plt.figure(figsize=(12,10))\n",
    "sns.heatmap(df_corr,annot=True,cmap='coolwarm')"
   ]
  },
  {
   "cell_type": "code",
   "execution_count": 12,
   "id": "81864aba-7efc-4334-a2ee-1dfd250e6c2f",
   "metadata": {},
   "outputs": [],
   "source": [
    "median_income = df_train['MonthlyIncome'].median()\n",
    "mode_dependants = df_train['NumberOfDependents'].mode()[0]"
   ]
  },
  {
   "cell_type": "code",
   "execution_count": 13,
   "id": "42317cd6-8d08-4d03-b395-27674f05ebf4",
   "metadata": {},
   "outputs": [
    {
     "name": "stderr",
     "output_type": "stream",
     "text": [
      "C:\\Users\\LAPTOP INSIDE\\AppData\\Local\\Temp\\ipykernel_6452\\2659022382.py:1: FutureWarning: A value is trying to be set on a copy of a DataFrame or Series through chained assignment using an inplace method.\n",
      "The behavior will change in pandas 3.0. This inplace method will never work because the intermediate object on which we are setting values always behaves as a copy.\n",
      "\n",
      "For example, when doing 'df[col].method(value, inplace=True)', try using 'df.method({col: value}, inplace=True)' or df[col] = df[col].method(value) instead, to perform the operation inplace on the original object.\n",
      "\n",
      "\n",
      "  df_train['MonthlyIncome'].fillna(median_income, inplace=True)\n",
      "C:\\Users\\LAPTOP INSIDE\\AppData\\Local\\Temp\\ipykernel_6452\\2659022382.py:2: FutureWarning: A value is trying to be set on a copy of a DataFrame or Series through chained assignment using an inplace method.\n",
      "The behavior will change in pandas 3.0. This inplace method will never work because the intermediate object on which we are setting values always behaves as a copy.\n",
      "\n",
      "For example, when doing 'df[col].method(value, inplace=True)', try using 'df.method({col: value}, inplace=True)' or df[col] = df[col].method(value) instead, to perform the operation inplace on the original object.\n",
      "\n",
      "\n",
      "  df_train['NumberOfDependents'].fillna(mode_dependants, inplace=True)\n"
     ]
    }
   ],
   "source": [
    "df_train['MonthlyIncome'].fillna(median_income, inplace=True)\n",
    "df_train['NumberOfDependents'].fillna(mode_dependants, inplace=True)"
   ]
  },
  {
   "cell_type": "code",
   "execution_count": 14,
   "id": "3a7533aa-66b2-4bed-9ce7-4b70c4c34eeb",
   "metadata": {},
   "outputs": [
    {
     "data": {
      "text/plain": [
       "SeriousDlqin2yrs                        0\n",
       "RevolvingUtilizationOfUnsecuredLines    0\n",
       "age                                     0\n",
       "NumberOfTime30-59DaysPastDueNotWorse    0\n",
       "DebtRatio                               0\n",
       "MonthlyIncome                           0\n",
       "NumberOfOpenCreditLinesAndLoans         0\n",
       "NumberOfTimes90DaysLate                 0\n",
       "NumberRealEstateLoansOrLines            0\n",
       "NumberOfTime60-89DaysPastDueNotWorse    0\n",
       "NumberOfDependents                      0\n",
       "dtype: int64"
      ]
     },
     "execution_count": 14,
     "metadata": {},
     "output_type": "execute_result"
    }
   ],
   "source": [
    "df_train.isnull().sum()"
   ]
  },
  {
   "cell_type": "code",
   "execution_count": 15,
   "id": "533c0a7d-447b-46c0-8801-9997b52d86c7",
   "metadata": {},
   "outputs": [
    {
     "data": {
      "text/plain": [
       "<Axes: xlabel='SeriousDlqin2yrs', ylabel='age'>"
      ]
     },
     "execution_count": 15,
     "metadata": {},
     "output_type": "execute_result"
    },
    {
     "data": {
      "image/png": "[encoded data removed]",
      "text/plain": [
       "<Figure size 640x480 with 1 Axes>"
      ]
     },
     "metadata": {},
     "output_type": "display_data"
    }
   ],
   "source": [
    "sns.boxplot(y=df_train['age'],x=df_train['SeriousDlqin2yrs'])"
   ]
  },
  {
   "cell_type": "code",
   "execution_count": 18,
   "id": "28d9bf41-4285-4656-b21e-aef651d37cb0",
   "metadata": {},
   "outputs": [
    {
     "data": {
      "text/plain": [
       "<Axes: xlabel='SeriousDlqin2yrs', ylabel='NumberOfTime30-59DaysPastDueNotWorse'>"
      ]
     },
     "execution_count": 18,
     "metadata": {},
     "output_type": "execute_result"
    },
    {
     "data": {
      "image/png": "[encoded data removed]",
      "text/plain": [
       "<Figure size 640x480 with 1 Axes>"
      ]
     },
     "metadata": {},
     "output_type": "display_data"
    }
   ],
   "source": [
    "sns.boxplot(x=df_train['SeriousDlqin2yrs'],y=df_train['NumberOfTime30-59DaysPastDueNotWorse'])"
   ]
  },
  {
   "cell_type": "code",
   "execution_count": 19,
   "id": "e1ee8bd6-b2ff-4ecf-8a0c-893d124e078b",
   "metadata": {},
   "outputs": [
    {
     "data": {
      "text/plain": [
       "<Axes: xlabel='SeriousDlqin2yrs', ylabel='NumberOfTime60-89DaysPastDueNotWorse'>"
      ]
     },
     "execution_count": 19,
     "metadata": {},
     "output_type": "execute_result"
    },
    {
     "data": {
      "image/png": "[encoded data removed]",
      "text/plain": [
       "<Figure size 640x480 with 1 Axes>"
      ]
     },
     "metadata": {},
     "output_type": "display_data"
    }
   ],
   "source": [
    "sns.boxplot(x=df_train['SeriousDlqin2yrs'],y=df_train['NumberOfTime60-89DaysPastDueNotWorse'])"
   ]
  },
  {
   "cell_type": "code",
   "execution_count": 20,
   "id": "646b3f27-5e4e-4471-9968-49962c85da8d",
   "metadata": {},
   "outputs": [
    {
     "data": {
      "text/plain": [
       "<Axes: xlabel='SeriousDlqin2yrs', ylabel='NumberOfTimes90DaysLate'>"
      ]
     },
     "execution_count": 20,
     "metadata": {},
     "output_type": "execute_result"
    },
    {
     "data": {
      "image/png": "[encoded data removed]",
      "text/plain": [
       "<Figure size 640x480 with 1 Axes>"
      ]
     },
     "metadata": {},
     "output_type": "display_data"
    }
   ],
   "source": [
    "sns.boxplot(x=df_train['SeriousDlqin2yrs'],y=df_train['NumberOfTimes90DaysLate'])"
   ]
  },
  {
   "cell_type": "code",
   "execution_count": 21,
   "id": "d9a2b3f3-8d7b-42ac-95ed-d2424da903c0",
   "metadata": {},
   "outputs": [
    {
     "data": {
      "text/plain": [
       "<Axes: xlabel='NumberOfTime30-59DaysPastDueNotWorse', ylabel='NumberOfTime60-89DaysPastDueNotWorse'>"
      ]
     },
     "execution_count": 21,
     "metadata": {},
     "output_type": "execute_result"
    },
    {
     "data": {
      "image/png": "[encoded data removed]",
      "text/plain": [
       "<Figure size 640x480 with 1 Axes>"
      ]
     },
     "metadata": {},
     "output_type": "display_data"
    }
   ],
   "source": [
    "sns.scatterplot(x=df_train['NumberOfTime30-59DaysPastDueNotWorse'],y=df_train['NumberOfTime60-89DaysPastDueNotWorse'])"
   ]
  },
  {
   "cell_type": "code",
   "execution_count": 22,
   "id": "e4a624dc-7e56-4e7c-8f94-53b653ca1c5c",
   "metadata": {},
   "outputs": [
    {
     "data": {
      "text/plain": [
       "<Axes: xlabel='NumberOfTime30-59DaysPastDueNotWorse', ylabel='NumberOfTimes90DaysLate'>"
      ]
     },
     "execution_count": 22,
     "metadata": {},
     "output_type": "execute_result"
    },
    {
     "data": {
      "image/png": "[encoded data removed]",
      "text/plain": [
       "<Figure size 640x480 with 1 Axes>"
      ]
     },
     "metadata": {},
     "output_type": "display_data"
    }
   ],
   "source": [
    "sns.scatterplot(x=df_train['NumberOfTime30-59DaysPastDueNotWorse'],y=df_train['NumberOfTimes90DaysLate'])"
   ]
  },
  {
   "cell_type": "code",
   "execution_count": 23,
   "id": "3130649a-90ef-498d-8565-cc0e70a9eef6",
   "metadata": {},
   "outputs": [
    {
     "data": {
      "text/plain": [
       "<Axes: xlabel='NumberOfTime60-89DaysPastDueNotWorse', ylabel='NumberOfTimes90DaysLate'>"
      ]
     },
     "execution_count": 23,
     "metadata": {},
     "output_type": "execute_result"
    },
    {
     "data": {
      "image/png": "[encoded data removed]",
      "text/plain": [
       "<Figure size 640x480 with 1 Axes>"
      ]
     },
     "metadata": {},
     "output_type": "display_data"
    }
   ],
   "source": [
    "sns.scatterplot(x=df_train['NumberOfTime60-89DaysPastDueNotWorse'],y=df_train['NumberOfTimes90DaysLate'])"
   ]
  },
  {
   "cell_type": "code",
   "execution_count": 24,
   "id": "2b4dbeca-02ff-4dda-b89f-ddaf60cce326",
   "metadata": {},
   "outputs": [],
   "source": [
    "df_train['RevolvingUtilizationOfUnsecuredLines_Log'] = np.log1p(df_train['RevolvingUtilizationOfUnsecuredLines'])"
   ]
  },
  {
   "cell_type": "code",
   "execution_count": 25,
   "id": "2229aa00-587c-4a43-8039-328507ba2524",
   "metadata": {},
   "outputs": [
    {
     "data": {
      "text/plain": [
       "<Axes: xlabel='SeriousDlqin2yrs', ylabel='RevolvingUtilizationOfUnsecuredLines_Log'>"
      ]
     },
     "execution_count": 25,
     "metadata": {},
     "output_type": "execute_result"
    },
    {
     "data": {
      "image/png": "[encoded data removed]",
      "text/plain": [
       "<Figure size 640x480 with 1 Axes>"
      ]
     },
     "metadata": {},
     "output_type": "display_data"
    }
   ],
   "source": [
    "sns.boxplot(x=df_train['SeriousDlqin2yrs'],y=df_train['RevolvingUtilizationOfUnsecuredLines_Log'])"
   ]
  },
  {
   "cell_type": "code",
   "execution_count": 26,
   "id": "fb5f7995-3594-478f-b02a-520b48b2b1c6",
   "metadata": {},
   "outputs": [
    {
     "data": {
      "text/plain": [
       "<Axes: xlabel='SeriousDlqin2yrs', ylabel='RevolvingUtilizationOfUnsecuredLines_Log'>"
      ]
     },
     "execution_count": 26,
     "metadata": {},
     "output_type": "execute_result"
    },
    {
     "data": {
      "image/png": "[encoded data removed]",
      "text/plain": [
       "<Figure size 640x480 with 1 Axes>"
      ]
     },
     "metadata": {},
     "output_type": "display_data"
    }
   ],
   "source": [
    "sns.violinplot(x=df_train['SeriousDlqin2yrs'],y=df_train['RevolvingUtilizationOfUnsecuredLines_Log'])"
   ]
  },
  {
   "cell_type": "code",
   "execution_count": 27,
   "id": "afb81f7a-ca87-4a7b-94ed-0b9be742ce44",
   "metadata": {},
   "outputs": [],
   "source": [
    "df_train['DebtRatio_Log'] = np.log1p(df_train['DebtRatio'])"
   ]
  },
  {
   "cell_type": "code",
   "execution_count": 28,
   "id": "a0057690-2042-47f9-a13e-ced9008bcaaf",
   "metadata": {},
   "outputs": [
    {
     "data": {
      "text/plain": [
       "<Axes: xlabel='SeriousDlqin2yrs', ylabel='DebtRatio_Log'>"
      ]
     },
     "execution_count": 28,
     "metadata": {},
     "output_type": "execute_result"
    },
    {
     "data": {
      "image/png": "[encoded data removed]",
      "text/plain": [
       "<Figure size 640x480 with 1 Axes>"
      ]
     },
     "metadata": {},
     "output_type": "display_data"
    }
   ],
   "source": [
    "sns.violinplot(x=df_train['SeriousDlqin2yrs'],y=df_train['DebtRatio_Log'])"
   ]
  },
  {
   "cell_type": "code",
   "execution_count": 29,
   "id": "a761c4db-9b32-410f-a02f-ea72de2e5930",
   "metadata": {},
   "outputs": [],
   "source": [
    "df_train['MonthlyIncome_Log'] = np.log1p(df_train['MonthlyIncome'])"
   ]
  },
  {
   "cell_type": "code",
   "execution_count": 30,
   "id": "e7c5267c-2f87-4392-9a33-27ea2f6ae74a",
   "metadata": {},
   "outputs": [
    {
     "data": {
      "text/plain": [
       "<Axes: xlabel='SeriousDlqin2yrs', ylabel='MonthlyIncome_Log'>"
      ]
     },
     "execution_count": 30,
     "metadata": {},
     "output_type": "execute_result"
    },
    {
     "data": {
      "image/png": "[encoded data removed]",
      "text/plain": [
       "<Figure size 640x480 with 1 Axes>"
      ]
     },
     "metadata": {},
     "output_type": "display_data"
    }
   ],
   "source": [
    "sns.violinplot(x=df_train['SeriousDlqin2yrs'],y=df_train['MonthlyIncome_Log'])"
   ]
  },
  {
   "cell_type": "code",
   "execution_count": 66,
   "id": "bc55d5b3-ca33-447a-85ed-d404e7805dc3",
   "metadata": {},
   "outputs": [],
   "source": [
    "df_clean = df_train.copy()"
   ]
  },
  {
   "cell_type": "code",
   "execution_count": 67,
   "id": "b31893a0-2285-4dd1-9a47-9ed0bcd0f131",
   "metadata": {},
   "outputs": [
    {
     "name": "stdout",
     "output_type": "stream",
     "text": [
      "52.295555303702024\n",
      "52.0\n"
     ]
    }
   ],
   "source": [
    "age_mean = df_train[df_train['age']>0]['age'].mean()\n",
    "print(age_mean)\n",
    "age_median = df_train[df_train['age']>0]['age'].median()\n",
    "print(age_median)"
   ]
  },
  {
   "cell_type": "code",
   "execution_count": 68,
   "id": "d58e6e69-3fd6-482f-8240-f9a9b0d92ef4",
   "metadata": {},
   "outputs": [],
   "source": [
    "df_clean['age'] = df_clean['age'].replace(0,age_mean)"
   ]
  },
  {
   "cell_type": "code",
   "execution_count": 69,
   "id": "98653bbf-c9ce-46e4-b1cd-075d98dcea44",
   "metadata": {},
   "outputs": [
    {
     "data": {
      "text/plain": [
       "21.0"
      ]
     },
     "execution_count": 69,
     "metadata": {},
     "output_type": "execute_result"
    }
   ],
   "source": [
    "df_clean['age'].min()"
   ]
  },
  {
   "cell_type": "code",
   "execution_count": 70,
   "id": "93cb8fee-5c73-463f-8e4e-103b02f77338",
   "metadata": {},
   "outputs": [
    {
     "data": {
      "text/html": [
       "<div>\n",
       "<style scoped>\n",
       "    .dataframe tbody tr th:only-of-type {\n",
       "        vertical-align: middle;\n",
       "    }\n",
       "\n",
       "    .dataframe tbody tr th {\n",
       "        vertical-align: top;\n",
       "    }\n",
       "\n",
       "    .dataframe thead th {\n",
       "        text-align: right;\n",
       "    }\n",
       "</style>\n",
       "<table border=\"1\" class=\"dataframe\">\n",
       "  <thead>\n",
       "    <tr style=\"text-align: right;\">\n",
       "      <th></th>\n",
       "      <th>SeriousDlqin2yrs</th>\n",
       "      <th>RevolvingUtilizationOfUnsecuredLines</th>\n",
       "      <th>age</th>\n",
       "      <th>NumberOfTime30-59DaysPastDueNotWorse</th>\n",
       "      <th>DebtRatio</th>\n",
       "      <th>MonthlyIncome</th>\n",
       "      <th>NumberOfOpenCreditLinesAndLoans</th>\n",
       "      <th>NumberOfTimes90DaysLate</th>\n",
       "      <th>NumberRealEstateLoansOrLines</th>\n",
       "      <th>NumberOfTime60-89DaysPastDueNotWorse</th>\n",
       "      <th>NumberOfDependents</th>\n",
       "      <th>RevolvingUtilizationOfUnsecuredLines_Log</th>\n",
       "      <th>DebtRatio_Log</th>\n",
       "      <th>MonthlyIncome_Log</th>\n",
       "    </tr>\n",
       "  </thead>\n",
       "  <tbody>\n",
       "    <tr>\n",
       "      <th>149995</th>\n",
       "      <td>0</td>\n",
       "      <td>0.040674</td>\n",
       "      <td>74.0</td>\n",
       "      <td>0</td>\n",
       "      <td>0.225131</td>\n",
       "      <td>2100.0</td>\n",
       "      <td>4</td>\n",
       "      <td>0</td>\n",
       "      <td>1</td>\n",
       "      <td>0</td>\n",
       "      <td>0.0</td>\n",
       "      <td>0.039868</td>\n",
       "      <td>0.203048</td>\n",
       "      <td>7.650169</td>\n",
       "    </tr>\n",
       "    <tr>\n",
       "      <th>149996</th>\n",
       "      <td>0</td>\n",
       "      <td>0.299745</td>\n",
       "      <td>44.0</td>\n",
       "      <td>0</td>\n",
       "      <td>0.716562</td>\n",
       "      <td>5584.0</td>\n",
       "      <td>4</td>\n",
       "      <td>0</td>\n",
       "      <td>1</td>\n",
       "      <td>0</td>\n",
       "      <td>2.0</td>\n",
       "      <td>0.262168</td>\n",
       "      <td>0.540324</td>\n",
       "      <td>8.627840</td>\n",
       "    </tr>\n",
       "    <tr>\n",
       "      <th>149997</th>\n",
       "      <td>0</td>\n",
       "      <td>0.246044</td>\n",
       "      <td>58.0</td>\n",
       "      <td>0</td>\n",
       "      <td>3870.000000</td>\n",
       "      <td>5400.0</td>\n",
       "      <td>18</td>\n",
       "      <td>0</td>\n",
       "      <td>1</td>\n",
       "      <td>0</td>\n",
       "      <td>0.0</td>\n",
       "      <td>0.219974</td>\n",
       "      <td>8.261268</td>\n",
       "      <td>8.594339</td>\n",
       "    </tr>\n",
       "    <tr>\n",
       "      <th>149998</th>\n",
       "      <td>0</td>\n",
       "      <td>0.000000</td>\n",
       "      <td>30.0</td>\n",
       "      <td>0</td>\n",
       "      <td>0.000000</td>\n",
       "      <td>5716.0</td>\n",
       "      <td>4</td>\n",
       "      <td>0</td>\n",
       "      <td>0</td>\n",
       "      <td>0</td>\n",
       "      <td>0.0</td>\n",
       "      <td>0.000000</td>\n",
       "      <td>0.000000</td>\n",
       "      <td>8.651199</td>\n",
       "    </tr>\n",
       "    <tr>\n",
       "      <th>149999</th>\n",
       "      <td>0</td>\n",
       "      <td>0.850283</td>\n",
       "      <td>64.0</td>\n",
       "      <td>0</td>\n",
       "      <td>0.249908</td>\n",
       "      <td>8158.0</td>\n",
       "      <td>8</td>\n",
       "      <td>0</td>\n",
       "      <td>2</td>\n",
       "      <td>0</td>\n",
       "      <td>0.0</td>\n",
       "      <td>0.615339</td>\n",
       "      <td>0.223070</td>\n",
       "      <td>9.006877</td>\n",
       "    </tr>\n",
       "  </tbody>\n",
       "</table>\n",
       "</div>"
      ],
      "text/plain": [
       "        SeriousDlqin2yrs  RevolvingUtilizationOfUnsecuredLines   age  \\\n",
       "149995                 0                              0.040674  74.0   \n",
       "149996                 0                              0.299745  44.0   \n",
       "149997                 0                              0.246044  58.0   \n",
       "149998                 0                              0.000000  30.0   \n",
       "149999                 0                              0.850283  64.0   \n",
       "\n",
       "        NumberOfTime30-59DaysPastDueNotWorse    DebtRatio  MonthlyIncome  \\\n",
       "149995                                     0     0.225131         2100.0   \n",
       "149996                                     0     0.716562         5584.0   \n",
       "149997                                     0  3870.000000         5400.0   \n",
       "149998                                     0     0.000000         5716.0   \n",
       "149999                                     0     0.249908         8158.0   \n",
       "\n",
       "        NumberOfOpenCreditLinesAndLoans  NumberOfTimes90DaysLate  \\\n",
       "149995                                4                        0   \n",
       "149996                                4                        0   \n",
       "149997                               18                        0   \n",
       "149998                                4                        0   \n",
       "149999                                8                        0   \n",
       "\n",
       "        NumberRealEstateLoansOrLines  NumberOfTime60-89DaysPastDueNotWorse  \\\n",
       "149995                             1                                     0   \n",
       "149996                             1                                     0   \n",
       "149997                             1                                     0   \n",
       "149998                             0                                     0   \n",
       "149999                             2                                     0   \n",
       "\n",
       "        NumberOfDependents  RevolvingUtilizationOfUnsecuredLines_Log  \\\n",
       "149995                 0.0                                  0.039868   \n",
       "149996                 2.0                                  0.262168   \n",
       "149997                 0.0                                  0.219974   \n",
       "149998                 0.0                                  0.000000   \n",
       "149999                 0.0                                  0.615339   \n",
       "\n",
       "        DebtRatio_Log  MonthlyIncome_Log  \n",
       "149995       0.203048           7.650169  \n",
       "149996       0.540324           8.627840  \n",
       "149997       8.261268           8.594339  \n",
       "149998       0.000000           8.651199  \n",
       "149999       0.223070           9.006877  "
      ]
     },
     "execution_count": 70,
     "metadata": {},
     "output_type": "execute_result"
    }
   ],
   "source": [
    "df_clean[df_clean['RevolvingUtilizationOfUnsecuredLines']<50708].tail()"
   ]
  },
  {
   "cell_type": "code",
   "execution_count": 71,
   "id": "a090b7a0-35c5-48a6-a8a2-f9d7d97887dd",
   "metadata": {},
   "outputs": [],
   "source": [
    "Q1_rev = df_clean['RevolvingUtilizationOfUnsecuredLines'].quantile(0.25)\n",
    "Q3_rev = df_clean['RevolvingUtilizationOfUnsecuredLines'].quantile(0.75)"
   ]
  },
  {
   "cell_type": "code",
   "execution_count": 72,
   "id": "341a0088-d29a-419e-aa34-0874ccc9b44d",
   "metadata": {},
   "outputs": [],
   "source": [
    "IQR_rev = Q3_rev - Q1_rev\n",
    "\n",
    "lower_bound_rev = Q1_rev - 1.5 * IQR_rev\n",
    "upper_bound_rev = Q3_rev + 1.5 * IQR_rev"
   ]
  },
  {
   "cell_type": "code",
   "execution_count": 73,
   "id": "c9384950-d06f-456f-8ee0-1a945e0f8333",
   "metadata": {},
   "outputs": [
    {
     "name": "stdout",
     "output_type": "stream",
     "text": [
      "lower bound: -0.7639007662499999\n",
      "upper bound: 1.35281445575\n"
     ]
    }
   ],
   "source": [
    "print('lower bound:',lower_bound_rev)\n",
    "print('upper bound:',upper_bound_rev)"
   ]
  },
  {
   "cell_type": "code",
   "execution_count": 74,
   "id": "7ddf7278-1863-43fd-8221-309e8a40fe47",
   "metadata": {},
   "outputs": [
    {
     "data": {
      "text/plain": [
       "763"
      ]
     },
     "execution_count": 74,
     "metadata": {},
     "output_type": "execute_result"
    }
   ],
   "source": [
    "(df_clean['RevolvingUtilizationOfUnsecuredLines']>upper_bound_rev).sum()"
   ]
  },
  {
   "cell_type": "code",
   "execution_count": 75,
   "id": "e399ae57-f758-47b6-b8c3-c5bbcf331163",
   "metadata": {},
   "outputs": [
    {
     "data": {
      "text/plain": [
       "0"
      ]
     },
     "execution_count": 75,
     "metadata": {},
     "output_type": "execute_result"
    }
   ],
   "source": [
    "(df_clean['RevolvingUtilizationOfUnsecuredLines']<lower_bound_rev).sum()"
   ]
  },
  {
   "cell_type": "code",
   "execution_count": 76,
   "id": "72a1a09f-25e3-4fd2-89bb-49f855999cea",
   "metadata": {},
   "outputs": [],
   "source": [
    "outlier_rev = df_clean[(df_clean['RevolvingUtilizationOfUnsecuredLines']<lower_bound_rev) | (df_clean['RevolvingUtilizationOfUnsecuredLines']>upper_bound_rev)]"
   ]
  },
  {
   "cell_type": "code",
   "execution_count": 77,
   "id": "4425116d-6e97-4b99-803a-ebfaa083b839",
   "metadata": {},
   "outputs": [
    {
     "data": {
      "text/plain": [
       "763"
      ]
     },
     "execution_count": 77,
     "metadata": {},
     "output_type": "execute_result"
    }
   ],
   "source": [
    "len(outlier_rev)"
   ]
  },
  {
   "cell_type": "code",
   "execution_count": 78,
   "id": "7cbccef2-e99a-4f24-81d5-515cbb793cf7",
   "metadata": {},
   "outputs": [
    {
     "data": {
      "text/plain": [
       "0.5086666666666666"
      ]
     },
     "execution_count": 78,
     "metadata": {},
     "output_type": "execute_result"
    }
   ],
   "source": [
    "len(outlier_rev) / len(df_clean) * 100"
   ]
  },
  {
   "cell_type": "code",
   "execution_count": 79,
   "id": "c76663c6-72e0-488f-bfda-a3af73528691",
   "metadata": {},
   "outputs": [],
   "source": [
    "non_outlier_rev = df_clean[df_clean['RevolvingUtilizationOfUnsecuredLines']<=upper_bound_rev]['RevolvingUtilizationOfUnsecuredLines']"
   ]
  },
  {
   "cell_type": "code",
   "execution_count": 80,
   "id": "f5621d8a-e1cd-443d-9d8f-40b5360fc0b1",
   "metadata": {},
   "outputs": [
    {
     "data": {
      "text/plain": [
       "1.352159468"
      ]
     },
     "execution_count": 80,
     "metadata": {},
     "output_type": "execute_result"
    }
   ],
   "source": [
    "non_outlier_rev.max()"
   ]
  },
  {
   "cell_type": "code",
   "execution_count": 81,
   "id": "272d0dd0-d0ca-4b13-b741-3dd9c9a6cae2",
   "metadata": {},
   "outputs": [
    {
     "data": {
      "text/plain": [
       "1.0294746967999993"
      ]
     },
     "execution_count": 81,
     "metadata": {},
     "output_type": "execute_result"
    }
   ],
   "source": [
    "upper_cap_rev = non_outlier_rev.quantile(0.99)\n",
    "upper_cap_rev"
   ]
  },
  {
   "cell_type": "code",
   "execution_count": 82,
   "id": "873f8b84-f8b2-49f7-84d2-8ee49303687a",
   "metadata": {},
   "outputs": [],
   "source": [
    "df_clean['RevolvingUtilizationOfUnsecuredLines'] = np.where(df_clean['RevolvingUtilizationOfUnsecuredLines']>upper_bound_rev,upper_cap_rev,df_clean['RevolvingUtilizationOfUnsecuredLines'])"
   ]
  },
  {
   "cell_type": "code",
   "execution_count": 83,
   "id": "40da998c-be02-4b5b-bf88-b9975530adf0",
   "metadata": {},
   "outputs": [
    {
     "data": {
      "text/plain": [
       "1.352159468"
      ]
     },
     "execution_count": 83,
     "metadata": {},
     "output_type": "execute_result"
    }
   ],
   "source": [
    "df_clean['RevolvingUtilizationOfUnsecuredLines'].max()"
   ]
  },
  {
   "cell_type": "code",
   "execution_count": 84,
   "id": "d72c57ad-bd2c-49af-9c20-0a66da039bba",
   "metadata": {},
   "outputs": [],
   "source": [
    "Q1_debt = df_clean['DebtRatio'].quantile(0.25)\n",
    "Q3_debt = df_clean['DebtRatio'].quantile(0.75)"
   ]
  },
  {
   "cell_type": "code",
   "execution_count": 85,
   "id": "ac4684cf-2469-44aa-b1c7-20209f13e4ba",
   "metadata": {},
   "outputs": [
    {
     "name": "stdout",
     "output_type": "stream",
     "text": [
      "lower bound: -0.8646960792499998\n",
      "upper bound: 1.9080236847499998\n"
     ]
    }
   ],
   "source": [
    "IQR_debt = Q3_debt - Q1_debt\n",
    "\n",
    "lower_bound_debt = Q1_debt - 1.5 * IQR_debt\n",
    "upper_bound_debt = Q3_debt + 1.5 * IQR_debt\n",
    "\n",
    "print('lower bound:',lower_bound_debt)\n",
    "print('upper bound:',upper_bound_debt)"
   ]
  },
  {
   "cell_type": "code",
   "execution_count": 86,
   "id": "29642761-9ac1-4dc5-b21c-7537c6493dc6",
   "metadata": {},
   "outputs": [],
   "source": [
    "outlier_debt = df_clean[(df_clean['DebtRatio'] < lower_bound_debt) | (df_clean['DebtRatio'] > upper_bound_debt)]"
   ]
  },
  {
   "cell_type": "code",
   "execution_count": 87,
   "id": "9abdf540-18e5-4a68-bbdb-44b3a245e52b",
   "metadata": {},
   "outputs": [
    {
     "data": {
      "text/plain": [
       "31311"
      ]
     },
     "execution_count": 87,
     "metadata": {},
     "output_type": "execute_result"
    }
   ],
   "source": [
    "len(outlier_debt)"
   ]
  },
  {
   "cell_type": "code",
   "execution_count": 88,
   "id": "5c8e4c4a-aca2-4087-952b-7845c4af52be",
   "metadata": {},
   "outputs": [
    {
     "data": {
      "text/plain": [
       "20.874000000000002"
      ]
     },
     "execution_count": 88,
     "metadata": {},
     "output_type": "execute_result"
    }
   ],
   "source": [
    "len(outlier_debt) / len(df_clean) * 100"
   ]
  },
  {
   "cell_type": "code",
   "execution_count": 89,
   "id": "af9ef921-3389-49cd-981d-1ff56b977c4a",
   "metadata": {},
   "outputs": [
    {
     "data": {
      "text/plain": [
       "1.3779645960399995"
      ]
     },
     "execution_count": 89,
     "metadata": {},
     "output_type": "execute_result"
    }
   ],
   "source": [
    "non_outlier_debt = df_clean[df_clean['DebtRatio'] <= upper_bound_debt]['DebtRatio']\n",
    "upper_cap_debt = non_outlier_debt.quantile(0.99)\n",
    "upper_cap_debt"
   ]
  },
  {
   "cell_type": "code",
   "execution_count": 90,
   "id": "4315cb99-45d8-48ea-8da5-7a40538f5f0e",
   "metadata": {},
   "outputs": [
    {
     "data": {
      "text/plain": [
       "329664.0"
      ]
     },
     "execution_count": 90,
     "metadata": {},
     "output_type": "execute_result"
    }
   ],
   "source": [
    "df_clean['DebtRatio'].max()"
   ]
  },
  {
   "cell_type": "code",
   "execution_count": 91,
   "id": "f816fce5-fa45-46fe-9dac-1bbeea7fdf53",
   "metadata": {},
   "outputs": [
    {
     "data": {
      "text/plain": [
       "1.906764531"
      ]
     },
     "execution_count": 91,
     "metadata": {},
     "output_type": "execute_result"
    }
   ],
   "source": [
    "df_clean['DebtRatio'] = np.where(df_clean['DebtRatio']>upper_bound_debt,upper_cap_debt,df_clean['DebtRatio'])\n",
    "df_clean['DebtRatio'].max()"
   ]
  },
  {
   "cell_type": "code",
   "execution_count": 92,
   "id": "54f75d92-f690-44bc-9dda-3955dd117b7a",
   "metadata": {},
   "outputs": [
    {
     "name": "stdout",
     "output_type": "stream",
     "text": [
      "3903.0\n",
      "7400.0\n",
      "3497.0\n"
     ]
    }
   ],
   "source": [
    "Q1_income = df_clean['MonthlyIncome'].quantile(0.25)\n",
    "Q3_income = df_clean['MonthlyIncome'].quantile(0.75)\n",
    "IQR_income = Q3_income - Q1_income\n",
    "print(Q1_income)\n",
    "print(Q3_income)\n",
    "print(IQR_income)"
   ]
  },
  {
   "cell_type": "code",
   "execution_count": 93,
   "id": "18526c0e-7598-4acd-a12f-6406970ad534",
   "metadata": {},
   "outputs": [
    {
     "name": "stdout",
     "output_type": "stream",
     "text": [
      "lower bound: -1342.5\n",
      "upper bound: 12645.5\n"
     ]
    }
   ],
   "source": [
    "upper_bound_income = Q3_income + 1.5 * IQR_income\n",
    "lower_bound_income = Q1_income - 1.5 * IQR_income\n",
    "print('lower bound:',lower_bound_income)\n",
    "print('upper bound:',upper_bound_income)"
   ]
  },
  {
   "cell_type": "code",
   "execution_count": 94,
   "id": "2c718ee6-8de1-4e87-94a4-7de7e12e6dce",
   "metadata": {},
   "outputs": [
    {
     "data": {
      "text/plain": [
       "9149"
      ]
     },
     "execution_count": 94,
     "metadata": {},
     "output_type": "execute_result"
    }
   ],
   "source": [
    "outlier_income = df_clean[(df_clean['MonthlyIncome']<lower_bound_income) | (df_clean['MonthlyIncome']>upper_bound_income)]\n",
    "len(outlier_income)"
   ]
  },
  {
   "cell_type": "code",
   "execution_count": 95,
   "id": "0346f2cb-0f68-451e-8225-40bbf1d6f6c3",
   "metadata": {},
   "outputs": [
    {
     "data": {
      "text/plain": [
       "12100.0"
      ]
     },
     "execution_count": 95,
     "metadata": {},
     "output_type": "execute_result"
    }
   ],
   "source": [
    "non_outlier_income = df_clean[df_clean['MonthlyIncome']<=upper_bound_income]['MonthlyIncome']\n",
    "upper_cap_income = non_outlier_income.quantile(0.99)\n",
    "upper_cap_income"
   ]
  },
  {
   "cell_type": "code",
   "execution_count": 96,
   "id": "8faafb1a-9376-488e-ae9c-b44096cf4785",
   "metadata": {},
   "outputs": [
    {
     "data": {
      "text/plain": [
       "12645.0"
      ]
     },
     "execution_count": 96,
     "metadata": {},
     "output_type": "execute_result"
    }
   ],
   "source": [
    "df_clean['MonthlyIncome'] = np.where(df_clean['MonthlyIncome']>upper_bound_income, upper_cap_income, df_clean['MonthlyIncome'])\n",
    "df_clean['MonthlyIncome'].max()"
   ]
  },
  {
   "cell_type": "code",
   "execution_count": 97,
   "id": "d3623d55-0c6d-40b4-a5ce-4a96bd9936c6",
   "metadata": {},
   "outputs": [],
   "source": [
    "dlqin_cols = ['NumberOfTime30-59DaysPastDueNotWorse','NumberOfTime60-89DaysPastDueNotWorse','NumberOfTimes90DaysLate']"
   ]
  },
  {
   "cell_type": "code",
   "execution_count": 98,
   "id": "6c9f2fac-ee0c-4875-9e7e-9803da5bf045",
   "metadata": {},
   "outputs": [
    {
     "name": "stdout",
     "output_type": "stream",
     "text": [
      "max value of NumberOfTime30-59DaysPastDueNotWorse is: 98\n",
      "max value of NumberOfTime60-89DaysPastDueNotWorse is: 98\n",
      "max value of NumberOfTimes90DaysLate is: 98\n"
     ]
    }
   ],
   "source": [
    "for col in dlqin_cols:\n",
    "    col_median = df_clean[col].median()\n",
    "    df_clean[col] = df_clean[col].replace(96,col_median)\n",
    "    print(f'max value of {col} is:',df_clean[col].max())"
   ]
  },
  {
   "cell_type": "code",
   "execution_count": 99,
   "id": "d3ab8397-2eea-4b4b-b74e-91c22424ae3e",
   "metadata": {},
   "outputs": [
    {
     "data": {
      "text/html": [
       "<div>\n",
       "<style scoped>\n",
       "    .dataframe tbody tr th:only-of-type {\n",
       "        vertical-align: middle;\n",
       "    }\n",
       "\n",
       "    .dataframe tbody tr th {\n",
       "        vertical-align: top;\n",
       "    }\n",
       "\n",
       "    .dataframe thead th {\n",
       "        text-align: right;\n",
       "    }\n",
       "</style>\n",
       "<table border=\"1\" class=\"dataframe\">\n",
       "  <thead>\n",
       "    <tr style=\"text-align: right;\">\n",
       "      <th></th>\n",
       "      <th>SeriousDlqin2yrs</th>\n",
       "      <th>RevolvingUtilizationOfUnsecuredLines</th>\n",
       "      <th>age</th>\n",
       "      <th>NumberOfTime30-59DaysPastDueNotWorse</th>\n",
       "      <th>DebtRatio</th>\n",
       "      <th>MonthlyIncome</th>\n",
       "      <th>NumberOfTimes90DaysLate</th>\n",
       "      <th>NumberOfTime60-89DaysPastDueNotWorse</th>\n",
       "      <th>RevolvingUtilizationOfUnsecuredLines_Log</th>\n",
       "      <th>DebtRatio_Log</th>\n",
       "      <th>MonthlyIncome_Log</th>\n",
       "    </tr>\n",
       "  </thead>\n",
       "  <tbody>\n",
       "    <tr>\n",
       "      <th>0</th>\n",
       "      <td>1</td>\n",
       "      <td>0.766127</td>\n",
       "      <td>45.0</td>\n",
       "      <td>2</td>\n",
       "      <td>0.802982</td>\n",
       "      <td>9120.0</td>\n",
       "      <td>0</td>\n",
       "      <td>0</td>\n",
       "      <td>0.568789</td>\n",
       "      <td>0.589442</td>\n",
       "      <td>9.118335</td>\n",
       "    </tr>\n",
       "    <tr>\n",
       "      <th>1</th>\n",
       "      <td>0</td>\n",
       "      <td>0.957151</td>\n",
       "      <td>40.0</td>\n",
       "      <td>0</td>\n",
       "      <td>0.121876</td>\n",
       "      <td>2600.0</td>\n",
       "      <td>0</td>\n",
       "      <td>0</td>\n",
       "      <td>0.671490</td>\n",
       "      <td>0.115002</td>\n",
       "      <td>7.863651</td>\n",
       "    </tr>\n",
       "    <tr>\n",
       "      <th>2</th>\n",
       "      <td>0</td>\n",
       "      <td>0.658180</td>\n",
       "      <td>38.0</td>\n",
       "      <td>1</td>\n",
       "      <td>0.085113</td>\n",
       "      <td>3042.0</td>\n",
       "      <td>1</td>\n",
       "      <td>0</td>\n",
       "      <td>0.505721</td>\n",
       "      <td>0.081684</td>\n",
       "      <td>8.020599</td>\n",
       "    </tr>\n",
       "    <tr>\n",
       "      <th>3</th>\n",
       "      <td>0</td>\n",
       "      <td>0.233810</td>\n",
       "      <td>30.0</td>\n",
       "      <td>0</td>\n",
       "      <td>0.036050</td>\n",
       "      <td>3300.0</td>\n",
       "      <td>0</td>\n",
       "      <td>0</td>\n",
       "      <td>0.210107</td>\n",
       "      <td>0.035415</td>\n",
       "      <td>8.101981</td>\n",
       "    </tr>\n",
       "    <tr>\n",
       "      <th>4</th>\n",
       "      <td>0</td>\n",
       "      <td>0.907239</td>\n",
       "      <td>49.0</td>\n",
       "      <td>1</td>\n",
       "      <td>0.024926</td>\n",
       "      <td>12100.0</td>\n",
       "      <td>0</td>\n",
       "      <td>0</td>\n",
       "      <td>0.645657</td>\n",
       "      <td>0.024620</td>\n",
       "      <td>11.060196</td>\n",
       "    </tr>\n",
       "  </tbody>\n",
       "</table>\n",
       "</div>"
      ],
      "text/plain": [
       "   SeriousDlqin2yrs  RevolvingUtilizationOfUnsecuredLines   age  \\\n",
       "0                 1                              0.766127  45.0   \n",
       "1                 0                              0.957151  40.0   \n",
       "2                 0                              0.658180  38.0   \n",
       "3                 0                              0.233810  30.0   \n",
       "4                 0                              0.907239  49.0   \n",
       "\n",
       "   NumberOfTime30-59DaysPastDueNotWorse  DebtRatio  MonthlyIncome  \\\n",
       "0                                     2   0.802982         9120.0   \n",
       "1                                     0   0.121876         2600.0   \n",
       "2                                     1   0.085113         3042.0   \n",
       "3                                     0   0.036050         3300.0   \n",
       "4                                     1   0.024926        12100.0   \n",
       "\n",
       "   NumberOfTimes90DaysLate  NumberOfTime60-89DaysPastDueNotWorse  \\\n",
       "0                        0                                     0   \n",
       "1                        0                                     0   \n",
       "2                        1                                     0   \n",
       "3                        0                                     0   \n",
       "4                        0                                     0   \n",
       "\n",
       "   RevolvingUtilizationOfUnsecuredLines_Log  DebtRatio_Log  MonthlyIncome_Log  \n",
       "0                                  0.568789       0.589442           9.118335  \n",
       "1                                  0.671490       0.115002           7.863651  \n",
       "2                                  0.505721       0.081684           8.020599  \n",
       "3                                  0.210107       0.035415           8.101981  \n",
       "4                                  0.645657       0.024620          11.060196  "
      ]
     },
     "execution_count": 99,
     "metadata": {},
     "output_type": "execute_result"
    }
   ],
   "source": [
    "df_clean.drop(['NumberOfOpenCreditLinesAndLoans','NumberRealEstateLoansOrLines','NumberOfDependents'],axis=1,inplace=True)\n",
    "df_clean.head()"
   ]
  },
  {
   "cell_type": "code",
   "execution_count": 65,
   "id": "e5beb174-7940-4f49-bb0d-70899514bd39",
   "metadata": {},
   "outputs": [],
   "source": [
    "from imblearn import under_sampling, over_sampling\n",
    "from imblearn.over_sampling import SMOTE"
   ]
  },
  {
   "cell_type": "code",
   "execution_count": 108,
   "id": "de465361-ad90-4766-aebd-73b330c2a4d6",
   "metadata": {},
   "outputs": [],
   "source": [
    "from sklearn.model_selection import train_test_split"
   ]
  },
  {
   "cell_type": "code",
   "execution_count": 109,
   "id": "e3a5502b-eafb-4123-83fc-b45652155a6f",
   "metadata": {},
   "outputs": [],
   "source": [
    "X = df_clean.drop('SeriousDlqin2yrs',axis=1)\n",
    "y = df_clean['SeriousDlqin2yrs']"
   ]
  },
  {
   "cell_type": "code",
   "execution_count": 116,
   "id": "fa14af6d-9e26-48d1-b3ac-cd5b778f667c",
   "metadata": {},
   "outputs": [],
   "source": [
    "X_train, X_test, y_train, y_test = train_test_split(X, y, test_size=0.2, random_state=42, stratify=y)"
   ]
  },
  {
   "cell_type": "code",
   "execution_count": 117,
   "id": "8fb87716-50f4-4ef5-be2f-cbabb77b80fa",
   "metadata": {},
   "outputs": [
    {
     "name": "stdout",
     "output_type": "stream",
     "text": [
      "size of X_train: (120000, 10)\n",
      "size of X_test: (30000, 10)\n",
      "size of y_train: (120000,)\n",
      "size of y_test: (30000,)\n"
     ]
    }
   ],
   "source": [
    "print('size of X_train:',X_train.shape)\n",
    "print('size of X_test:',X_test.shape)\n",
    "print('size of y_train:',y_train.shape)\n",
    "print('size of y_test:',y_test.shape)"
   ]
  },
  {
   "cell_type": "code",
   "execution_count": 118,
   "id": "7df13ecc-2dcd-4460-aa46-bcfb94ccc7ab",
   "metadata": {},
   "outputs": [
    {
     "data": {
      "text/plain": [
       "SeriousDlqin2yrs\n",
       "0    111979\n",
       "1      8021\n",
       "Name: count, dtype: int64"
      ]
     },
     "execution_count": 118,
     "metadata": {},
     "output_type": "execute_result"
    }
   ],
   "source": [
    "y_train.value_counts()"
   ]
  },
  {
   "cell_type": "code",
   "execution_count": 119,
   "id": "c58b26c0-6964-4a33-b9e5-44026d57cef6",
   "metadata": {},
   "outputs": [
    {
     "data": {
      "text/plain": [
       "SeriousDlqin2yrs\n",
       "0    27995\n",
       "1     2005\n",
       "Name: count, dtype: int64"
      ]
     },
     "execution_count": 119,
     "metadata": {},
     "output_type": "execute_result"
    }
   ],
   "source": [
    "y_test.value_counts()"
   ]
  },
  {
   "cell_type": "code",
   "execution_count": 120,
   "id": "cb2819cc-78c8-4af3-a6ad-4eb41a7d6c21",
   "metadata": {},
   "outputs": [],
   "source": [
    "smote = SMOTE(random_state=42)"
   ]
  },
  {
   "cell_type": "code",
   "execution_count": 121,
   "id": "6a0ed143-e668-440b-8a6d-a6f98d26001e",
   "metadata": {},
   "outputs": [
    {
     "name": "stderr",
     "output_type": "stream",
     "text": [
      "F:\\anaconda\\envs\\AI_env\\lib\\site-packages\\sklearn\\base.py:474: FutureWarning: `BaseEstimator._validate_data` is deprecated in 1.6 and will be removed in 1.7. Use `sklearn.utils.validation.validate_data` instead. This function becomes public and is part of the scikit-learn developer API.\n",
      "  warnings.warn(\n"
     ]
    }
   ],
   "source": [
    "X_train_resampled, y_train_resampled = smote.fit_resample(X_train,y_train)"
   ]
  },
  {
   "cell_type": "code",
   "execution_count": 122,
   "id": "eb26a547-3251-4854-908d-29096439394f",
   "metadata": {},
   "outputs": [],
   "source": [
    "df_train_resampled = pd.DataFrame(X_train_resampled, columns=X_train.columns)\n",
    "df_train_resampled['SeriousDlqin2yrs'] = y_train_resampled"
   ]
  },
  {
   "cell_type": "code",
   "execution_count": 123,
   "id": "5e476e69-3ae5-4af6-84d5-c6492d9ee2df",
   "metadata": {},
   "outputs": [
    {
     "name": "stdout",
     "output_type": "stream",
     "text": [
      "Shape of original cleaned training data: (150000, 11)\n",
      "Shape of resampled training data: (223958, 11)\n",
      "\n",
      "Class distribution before SMOTE:\n",
      "SeriousDlqin2yrs\n",
      "0    111979\n",
      "1      8021\n",
      "Name: count, dtype: int64\n",
      "\n",
      "Class distribution after SMOTE:\n",
      "SeriousDlqin2yrs\n",
      "0    111979\n",
      "1    111979\n",
      "Name: count, dtype: int64\n"
     ]
    }
   ],
   "source": [
    "print(\"Shape of original cleaned training data:\", df_clean.shape)\n",
    "print(\"Shape of resampled training data:\", df_train_resampled.shape)\n",
    "print(\"\\nClass distribution before SMOTE:\")\n",
    "print(y_train.value_counts())\n",
    "print(\"\\nClass distribution after SMOTE:\")\n",
    "print(y_train_resampled.value_counts())"
   ]
  },
  {
   "cell_type": "code",
   "execution_count": 125,
   "id": "17bc2439-c434-4165-b3c4-f71712626130",
   "metadata": {},
   "outputs": [
    {
     "name": "stdout",
     "output_type": "stream",
     "text": [
      "<class 'pandas.core.frame.DataFrame'>\n",
      "RangeIndex: 223958 entries, 0 to 223957\n",
      "Data columns (total 11 columns):\n",
      " #   Column                                    Non-Null Count   Dtype  \n",
      "---  ------                                    --------------   -----  \n",
      " 0   RevolvingUtilizationOfUnsecuredLines      223958 non-null  float64\n",
      " 1   age                                       223958 non-null  float64\n",
      " 2   NumberOfTime30-59DaysPastDueNotWorse      223958 non-null  int64  \n",
      " 3   DebtRatio                                 223958 non-null  float64\n",
      " 4   MonthlyIncome                             223958 non-null  float64\n",
      " 5   NumberOfTimes90DaysLate                   223958 non-null  int64  \n",
      " 6   NumberOfTime60-89DaysPastDueNotWorse      223958 non-null  int64  \n",
      " 7   RevolvingUtilizationOfUnsecuredLines_Log  223958 non-null  float64\n",
      " 8   DebtRatio_Log                             223958 non-null  float64\n",
      " 9   MonthlyIncome_Log                         223958 non-null  float64\n",
      " 10  SeriousDlqin2yrs                          223958 non-null  int64  \n",
      "dtypes: float64(7), int64(4)\n",
      "memory usage: 18.8 MB\n"
     ]
    }
   ],
   "source": [
    "df_train_resampled.info()"
   ]
  },
  {
   "cell_type": "code",
   "execution_count": 131,
   "id": "1039eb5e-c586-4a48-973d-70e7b58936c9",
   "metadata": {},
   "outputs": [],
   "source": [
    "import xgboost as xgb\n",
    "from sklearn.metrics import classification_report, roc_auc_score, confusion_matrix"
   ]
  },
  {
   "cell_type": "code",
   "execution_count": 128,
   "id": "7847fcb4-f11d-4793-a5f0-68e702c60dc5",
   "metadata": {},
   "outputs": [],
   "source": [
    "xgb_model = xgb.XGBClassifier(random_state=42, use_label_encoder=False, eval_metric='logloss')"
   ]
  },
  {
   "cell_type": "code",
   "execution_count": 129,
   "id": "425df3a7-d9d1-45e2-9d00-36fe4a336a7f",
   "metadata": {},
   "outputs": [
    {
     "name": "stderr",
     "output_type": "stream",
     "text": [
      "F:\\anaconda\\envs\\AI_env\\lib\\site-packages\\xgboost\\core.py:158: UserWarning: [14:48:38] WARNING: C:\\buildkite-agent\\builds\\buildkite-windows-cpu-autoscaling-group-i-08cbc0333d8d4aae1-1\\xgboost\\xgboost-ci-windows\\src\\learner.cc:740: \n",
      "Parameters: { \"use_label_encoder\" } are not used.\n",
      "\n",
      "  warnings.warn(smsg, UserWarning)\n"
     ]
    },
    {
     "data": {
      "text/html": [
       "<style>#sk-container-id-1 {\n",
       "  /* Definition of color scheme common for light and dark mode */\n",
       "  --sklearn-color-text: #000;\n",
       "  --sklearn-color-text-muted: #666;\n",
       "  --sklearn-color-line: gray;\n",
       "  /* Definition of color scheme for unfitted estimators */\n",
       "  --sklearn-color-unfitted-level-0: #fff5e6;\n",
       "  --sklearn-color-unfitted-level-1: #f6e4d2;\n",
       "  --sklearn-color-unfitted-level-2: #ffe0b3;\n",
       "  --sklearn-color-unfitted-level-3: chocolate;\n",
       "  /* Definition of color scheme for fitted estimators */\n",
       "  --sklearn-color-fitted-level-0: #f0f8ff;\n",
       "  --sklearn-color-fitted-level-1: #d4ebff;\n",
       "  --sklearn-color-fitted-level-2: #b3dbfd;\n",
       "  --sklearn-color-fitted-level-3: cornflowerblue;\n",
       "\n",
       "  /* Specific color for light theme */\n",
       "  --sklearn-color-text-on-default-background: var(--sg-text-color, var(--theme-code-foreground, var(--jp-content-font-color1, black)));\n",
       "  --sklearn-color-background: var(--sg-background-color, var(--theme-background, var(--jp-layout-color0, white)));\n",
       "  --sklearn-color-border-box: var(--sg-text-color, var(--theme-code-foreground, var(--jp-content-font-color1, black)));\n",
       "  --sklearn-color-icon: #696969;\n",
       "\n",
       "  @media (prefers-color-scheme: dark) {\n",
       "    /* Redefinition of color scheme for dark theme */\n",
       "    --sklearn-color-text-on-default-background: var(--sg-text-color, var(--theme-code-foreground, var(--jp-content-font-color1, white)));\n",
       "    --sklearn-color-background: var(--sg-background-color, var(--theme-background, var(--jp-layout-color0, #111)));\n",
       "    --sklearn-color-border-box: var(--sg-text-color, var(--theme-code-foreground, var(--jp-content-font-color1, white)));\n",
       "    --sklearn-color-icon: #878787;\n",
       "  }\n",
       "}\n",
       "\n",
       "#sk-container-id-1 {\n",
       "  color: var(--sklearn-color-text);\n",
       "}\n",
       "\n",
       "#sk-container-id-1 pre {\n",
       "  padding: 0;\n",
       "}\n",
       "\n",
       "#sk-container-id-1 input.sk-hidden--visually {\n",
       "  border: 0;\n",
       "  clip: rect(1px 1px 1px 1px);\n",
       "  clip: rect(1px, 1px, 1px, 1px);\n",
       "  height: 1px;\n",
       "  margin: -1px;\n",
       "  overflow: hidden;\n",
       "  padding: 0;\n",
       "  position: absolute;\n",
       "  width: 1px;\n",
       "}\n",
       "\n",
       "#sk-container-id-1 div.sk-dashed-wrapped {\n",
       "  border: 1px dashed var(--sklearn-color-line);\n",
       "  margin: 0 0.4em 0.5em 0.4em;\n",
       "  box-sizing: border-box;\n",
       "  padding-bottom: 0.4em;\n",
       "  background-color: var(--sklearn-color-background);\n",
       "}\n",
       "\n",
       "#sk-container-id-1 div.sk-container {\n",
       "  /* jupyter's `normalize.less` sets `[hidden] { display: none; }`\n",
       "     but bootstrap.min.css set `[hidden] { display: none !important; }`\n",
       "     so we also need the `!important` here to be able to override the\n",
       "     default hidden behavior on the sphinx rendered scikit-learn.org.\n",
       "     See: https://github.com/scikit-learn/scikit-learn/issues/21755 */\n",
       "  display: inline-block !important;\n",
       "  position: relative;\n",
       "}\n",
       "\n",
       "#sk-container-id-1 div.sk-text-repr-fallback {\n",
       "  display: none;\n",
       "}\n",
       "\n",
       "div.sk-parallel-item,\n",
       "div.sk-serial,\n",
       "div.sk-item {\n",
       "  /* draw centered vertical line to link estimators */\n",
       "  background-image: linear-gradient(var(--sklearn-color-text-on-default-background), var(--sklearn-color-text-on-default-background));\n",
       "  background-size: 2px 100%;\n",
       "  background-repeat: no-repeat;\n",
       "  background-position: center center;\n",
       "}\n",
       "\n",
       "/* Parallel-specific style estimator block */\n",
       "\n",
       "#sk-container-id-1 div.sk-parallel-item::after {\n",
       "  content: \"\";\n",
       "  width: 100%;\n",
       "  border-bottom: 2px solid var(--sklearn-color-text-on-default-background);\n",
       "  flex-grow: 1;\n",
       "}\n",
       "\n",
       "#sk-container-id-1 div.sk-parallel {\n",
       "  display: flex;\n",
       "  align-items: stretch;\n",
       "  justify-content: center;\n",
       "  background-color: var(--sklearn-color-background);\n",
       "  position: relative;\n",
       "}\n",
       "\n",
       "#sk-container-id-1 div.sk-parallel-item {\n",
       "  display: flex;\n",
       "  flex-direction: column;\n",
       "}\n",
       "\n",
       "#sk-container-id-1 div.sk-parallel-item:first-child::after {\n",
       "  align-self: flex-end;\n",
       "  width: 50%;\n",
       "}\n",
       "\n",
       "#sk-container-id-1 div.sk-parallel-item:last-child::after {\n",
       "  align-self: flex-start;\n",
       "  width: 50%;\n",
       "}\n",
       "\n",
       "#sk-container-id-1 div.sk-parallel-item:only-child::after {\n",
       "  width: 0;\n",
       "}\n",
       "\n",
       "/* Serial-specific style estimator block */\n",
       "\n",
       "#sk-container-id-1 div.sk-serial {\n",
       "  display: flex;\n",
       "  flex-direction: column;\n",
       "  align-items: center;\n",
       "  background-color: var(--sklearn-color-background);\n",
       "  padding-right: 1em;\n",
       "  padding-left: 1em;\n",
       "}\n",
       "\n",
       "\n",
       "/* Toggleable style: style used for estimator/Pipeline/ColumnTransformer box that is\n",
       "clickable and can be expanded/collapsed.\n",
       "- Pipeline and ColumnTransformer use this feature and define the default style\n",
       "- Estimators will overwrite some part of the style using the `sk-estimator` class\n",
       "*/\n",
       "\n",
       "/* Pipeline and ColumnTransformer style (default) */\n",
       "\n",
       "#sk-container-id-1 div.sk-toggleable {\n",
       "  /* Default theme specific background. It is overwritten whether we have a\n",
       "  specific estimator or a Pipeline/ColumnTransformer */\n",
       "  background-color: var(--sklearn-color-background);\n",
       "}\n",
       "\n",
       "/* Toggleable label */\n",
       "#sk-container-id-1 label.sk-toggleable__label {\n",
       "  cursor: pointer;\n",
       "  display: flex;\n",
       "  width: 100%;\n",
       "  margin-bottom: 0;\n",
       "  padding: 0.5em;\n",
       "  box-sizing: border-box;\n",
       "  text-align: center;\n",
       "  align-items: start;\n",
       "  justify-content: space-between;\n",
       "  gap: 0.5em;\n",
       "}\n",
       "\n",
       "#sk-container-id-1 label.sk-toggleable__label .caption {\n",
       "  font-size: 0.6rem;\n",
       "  font-weight: lighter;\n",
       "  color: var(--sklearn-color-text-muted);\n",
       "}\n",
       "\n",
       "#sk-container-id-1 label.sk-toggleable__label-arrow:before {\n",
       "  /* Arrow on the left of the label */\n",
       "  content: \"▸\";\n",
       "  float: left;\n",
       "  margin-right: 0.25em;\n",
       "  color: var(--sklearn-color-icon);\n",
       "}\n",
       "\n",
       "#sk-container-id-1 label.sk-toggleable__label-arrow:hover:before {\n",
       "  color: var(--sklearn-color-text);\n",
       "}\n",
       "\n",
       "/* Toggleable content - dropdown */\n",
       "\n",
       "#sk-container-id-1 div.sk-toggleable__content {\n",
       "  max-height: 0;\n",
       "  max-width: 0;\n",
       "  overflow: hidden;\n",
       "  text-align: left;\n",
       "  /* unfitted */\n",
       "  background-color: var(--sklearn-color-unfitted-level-0);\n",
       "}\n",
       "\n",
       "#sk-container-id-1 div.sk-toggleable__content.fitted {\n",
       "  /* fitted */\n",
       "  background-color: var(--sklearn-color-fitted-level-0);\n",
       "}\n",
       "\n",
       "#sk-container-id-1 div.sk-toggleable__content pre {\n",
       "  margin: 0.2em;\n",
       "  border-radius: 0.25em;\n",
       "  color: var(--sklearn-color-text);\n",
       "  /* unfitted */\n",
       "  background-color: var(--sklearn-color-unfitted-level-0);\n",
       "}\n",
       "\n",
       "#sk-container-id-1 div.sk-toggleable__content.fitted pre {\n",
       "  /* unfitted */\n",
       "  background-color: var(--sklearn-color-fitted-level-0);\n",
       "}\n",
       "\n",
       "#sk-container-id-1 input.sk-toggleable__control:checked~div.sk-toggleable__content {\n",
       "  /* Expand drop-down */\n",
       "  max-height: 200px;\n",
       "  max-width: 100%;\n",
       "  overflow: auto;\n",
       "}\n",
       "\n",
       "#sk-container-id-1 input.sk-toggleable__control:checked~label.sk-toggleable__label-arrow:before {\n",
       "  content: \"▾\";\n",
       "}\n",
       "\n",
       "/* Pipeline/ColumnTransformer-specific style */\n",
       "\n",
       "#sk-container-id-1 div.sk-label input.sk-toggleable__control:checked~label.sk-toggleable__label {\n",
       "  color: var(--sklearn-color-text);\n",
       "  background-color: var(--sklearn-color-unfitted-level-2);\n",
       "}\n",
       "\n",
       "#sk-container-id-1 div.sk-label.fitted input.sk-toggleable__control:checked~label.sk-toggleable__label {\n",
       "  background-color: var(--sklearn-color-fitted-level-2);\n",
       "}\n",
       "\n",
       "/* Estimator-specific style */\n",
       "\n",
       "/* Colorize estimator box */\n",
       "#sk-container-id-1 div.sk-estimator input.sk-toggleable__control:checked~label.sk-toggleable__label {\n",
       "  /* unfitted */\n",
       "  background-color: var(--sklearn-color-unfitted-level-2);\n",
       "}\n",
       "\n",
       "#sk-container-id-1 div.sk-estimator.fitted input.sk-toggleable__control:checked~label.sk-toggleable__label {\n",
       "  /* fitted */\n",
       "  background-color: var(--sklearn-color-fitted-level-2);\n",
       "}\n",
       "\n",
       "#sk-container-id-1 div.sk-label label.sk-toggleable__label,\n",
       "#sk-container-id-1 div.sk-label label {\n",
       "  /* The background is the default theme color */\n",
       "  color: var(--sklearn-color-text-on-default-background);\n",
       "}\n",
       "\n",
       "/* On hover, darken the color of the background */\n",
       "#sk-container-id-1 div.sk-label:hover label.sk-toggleable__label {\n",
       "  color: var(--sklearn-color-text);\n",
       "  background-color: var(--sklearn-color-unfitted-level-2);\n",
       "}\n",
       "\n",
       "/* Label box, darken color on hover, fitted */\n",
       "#sk-container-id-1 div.sk-label.fitted:hover label.sk-toggleable__label.fitted {\n",
       "  color: var(--sklearn-color-text);\n",
       "  background-color: var(--sklearn-color-fitted-level-2);\n",
       "}\n",
       "\n",
       "/* Estimator label */\n",
       "\n",
       "#sk-container-id-1 div.sk-label label {\n",
       "  font-family: monospace;\n",
       "  font-weight: bold;\n",
       "  display: inline-block;\n",
       "  line-height: 1.2em;\n",
       "}\n",
       "\n",
       "#sk-container-id-1 div.sk-label-container {\n",
       "  text-align: center;\n",
       "}\n",
       "\n",
       "/* Estimator-specific */\n",
       "#sk-container-id-1 div.sk-estimator {\n",
       "  font-family: monospace;\n",
       "  border: 1px dotted var(--sklearn-color-border-box);\n",
       "  border-radius: 0.25em;\n",
       "  box-sizing: border-box;\n",
       "  margin-bottom: 0.5em;\n",
       "  /* unfitted */\n",
       "  background-color: var(--sklearn-color-unfitted-level-0);\n",
       "}\n",
       "\n",
       "#sk-container-id-1 div.sk-estimator.fitted {\n",
       "  /* fitted */\n",
       "  background-color: var(--sklearn-color-fitted-level-0);\n",
       "}\n",
       "\n",
       "/* on hover */\n",
       "#sk-container-id-1 div.sk-estimator:hover {\n",
       "  /* unfitted */\n",
       "  background-color: var(--sklearn-color-unfitted-level-2);\n",
       "}\n",
       "\n",
       "#sk-container-id-1 div.sk-estimator.fitted:hover {\n",
       "  /* fitted */\n",
       "  background-color: var(--sklearn-color-fitted-level-2);\n",
       "}\n",
       "\n",
       "/* Specification for estimator info (e.g. \"i\" and \"?\") */\n",
       "\n",
       "/* Common style for \"i\" and \"?\" */\n",
       "\n",
       ".sk-estimator-doc-link,\n",
       "a:link.sk-estimator-doc-link,\n",
       "a:visited.sk-estimator-doc-link {\n",
       "  float: right;\n",
       "  font-size: smaller;\n",
       "  line-height: 1em;\n",
       "  font-family: monospace;\n",
       "  background-color: var(--sklearn-color-background);\n",
       "  border-radius: 1em;\n",
       "  height: 1em;\n",
       "  width: 1em;\n",
       "  text-decoration: none !important;\n",
       "  margin-left: 0.5em;\n",
       "  text-align: center;\n",
       "  /* unfitted */\n",
       "  border: var(--sklearn-color-unfitted-level-1) 1pt solid;\n",
       "  color: var(--sklearn-color-unfitted-level-1);\n",
       "}\n",
       "\n",
       ".sk-estimator-doc-link.fitted,\n",
       "a:link.sk-estimator-doc-link.fitted,\n",
       "a:visited.sk-estimator-doc-link.fitted {\n",
       "  /* fitted */\n",
       "  border: var(--sklearn-color-fitted-level-1) 1pt solid;\n",
       "  color: var(--sklearn-color-fitted-level-1);\n",
       "}\n",
       "\n",
       "/* On hover */\n",
       "div.sk-estimator:hover .sk-estimator-doc-link:hover,\n",
       ".sk-estimator-doc-link:hover,\n",
       "div.sk-label-container:hover .sk-estimator-doc-link:hover,\n",
       ".sk-estimator-doc-link:hover {\n",
       "  /* unfitted */\n",
       "  background-color: var(--sklearn-color-unfitted-level-3);\n",
       "  color: var(--sklearn-color-background);\n",
       "  text-decoration: none;\n",
       "}\n",
       "\n",
       "div.sk-estimator.fitted:hover .sk-estimator-doc-link.fitted:hover,\n",
       ".sk-estimator-doc-link.fitted:hover,\n",
       "div.sk-label-container:hover .sk-estimator-doc-link.fitted:hover,\n",
       ".sk-estimator-doc-link.fitted:hover {\n",
       "  /* fitted */\n",
       "  background-color: var(--sklearn-color-fitted-level-3);\n",
       "  color: var(--sklearn-color-background);\n",
       "  text-decoration: none;\n",
       "}\n",
       "\n",
       "/* Span, style for the box shown on hovering the info icon */\n",
       ".sk-estimator-doc-link span {\n",
       "  display: none;\n",
       "  z-index: 9999;\n",
       "  position: relative;\n",
       "  font-weight: normal;\n",
       "  right: .2ex;\n",
       "  padding: .5ex;\n",
       "  margin: .5ex;\n",
       "  width: min-content;\n",
       "  min-width: 20ex;\n",
       "  max-width: 50ex;\n",
       "  color: var(--sklearn-color-text);\n",
       "  box-shadow: 2pt 2pt 4pt #999;\n",
       "  /* unfitted */\n",
       "  background: var(--sklearn-color-unfitted-level-0);\n",
       "  border: .5pt solid var(--sklearn-color-unfitted-level-3);\n",
       "}\n",
       "\n",
       ".sk-estimator-doc-link.fitted span {\n",
       "  /* fitted */\n",
       "  background: var(--sklearn-color-fitted-level-0);\n",
       "  border: var(--sklearn-color-fitted-level-3);\n",
       "}\n",
       "\n",
       ".sk-estimator-doc-link:hover span {\n",
       "  display: block;\n",
       "}\n",
       "\n",
       "/* \"?\"-specific style due to the `<a>` HTML tag */\n",
       "\n",
       "#sk-container-id-1 a.estimator_doc_link {\n",
       "  float: right;\n",
       "  font-size: 1rem;\n",
       "  line-height: 1em;\n",
       "  font-family: monospace;\n",
       "  background-color: var(--sklearn-color-background);\n",
       "  border-radius: 1rem;\n",
       "  height: 1rem;\n",
       "  width: 1rem;\n",
       "  text-decoration: none;\n",
       "  /* unfitted */\n",
       "  color: var(--sklearn-color-unfitted-level-1);\n",
       "  border: var(--sklearn-color-unfitted-level-1) 1pt solid;\n",
       "}\n",
       "\n",
       "#sk-container-id-1 a.estimator_doc_link.fitted {\n",
       "  /* fitted */\n",
       "  border: var(--sklearn-color-fitted-level-1) 1pt solid;\n",
       "  color: var(--sklearn-color-fitted-level-1);\n",
       "}\n",
       "\n",
       "/* On hover */\n",
       "#sk-container-id-1 a.estimator_doc_link:hover {\n",
       "  /* unfitted */\n",
       "  background-color: var(--sklearn-color-unfitted-level-3);\n",
       "  color: var(--sklearn-color-background);\n",
       "  text-decoration: none;\n",
       "}\n",
       "\n",
       "#sk-container-id-1 a.estimator_doc_link.fitted:hover {\n",
       "  /* fitted */\n",
       "  background-color: var(--sklearn-color-fitted-level-3);\n",
       "}\n",
       "</style><div id=\"sk-container-id-1\" class=\"sk-top-container\"><div class=\"sk-text-repr-fallback\"><pre>XGBClassifier(base_score=None, booster=None, callbacks=None,\n",
       "              colsample_bylevel=None, colsample_bynode=None,\n",
       "              colsample_bytree=None, device=None, early_stopping_rounds=None,\n",
       "              enable_categorical=False, eval_metric=&#x27;logloss&#x27;,\n",
       "              feature_types=None, gamma=None, grow_policy=None,\n",
       "              importance_type=None, interaction_constraints=None,\n",
       "              learning_rate=None, max_bin=None, max_cat_threshold=None,\n",
       "              max_cat_to_onehot=None, max_delta_step=None, max_depth=None,\n",
       "              max_leaves=None, min_child_weight=None, missing=nan,\n",
       "              monotone_constraints=None, multi_strategy=None, n_estimators=None,\n",
       "              n_jobs=None, num_parallel_tree=None, random_state=42, ...)</pre><b>In a Jupyter environment, please rerun this cell to show the HTML representation or trust the notebook. <br />On GitHub, the HTML representation is unable to render, please try loading this page with nbviewer.org.</b></div><div class=\"sk-container\" hidden><div class=\"sk-item\"><div class=\"sk-estimator fitted sk-toggleable\"><input class=\"sk-toggleable__control sk-hidden--visually\" id=\"sk-estimator-id-1\" type=\"checkbox\" checked><label for=\"sk-estimator-id-1\" class=\"sk-toggleable__label fitted sk-toggleable__label-arrow\"><div><div>XGBClassifier</div></div><div><span class=\"sk-estimator-doc-link fitted\">i<span>Fitted</span></span></div></label><div class=\"sk-toggleable__content fitted\"><pre>XGBClassifier(base_score=None, booster=None, callbacks=None,\n",
       "              colsample_bylevel=None, colsample_bynode=None,\n",
       "              colsample_bytree=None, device=None, early_stopping_rounds=None,\n",
       "              enable_categorical=False, eval_metric=&#x27;logloss&#x27;,\n",
       "              feature_types=None, gamma=None, grow_policy=None,\n",
       "              importance_type=None, interaction_constraints=None,\n",
       "              learning_rate=None, max_bin=None, max_cat_threshold=None,\n",
       "              max_cat_to_onehot=None, max_delta_step=None, max_depth=None,\n",
       "              max_leaves=None, min_child_weight=None, missing=nan,\n",
       "              monotone_constraints=None, multi_strategy=None, n_estimators=None,\n",
       "              n_jobs=None, num_parallel_tree=None, random_state=42, ...)</pre></div> </div></div></div></div>"
      ],
      "text/plain": [
       "XGBClassifier(base_score=None, booster=None, callbacks=None,\n",
       "              colsample_bylevel=None, colsample_bynode=None,\n",
       "              colsample_bytree=None, device=None, early_stopping_rounds=None,\n",
       "              enable_categorical=False, eval_metric='logloss',\n",
       "              feature_types=None, gamma=None, grow_policy=None,\n",
       "              importance_type=None, interaction_constraints=None,\n",
       "              learning_rate=None, max_bin=None, max_cat_threshold=None,\n",
       "              max_cat_to_onehot=None, max_delta_step=None, max_depth=None,\n",
       "              max_leaves=None, min_child_weight=None, missing=nan,\n",
       "              monotone_constraints=None, multi_strategy=None, n_estimators=None,\n",
       "              n_jobs=None, num_parallel_tree=None, random_state=42, ...)"
      ]
     },
     "execution_count": 129,
     "metadata": {},
     "output_type": "execute_result"
    }
   ],
   "source": [
    "xgb_model.fit(X_train_resampled, y_train_resampled)"
   ]
  },
  {
   "cell_type": "code",
   "execution_count": 130,
   "id": "e5c575e8-f4d6-4852-b6ae-8e80b15e3183",
   "metadata": {},
   "outputs": [],
   "source": [
    "y_pred = xgb_model.predict(X_test)\n",
    "y_pred_proba = xgb_model.predict_proba(X_test)[:,1]"
   ]
  },
  {
   "cell_type": "code",
   "execution_count": 133,
   "id": "65999129-3d73-4686-8e2a-7b86feae81dc",
   "metadata": {},
   "outputs": [
    {
     "name": "stdout",
     "output_type": "stream",
     "text": [
      "              precision    recall  f1-score   support\n",
      "\n",
      "           0       0.96      0.90      0.93     27995\n",
      "           1       0.28      0.53      0.36      2005\n",
      "\n",
      "    accuracy                           0.88     30000\n",
      "   macro avg       0.62      0.72      0.65     30000\n",
      "weighted avg       0.92      0.88      0.89     30000\n",
      "\n"
     ]
    }
   ],
   "source": [
    "print(classification_report(y_test,y_pred))"
   ]
  },
  {
   "cell_type": "code",
   "execution_count": 134,
   "id": "4eff6e81-5d26-4789-b824-b534a82c1b75",
   "metadata": {},
   "outputs": [
    {
     "name": "stdout",
     "output_type": "stream",
     "text": [
      "0.8307693883704741\n"
     ]
    }
   ],
   "source": [
    "print(roc_auc_score(y_test,y_pred_proba))"
   ]
  },
  {
   "cell_type": "code",
   "execution_count": 135,
   "id": "11c41030-09e4-455f-a0bc-52c0078abffb",
   "metadata": {},
   "outputs": [
    {
     "name": "stdout",
     "output_type": "stream",
     "text": [
      "[[25211  2784]\n",
      " [  937  1068]]\n"
     ]
    }
   ],
   "source": [
    "print(confusion_matrix(y_test,y_pred))"
   ]
  },
  {
   "cell_type": "code",
   "execution_count": 137,
   "id": "1df96a6b-1f15-4db4-abbb-f04376799636",
   "metadata": {},
   "outputs": [],
   "source": [
    "from sklearn.ensemble import RandomForestClassifier"
   ]
  },
  {
   "cell_type": "code",
   "execution_count": 138,
   "id": "8180b541-3992-44c9-bb2f-5a2d8dce9bd6",
   "metadata": {},
   "outputs": [],
   "source": [
    "rf_model = RandomForestClassifier(random_state=42)"
   ]
  },
  {
   "cell_type": "code",
   "execution_count": 139,
   "id": "c261c07e-8aa1-4416-8fe5-4cf327dab60d",
   "metadata": {},
   "outputs": [
    {
     "data": {
      "text/html": [
       "<style>#sk-container-id-2 {\n",
       "  /* Definition of color scheme common for light and dark mode */\n",
       "  --sklearn-color-text: #000;\n",
       "  --sklearn-color-text-muted: #666;\n",
       "  --sklearn-color-line: gray;\n",
       "  /* Definition of color scheme for unfitted estimators */\n",
       "  --sklearn-color-unfitted-level-0: #fff5e6;\n",
       "  --sklearn-color-unfitted-level-1: #f6e4d2;\n",
       "  --sklearn-color-unfitted-level-2: #ffe0b3;\n",
       "  --sklearn-color-unfitted-level-3: chocolate;\n",
       "  /* Definition of color scheme for fitted estimators */\n",
       "  --sklearn-color-fitted-level-0: #f0f8ff;\n",
       "  --sklearn-color-fitted-level-1: #d4ebff;\n",
       "  --sklearn-color-fitted-level-2: #b3dbfd;\n",
       "  --sklearn-color-fitted-level-3: cornflowerblue;\n",
       "\n",
       "  /* Specific color for light theme */\n",
       "  --sklearn-color-text-on-default-background: var(--sg-text-color, var(--theme-code-foreground, var(--jp-content-font-color1, black)));\n",
       "  --sklearn-color-background: var(--sg-background-color, var(--theme-background, var(--jp-layout-color0, white)));\n",
       "  --sklearn-color-border-box: var(--sg-text-color, var(--theme-code-foreground, var(--jp-content-font-color1, black)));\n",
       "  --sklearn-color-icon: #696969;\n",
       "\n",
       "  @media (prefers-color-scheme: dark) {\n",
       "    /* Redefinition of color scheme for dark theme */\n",
       "    --sklearn-color-text-on-default-background: var(--sg-text-color, var(--theme-code-foreground, var(--jp-content-font-color1, white)));\n",
       "    --sklearn-color-background: var(--sg-background-color, var(--theme-background, var(--jp-layout-color0, #111)));\n",
       "    --sklearn-color-border-box: var(--sg-text-color, var(--theme-code-foreground, var(--jp-content-font-color1, white)));\n",
       "    --sklearn-color-icon: #878787;\n",
       "  }\n",
       "}\n",
       "\n",
       "#sk-container-id-2 {\n",
       "  color: var(--sklearn-color-text);\n",
       "}\n",
       "\n",
       "#sk-container-id-2 pre {\n",
       "  padding: 0;\n",
       "}\n",
       "\n",
       "#sk-container-id-2 input.sk-hidden--visually {\n",
       "  border: 0;\n",
       "  clip: rect(1px 1px 1px 1px);\n",
       "  clip: rect(1px, 1px, 1px, 1px);\n",
       "  height: 1px;\n",
       "  margin: -1px;\n",
       "  overflow: hidden;\n",
       "  padding: 0;\n",
       "  position: absolute;\n",
       "  width: 1px;\n",
       "}\n",
       "\n",
       "#sk-container-id-2 div.sk-dashed-wrapped {\n",
       "  border: 1px dashed var(--sklearn-color-line);\n",
       "  margin: 0 0.4em 0.5em 0.4em;\n",
       "  box-sizing: border-box;\n",
       "  padding-bottom: 0.4em;\n",
       "  background-color: var(--sklearn-color-background);\n",
       "}\n",
       "\n",
       "#sk-container-id-2 div.sk-container {\n",
       "  /* jupyter's `normalize.less` sets `[hidden] { display: none; }`\n",
       "     but bootstrap.min.css set `[hidden] { display: none !important; }`\n",
       "     so we also need the `!important` here to be able to override the\n",
       "     default hidden behavior on the sphinx rendered scikit-learn.org.\n",
       "     See: https://github.com/scikit-learn/scikit-learn/issues/21755 */\n",
       "  display: inline-block !important;\n",
       "  position: relative;\n",
       "}\n",
       "\n",
       "#sk-container-id-2 div.sk-text-repr-fallback {\n",
       "  display: none;\n",
       "}\n",
       "\n",
       "div.sk-parallel-item,\n",
       "div.sk-serial,\n",
       "div.sk-item {\n",
       "  /* draw centered vertical line to link estimators */\n",
       "  background-image: linear-gradient(var(--sklearn-color-text-on-default-background), var(--sklearn-color-text-on-default-background));\n",
       "  background-size: 2px 100%;\n",
       "  background-repeat: no-repeat;\n",
       "  background-position: center center;\n",
       "}\n",
       "\n",
       "/* Parallel-specific style estimator block */\n",
       "\n",
       "#sk-container-id-2 div.sk-parallel-item::after {\n",
       "  content: \"\";\n",
       "  width: 100%;\n",
       "  border-bottom: 2px solid var(--sklearn-color-text-on-default-background);\n",
       "  flex-grow: 1;\n",
       "}\n",
       "\n",
       "#sk-container-id-2 div.sk-parallel {\n",
       "  display: flex;\n",
       "  align-items: stretch;\n",
       "  justify-content: center;\n",
       "  background-color: var(--sklearn-color-background);\n",
       "  position: relative;\n",
       "}\n",
       "\n",
       "#sk-container-id-2 div.sk-parallel-item {\n",
       "  display: flex;\n",
       "  flex-direction: column;\n",
       "}\n",
       "\n",
       "#sk-container-id-2 div.sk-parallel-item:first-child::after {\n",
       "  align-self: flex-end;\n",
       "  width: 50%;\n",
       "}\n",
       "\n",
       "#sk-container-id-2 div.sk-parallel-item:last-child::after {\n",
       "  align-self: flex-start;\n",
       "  width: 50%;\n",
       "}\n",
       "\n",
       "#sk-container-id-2 div.sk-parallel-item:only-child::after {\n",
       "  width: 0;\n",
       "}\n",
       "\n",
       "/* Serial-specific style estimator block */\n",
       "\n",
       "#sk-container-id-2 div.sk-serial {\n",
       "  display: flex;\n",
       "  flex-direction: column;\n",
       "  align-items: center;\n",
       "  background-color: var(--sklearn-color-background);\n",
       "  padding-right: 1em;\n",
       "  padding-left: 1em;\n",
       "}\n",
       "\n",
       "\n",
       "/* Toggleable style: style used for estimator/Pipeline/ColumnTransformer box that is\n",
       "clickable and can be expanded/collapsed.\n",
       "- Pipeline and ColumnTransformer use this feature and define the default style\n",
       "- Estimators will overwrite some part of the style using the `sk-estimator` class\n",
       "*/\n",
       "\n",
       "/* Pipeline and ColumnTransformer style (default) */\n",
       "\n",
       "#sk-container-id-2 div.sk-toggleable {\n",
       "  /* Default theme specific background. It is overwritten whether we have a\n",
       "  specific estimator or a Pipeline/ColumnTransformer */\n",
       "  background-color: var(--sklearn-color-background);\n",
       "}\n",
       "\n",
       "/* Toggleable label */\n",
       "#sk-container-id-2 label.sk-toggleable__label {\n",
       "  cursor: pointer;\n",
       "  display: flex;\n",
       "  width: 100%;\n",
       "  margin-bottom: 0;\n",
       "  padding: 0.5em;\n",
       "  box-sizing: border-box;\n",
       "  text-align: center;\n",
       "  align-items: start;\n",
       "  justify-content: space-between;\n",
       "  gap: 0.5em;\n",
       "}\n",
       "\n",
       "#sk-container-id-2 label.sk-toggleable__label .caption {\n",
       "  font-size: 0.6rem;\n",
       "  font-weight: lighter;\n",
       "  color: var(--sklearn-color-text-muted);\n",
       "}\n",
       "\n",
       "#sk-container-id-2 label.sk-toggleable__label-arrow:before {\n",
       "  /* Arrow on the left of the label */\n",
       "  content: \"▸\";\n",
       "  float: left;\n",
       "  margin-right: 0.25em;\n",
       "  color: var(--sklearn-color-icon);\n",
       "}\n",
       "\n",
       "#sk-container-id-2 label.sk-toggleable__label-arrow:hover:before {\n",
       "  color: var(--sklearn-color-text);\n",
       "}\n",
       "\n",
       "/* Toggleable content - dropdown */\n",
       "\n",
       "#sk-container-id-2 div.sk-toggleable__content {\n",
       "  max-height: 0;\n",
       "  max-width: 0;\n",
       "  overflow: hidden;\n",
       "  text-align: left;\n",
       "  /* unfitted */\n",
       "  background-color: var(--sklearn-color-unfitted-level-0);\n",
       "}\n",
       "\n",
       "#sk-container-id-2 div.sk-toggleable__content.fitted {\n",
       "  /* fitted */\n",
       "  background-color: var(--sklearn-color-fitted-level-0);\n",
       "}\n",
       "\n",
       "#sk-container-id-2 div.sk-toggleable__content pre {\n",
       "  margin: 0.2em;\n",
       "  border-radius: 0.25em;\n",
       "  color: var(--sklearn-color-text);\n",
       "  /* unfitted */\n",
       "  background-color: var(--sklearn-color-unfitted-level-0);\n",
       "}\n",
       "\n",
       "#sk-container-id-2 div.sk-toggleable__content.fitted pre {\n",
       "  /* unfitted */\n",
       "  background-color: var(--sklearn-color-fitted-level-0);\n",
       "}\n",
       "\n",
       "#sk-container-id-2 input.sk-toggleable__control:checked~div.sk-toggleable__content {\n",
       "  /* Expand drop-down */\n",
       "  max-height: 200px;\n",
       "  max-width: 100%;\n",
       "  overflow: auto;\n",
       "}\n",
       "\n",
       "#sk-container-id-2 input.sk-toggleable__control:checked~label.sk-toggleable__label-arrow:before {\n",
       "  content: \"▾\";\n",
       "}\n",
       "\n",
       "/* Pipeline/ColumnTransformer-specific style */\n",
       "\n",
       "#sk-container-id-2 div.sk-label input.sk-toggleable__control:checked~label.sk-toggleable__label {\n",
       "  color: var(--sklearn-color-text);\n",
       "  background-color: var(--sklearn-color-unfitted-level-2);\n",
       "}\n",
       "\n",
       "#sk-container-id-2 div.sk-label.fitted input.sk-toggleable__control:checked~label.sk-toggleable__label {\n",
       "  background-color: var(--sklearn-color-fitted-level-2);\n",
       "}\n",
       "\n",
       "/* Estimator-specific style */\n",
       "\n",
       "/* Colorize estimator box */\n",
       "#sk-container-id-2 div.sk-estimator input.sk-toggleable__control:checked~label.sk-toggleable__label {\n",
       "  /* unfitted */\n",
       "  background-color: var(--sklearn-color-unfitted-level-2);\n",
       "}\n",
       "\n",
       "#sk-container-id-2 div.sk-estimator.fitted input.sk-toggleable__control:checked~label.sk-toggleable__label {\n",
       "  /* fitted */\n",
       "  background-color: var(--sklearn-color-fitted-level-2);\n",
       "}\n",
       "\n",
       "#sk-container-id-2 div.sk-label label.sk-toggleable__label,\n",
       "#sk-container-id-2 div.sk-label label {\n",
       "  /* The background is the default theme color */\n",
       "  color: var(--sklearn-color-text-on-default-background);\n",
       "}\n",
       "\n",
       "/* On hover, darken the color of the background */\n",
       "#sk-container-id-2 div.sk-label:hover label.sk-toggleable__label {\n",
       "  color: var(--sklearn-color-text);\n",
       "  background-color: var(--sklearn-color-unfitted-level-2);\n",
       "}\n",
       "\n",
       "/* Label box, darken color on hover, fitted */\n",
       "#sk-container-id-2 div.sk-label.fitted:hover label.sk-toggleable__label.fitted {\n",
       "  color: var(--sklearn-color-text);\n",
       "  background-color: var(--sklearn-color-fitted-level-2);\n",
       "}\n",
       "\n",
       "/* Estimator label */\n",
       "\n",
       "#sk-container-id-2 div.sk-label label {\n",
       "  font-family: monospace;\n",
       "  font-weight: bold;\n",
       "  display: inline-block;\n",
       "  line-height: 1.2em;\n",
       "}\n",
       "\n",
       "#sk-container-id-2 div.sk-label-container {\n",
       "  text-align: center;\n",
       "}\n",
       "\n",
       "/* Estimator-specific */\n",
       "#sk-container-id-2 div.sk-estimator {\n",
       "  font-family: monospace;\n",
       "  border: 1px dotted var(--sklearn-color-border-box);\n",
       "  border-radius: 0.25em;\n",
       "  box-sizing: border-box;\n",
       "  margin-bottom: 0.5em;\n",
       "  /* unfitted */\n",
       "  background-color: var(--sklearn-color-unfitted-level-0);\n",
       "}\n",
       "\n",
       "#sk-container-id-2 div.sk-estimator.fitted {\n",
       "  /* fitted */\n",
       "  background-color: var(--sklearn-color-fitted-level-0);\n",
       "}\n",
       "\n",
       "/* on hover */\n",
       "#sk-container-id-2 div.sk-estimator:hover {\n",
       "  /* unfitted */\n",
       "  background-color: var(--sklearn-color-unfitted-level-2);\n",
       "}\n",
       "\n",
       "#sk-container-id-2 div.sk-estimator.fitted:hover {\n",
       "  /* fitted */\n",
       "  background-color: var(--sklearn-color-fitted-level-2);\n",
       "}\n",
       "\n",
       "/* Specification for estimator info (e.g. \"i\" and \"?\") */\n",
       "\n",
       "/* Common style for \"i\" and \"?\" */\n",
       "\n",
       ".sk-estimator-doc-link,\n",
       "a:link.sk-estimator-doc-link,\n",
       "a:visited.sk-estimator-doc-link {\n",
       "  float: right;\n",
       "  font-size: smaller;\n",
       "  line-height: 1em;\n",
       "  font-family: monospace;\n",
       "  background-color: var(--sklearn-color-background);\n",
       "  border-radius: 1em;\n",
       "  height: 1em;\n",
       "  width: 1em;\n",
       "  text-decoration: none !important;\n",
       "  margin-left: 0.5em;\n",
       "  text-align: center;\n",
       "  /* unfitted */\n",
       "  border: var(--sklearn-color-unfitted-level-1) 1pt solid;\n",
       "  color: var(--sklearn-color-unfitted-level-1);\n",
       "}\n",
       "\n",
       ".sk-estimator-doc-link.fitted,\n",
       "a:link.sk-estimator-doc-link.fitted,\n",
       "a:visited.sk-estimator-doc-link.fitted {\n",
       "  /* fitted */\n",
       "  border: var(--sklearn-color-fitted-level-1) 1pt solid;\n",
       "  color: var(--sklearn-color-fitted-level-1);\n",
       "}\n",
       "\n",
       "/* On hover */\n",
       "div.sk-estimator:hover .sk-estimator-doc-link:hover,\n",
       ".sk-estimator-doc-link:hover,\n",
       "div.sk-label-container:hover .sk-estimator-doc-link:hover,\n",
       ".sk-estimator-doc-link:hover {\n",
       "  /* unfitted */\n",
       "  background-color: var(--sklearn-color-unfitted-level-3);\n",
       "  color: var(--sklearn-color-background);\n",
       "  text-decoration: none;\n",
       "}\n",
       "\n",
       "div.sk-estimator.fitted:hover .sk-estimator-doc-link.fitted:hover,\n",
       ".sk-estimator-doc-link.fitted:hover,\n",
       "div.sk-label-container:hover .sk-estimator-doc-link.fitted:hover,\n",
       ".sk-estimator-doc-link.fitted:hover {\n",
       "  /* fitted */\n",
       "  background-color: var(--sklearn-color-fitted-level-3);\n",
       "  color: var(--sklearn-color-background);\n",
       "  text-decoration: none;\n",
       "}\n",
       "\n",
       "/* Span, style for the box shown on hovering the info icon */\n",
       ".sk-estimator-doc-link span {\n",
       "  display: none;\n",
       "  z-index: 9999;\n",
       "  position: relative;\n",
       "  font-weight: normal;\n",
       "  right: .2ex;\n",
       "  padding: .5ex;\n",
       "  margin: .5ex;\n",
       "  width: min-content;\n",
       "  min-width: 20ex;\n",
       "  max-width: 50ex;\n",
       "  color: var(--sklearn-color-text);\n",
       "  box-shadow: 2pt 2pt 4pt #999;\n",
       "  /* unfitted */\n",
       "  background: var(--sklearn-color-unfitted-level-0);\n",
       "  border: .5pt solid var(--sklearn-color-unfitted-level-3);\n",
       "}\n",
       "\n",
       ".sk-estimator-doc-link.fitted span {\n",
       "  /* fitted */\n",
       "  background: var(--sklearn-color-fitted-level-0);\n",
       "  border: var(--sklearn-color-fitted-level-3);\n",
       "}\n",
       "\n",
       ".sk-estimator-doc-link:hover span {\n",
       "  display: block;\n",
       "}\n",
       "\n",
       "/* \"?\"-specific style due to the `<a>` HTML tag */\n",
       "\n",
       "#sk-container-id-2 a.estimator_doc_link {\n",
       "  float: right;\n",
       "  font-size: 1rem;\n",
       "  line-height: 1em;\n",
       "  font-family: monospace;\n",
       "  background-color: var(--sklearn-color-background);\n",
       "  border-radius: 1rem;\n",
       "  height: 1rem;\n",
       "  width: 1rem;\n",
       "  text-decoration: none;\n",
       "  /* unfitted */\n",
       "  color: var(--sklearn-color-unfitted-level-1);\n",
       "  border: var(--sklearn-color-unfitted-level-1) 1pt solid;\n",
       "}\n",
       "\n",
       "#sk-container-id-2 a.estimator_doc_link.fitted {\n",
       "  /* fitted */\n",
       "  border: var(--sklearn-color-fitted-level-1) 1pt solid;\n",
       "  color: var(--sklearn-color-fitted-level-1);\n",
       "}\n",
       "\n",
       "/* On hover */\n",
       "#sk-container-id-2 a.estimator_doc_link:hover {\n",
       "  /* unfitted */\n",
       "  background-color: var(--sklearn-color-unfitted-level-3);\n",
       "  color: var(--sklearn-color-background);\n",
       "  text-decoration: none;\n",
       "}\n",
       "\n",
       "#sk-container-id-2 a.estimator_doc_link.fitted:hover {\n",
       "  /* fitted */\n",
       "  background-color: var(--sklearn-color-fitted-level-3);\n",
       "}\n",
       "</style><div id=\"sk-container-id-2\" class=\"sk-top-container\"><div class=\"sk-text-repr-fallback\"><pre>RandomForestClassifier(random_state=42)</pre><b>In a Jupyter environment, please rerun this cell to show the HTML representation or trust the notebook. <br />On GitHub, the HTML representation is unable to render, please try loading this page with nbviewer.org.</b></div><div class=\"sk-container\" hidden><div class=\"sk-item\"><div class=\"sk-estimator fitted sk-toggleable\"><input class=\"sk-toggleable__control sk-hidden--visually\" id=\"sk-estimator-id-2\" type=\"checkbox\" checked><label for=\"sk-estimator-id-2\" class=\"sk-toggleable__label fitted sk-toggleable__label-arrow\"><div><div>RandomForestClassifier</div></div><div><a class=\"sk-estimator-doc-link fitted\" rel=\"noreferrer\" target=\"_blank\" href=\"https://scikit-learn.org/1.6/modules/generated/sklearn.ensemble.RandomForestClassifier.html\">?<span>Documentation for RandomForestClassifier</span></a><span class=\"sk-estimator-doc-link fitted\">i<span>Fitted</span></span></div></label><div class=\"sk-toggleable__content fitted\"><pre>RandomForestClassifier(random_state=42)</pre></div> </div></div></div></div>"
      ],
      "text/plain": [
       "RandomForestClassifier(random_state=42)"
      ]
     },
     "execution_count": 139,
     "metadata": {},
     "output_type": "execute_result"
    }
   ],
   "source": [
    "rf_model.fit(X_train_resampled,y_train_resampled)"
   ]
  },
  {
   "cell_type": "code",
   "execution_count": 140,
   "id": "73e507ce-4fea-4d0c-9779-317963caf448",
   "metadata": {},
   "outputs": [],
   "source": [
    "y_pred_rf = rf_model.predict(X_test)\n",
    "y_pred_proba_rf = rf_model.predict_proba(X_test)[:,1]"
   ]
  },
  {
   "cell_type": "code",
   "execution_count": 141,
   "id": "e93a2521-503d-409b-935c-45389c94dff3",
   "metadata": {},
   "outputs": [
    {
     "name": "stdout",
     "output_type": "stream",
     "text": [
      "              precision    recall  f1-score   support\n",
      "\n",
      "           0       0.96      0.88      0.92     27995\n",
      "           1       0.24      0.55      0.34      2005\n",
      "\n",
      "    accuracy                           0.85     30000\n",
      "   macro avg       0.60      0.72      0.63     30000\n",
      "weighted avg       0.92      0.85      0.88     30000\n",
      "\n"
     ]
    }
   ],
   "source": [
    "print(classification_report(y_test,y_pred_rf))"
   ]
  },
  {
   "cell_type": "code",
   "execution_count": 142,
   "id": "f9d168d3-156a-4ec3-b5b0-67919176a027",
   "metadata": {},
   "outputs": [
    {
     "name": "stdout",
     "output_type": "stream",
     "text": [
      "0.817013984061101\n"
     ]
    }
   ],
   "source": [
    "print(roc_auc_score(y_test,y_pred_proba_rf))"
   ]
  },
  {
   "cell_type": "code",
   "execution_count": 143,
   "id": "42d025d8-9b58-4ce7-8546-de0198add019",
   "metadata": {},
   "outputs": [
    {
     "name": "stdout",
     "output_type": "stream",
     "text": [
      "[[24537  3458]\n",
      " [  893  1112]]\n"
     ]
    }
   ],
   "source": [
    "print(confusion_matrix(y_test,y_pred_rf))"
   ]
  },
  {
   "cell_type": "code",
   "execution_count": 144,
   "id": "2e728d72-a10e-44ab-a99b-e4b730561899",
   "metadata": {},
   "outputs": [],
   "source": [
    "from sklearn.model_selection import GridSearchCV"
   ]
  },
  {
   "cell_type": "code",
   "execution_count": 145,
   "id": "1d7dd013-de65-4a82-abf8-95671653855b",
   "metadata": {},
   "outputs": [],
   "source": [
    "param_grid = {'n_estimators':[100,200,300],\n",
    "             'max_depth':[3,5,7],\n",
    "             'learning_rate':[0.01,0.1,0.2],\n",
    "             'subsample':[0.7,0.9],\n",
    "             'colsample_bytree':[0.7,0.9]}"
   ]
  },
  {
   "cell_type": "code",
   "execution_count": 155,
   "id": "e04a560a-f7f4-42c6-85ac-b41ef845fc67",
   "metadata": {},
   "outputs": [],
   "source": [
    "grid_search = GridSearchCV(estimator=xgb_model,param_grid=param_grid,scoring='recall',cv=3,verbose=1,n_jobs=1)"
   ]
  },
  {
   "cell_type": "code",
   "execution_count": 156,
   "id": "2eb3dc63-cf0d-4f28-9916-9f995a4a1203",
   "metadata": {},
   "outputs": [
    {
     "name": "stdout",
     "output_type": "stream",
     "text": [
      "Fitting 3 folds for each of 108 candidates, totalling 324 fits\n"
     ]
    },
    {
     "data": {
      "text/html": [
       "<style>#sk-container-id-4 {\n",
       "  /* Definition of color scheme common for light and dark mode */\n",
       "  --sklearn-color-text: #000;\n",
       "  --sklearn-color-text-muted: #666;\n",
       "  --sklearn-color-line: gray;\n",
       "  /* Definition of color scheme for unfitted estimators */\n",
       "  --sklearn-color-unfitted-level-0: #fff5e6;\n",
       "  --sklearn-color-unfitted-level-1: #f6e4d2;\n",
       "  --sklearn-color-unfitted-level-2: #ffe0b3;\n",
       "  --sklearn-color-unfitted-level-3: chocolate;\n",
       "  /* Definition of color scheme for fitted estimators */\n",
       "  --sklearn-color-fitted-level-0: #f0f8ff;\n",
       "  --sklearn-color-fitted-level-1: #d4ebff;\n",
       "  --sklearn-color-fitted-level-2: #b3dbfd;\n",
       "  --sklearn-color-fitted-level-3: cornflowerblue;\n",
       "\n",
       "  /* Specific color for light theme */\n",
       "  --sklearn-color-text-on-default-background: var(--sg-text-color, var(--theme-code-foreground, var(--jp-content-font-color1, black)));\n",
       "  --sklearn-color-background: var(--sg-background-color, var(--theme-background, var(--jp-layout-color0, white)));\n",
       "  --sklearn-color-border-box: var(--sg-text-color, var(--theme-code-foreground, var(--jp-content-font-color1, black)));\n",
       "  --sklearn-color-icon: #696969;\n",
       "\n",
       "  @media (prefers-color-scheme: dark) {\n",
       "    /* Redefinition of color scheme for dark theme */\n",
       "    --sklearn-color-text-on-default-background: var(--sg-text-color, var(--theme-code-foreground, var(--jp-content-font-color1, white)));\n",
       "    --sklearn-color-background: var(--sg-background-color, var(--theme-background, var(--jp-layout-color0, #111)));\n",
       "    --sklearn-color-border-box: var(--sg-text-color, var(--theme-code-foreground, var(--jp-content-font-color1, white)));\n",
       "    --sklearn-color-icon: #878787;\n",
       "  }\n",
       "}\n",
       "\n",
       "#sk-container-id-4 {\n",
       "  color: var(--sklearn-color-text);\n",
       "}\n",
       "\n",
       "#sk-container-id-4 pre {\n",
       "  padding: 0;\n",
       "}\n",
       "\n",
       "#sk-container-id-4 input.sk-hidden--visually {\n",
       "  border: 0;\n",
       "  clip: rect(1px 1px 1px 1px);\n",
       "  clip: rect(1px, 1px, 1px, 1px);\n",
       "  height: 1px;\n",
       "  margin: -1px;\n",
       "  overflow: hidden;\n",
       "  padding: 0;\n",
       "  position: absolute;\n",
       "  width: 1px;\n",
       "}\n",
       "\n",
       "#sk-container-id-4 div.sk-dashed-wrapped {\n",
       "  border: 1px dashed var(--sklearn-color-line);\n",
       "  margin: 0 0.4em 0.5em 0.4em;\n",
       "  box-sizing: border-box;\n",
       "  padding-bottom: 0.4em;\n",
       "  background-color: var(--sklearn-color-background);\n",
       "}\n",
       "\n",
       "#sk-container-id-4 div.sk-container {\n",
       "  /* jupyter's `normalize.less` sets `[hidden] { display: none; }`\n",
       "     but bootstrap.min.css set `[hidden] { display: none !important; }`\n",
       "     so we also need the `!important` here to be able to override the\n",
       "     default hidden behavior on the sphinx rendered scikit-learn.org.\n",
       "     See: https://github.com/scikit-learn/scikit-learn/issues/21755 */\n",
       "  display: inline-block !important;\n",
       "  position: relative;\n",
       "}\n",
       "\n",
       "#sk-container-id-4 div.sk-text-repr-fallback {\n",
       "  display: none;\n",
       "}\n",
       "\n",
       "div.sk-parallel-item,\n",
       "div.sk-serial,\n",
       "div.sk-item {\n",
       "  /* draw centered vertical line to link estimators */\n",
       "  background-image: linear-gradient(var(--sklearn-color-text-on-default-background), var(--sklearn-color-text-on-default-background));\n",
       "  background-size: 2px 100%;\n",
       "  background-repeat: no-repeat;\n",
       "  background-position: center center;\n",
       "}\n",
       "\n",
       "/* Parallel-specific style estimator block */\n",
       "\n",
       "#sk-container-id-4 div.sk-parallel-item::after {\n",
       "  content: \"\";\n",
       "  width: 100%;\n",
       "  border-bottom: 2px solid var(--sklearn-color-text-on-default-background);\n",
       "  flex-grow: 1;\n",
       "}\n",
       "\n",
       "#sk-container-id-4 div.sk-parallel {\n",
       "  display: flex;\n",
       "  align-items: stretch;\n",
       "  justify-content: center;\n",
       "  background-color: var(--sklearn-color-background);\n",
       "  position: relative;\n",
       "}\n",
       "\n",
       "#sk-container-id-4 div.sk-parallel-item {\n",
       "  display: flex;\n",
       "  flex-direction: column;\n",
       "}\n",
       "\n",
       "#sk-container-id-4 div.sk-parallel-item:first-child::after {\n",
       "  align-self: flex-end;\n",
       "  width: 50%;\n",
       "}\n",
       "\n",
       "#sk-container-id-4 div.sk-parallel-item:last-child::after {\n",
       "  align-self: flex-start;\n",
       "  width: 50%;\n",
       "}\n",
       "\n",
       "#sk-container-id-4 div.sk-parallel-item:only-child::after {\n",
       "  width: 0;\n",
       "}\n",
       "\n",
       "/* Serial-specific style estimator block */\n",
       "\n",
       "#sk-container-id-4 div.sk-serial {\n",
       "  display: flex;\n",
       "  flex-direction: column;\n",
       "  align-items: center;\n",
       "  background-color: var(--sklearn-color-background);\n",
       "  padding-right: 1em;\n",
       "  padding-left: 1em;\n",
       "}\n",
       "\n",
       "\n",
       "/* Toggleable style: style used for estimator/Pipeline/ColumnTransformer box that is\n",
       "clickable and can be expanded/collapsed.\n",
       "- Pipeline and ColumnTransformer use this feature and define the default style\n",
       "- Estimators will overwrite some part of the style using the `sk-estimator` class\n",
       "*/\n",
       "\n",
       "/* Pipeline and ColumnTransformer style (default) */\n",
       "\n",
       "#sk-container-id-4 div.sk-toggleable {\n",
       "  /* Default theme specific background. It is overwritten whether we have a\n",
       "  specific estimator or a Pipeline/ColumnTransformer */\n",
       "  background-color: var(--sklearn-color-background);\n",
       "}\n",
       "\n",
       "/* Toggleable label */\n",
       "#sk-container-id-4 label.sk-toggleable__label {\n",
       "  cursor: pointer;\n",
       "  display: flex;\n",
       "  width: 100%;\n",
       "  margin-bottom: 0;\n",
       "  padding: 0.5em;\n",
       "  box-sizing: border-box;\n",
       "  text-align: center;\n",
       "  align-items: start;\n",
       "  justify-content: space-between;\n",
       "  gap: 0.5em;\n",
       "}\n",
       "\n",
       "#sk-container-id-4 label.sk-toggleable__label .caption {\n",
       "  font-size: 0.6rem;\n",
       "  font-weight: lighter;\n",
       "  color: var(--sklearn-color-text-muted);\n",
       "}\n",
       "\n",
       "#sk-container-id-4 label.sk-toggleable__label-arrow:before {\n",
       "  /* Arrow on the left of the label */\n",
       "  content: \"▸\";\n",
       "  float: left;\n",
       "  margin-right: 0.25em;\n",
       "  color: var(--sklearn-color-icon);\n",
       "}\n",
       "\n",
       "#sk-container-id-4 label.sk-toggleable__label-arrow:hover:before {\n",
       "  color: var(--sklearn-color-text);\n",
       "}\n",
       "\n",
       "/* Toggleable content - dropdown */\n",
       "\n",
       "#sk-container-id-4 div.sk-toggleable__content {\n",
       "  max-height: 0;\n",
       "  max-width: 0;\n",
       "  overflow: hidden;\n",
       "  text-align: left;\n",
       "  /* unfitted */\n",
       "  background-color: var(--sklearn-color-unfitted-level-0);\n",
       "}\n",
       "\n",
       "#sk-container-id-4 div.sk-toggleable__content.fitted {\n",
       "  /* fitted */\n",
       "  background-color: var(--sklearn-color-fitted-level-0);\n",
       "}\n",
       "\n",
       "#sk-container-id-4 div.sk-toggleable__content pre {\n",
       "  margin: 0.2em;\n",
       "  border-radius: 0.25em;\n",
       "  color: var(--sklearn-color-text);\n",
       "  /* unfitted */\n",
       "  background-color: var(--sklearn-color-unfitted-level-0);\n",
       "}\n",
       "\n",
       "#sk-container-id-4 div.sk-toggleable__content.fitted pre {\n",
       "  /* unfitted */\n",
       "  background-color: var(--sklearn-color-fitted-level-0);\n",
       "}\n",
       "\n",
       "#sk-container-id-4 input.sk-toggleable__control:checked~div.sk-toggleable__content {\n",
       "  /* Expand drop-down */\n",
       "  max-height: 200px;\n",
       "  max-width: 100%;\n",
       "  overflow: auto;\n",
       "}\n",
       "\n",
       "#sk-container-id-4 input.sk-toggleable__control:checked~label.sk-toggleable__label-arrow:before {\n",
       "  content: \"▾\";\n",
       "}\n",
       "\n",
       "/* Pipeline/ColumnTransformer-specific style */\n",
       "\n",
       "#sk-container-id-4 div.sk-label input.sk-toggleable__control:checked~label.sk-toggleable__label {\n",
       "  color: var(--sklearn-color-text);\n",
       "  background-color: var(--sklearn-color-unfitted-level-2);\n",
       "}\n",
       "\n",
       "#sk-container-id-4 div.sk-label.fitted input.sk-toggleable__control:checked~label.sk-toggleable__label {\n",
       "  background-color: var(--sklearn-color-fitted-level-2);\n",
       "}\n",
       "\n",
       "/* Estimator-specific style */\n",
       "\n",
       "/* Colorize estimator box */\n",
       "#sk-container-id-4 div.sk-estimator input.sk-toggleable__control:checked~label.sk-toggleable__label {\n",
       "  /* unfitted */\n",
       "  background-color: var(--sklearn-color-unfitted-level-2);\n",
       "}\n",
       "\n",
       "#sk-container-id-4 div.sk-estimator.fitted input.sk-toggleable__control:checked~label.sk-toggleable__label {\n",
       "  /* fitted */\n",
       "  background-color: var(--sklearn-color-fitted-level-2);\n",
       "}\n",
       "\n",
       "#sk-container-id-4 div.sk-label label.sk-toggleable__label,\n",
       "#sk-container-id-4 div.sk-label label {\n",
       "  /* The background is the default theme color */\n",
       "  color: var(--sklearn-color-text-on-default-background);\n",
       "}\n",
       "\n",
       "/* On hover, darken the color of the background */\n",
       "#sk-container-id-4 div.sk-label:hover label.sk-toggleable__label {\n",
       "  color: var(--sklearn-color-text);\n",
       "  background-color: var(--sklearn-color-unfitted-level-2);\n",
       "}\n",
       "\n",
       "/* Label box, darken color on hover, fitted */\n",
       "#sk-container-id-4 div.sk-label.fitted:hover label.sk-toggleable__label.fitted {\n",
       "  color: var(--sklearn-color-text);\n",
       "  background-color: var(--sklearn-color-fitted-level-2);\n",
       "}\n",
       "\n",
       "/* Estimator label */\n",
       "\n",
       "#sk-container-id-4 div.sk-label label {\n",
       "  font-family: monospace;\n",
       "  font-weight: bold;\n",
       "  display: inline-block;\n",
       "  line-height: 1.2em;\n",
       "}\n",
       "\n",
       "#sk-container-id-4 div.sk-label-container {\n",
       "  text-align: center;\n",
       "}\n",
       "\n",
       "/* Estimator-specific */\n",
       "#sk-container-id-4 div.sk-estimator {\n",
       "  font-family: monospace;\n",
       "  border: 1px dotted var(--sklearn-color-border-box);\n",
       "  border-radius: 0.25em;\n",
       "  box-sizing: border-box;\n",
       "  margin-bottom: 0.5em;\n",
       "  /* unfitted */\n",
       "  background-color: var(--sklearn-color-unfitted-level-0);\n",
       "}\n",
       "\n",
       "#sk-container-id-4 div.sk-estimator.fitted {\n",
       "  /* fitted */\n",
       "  background-color: var(--sklearn-color-fitted-level-0);\n",
       "}\n",
       "\n",
       "/* on hover */\n",
       "#sk-container-id-4 div.sk-estimator:hover {\n",
       "  /* unfitted */\n",
       "  background-color: var(--sklearn-color-unfitted-level-2);\n",
       "}\n",
       "\n",
       "#sk-container-id-4 div.sk-estimator.fitted:hover {\n",
       "  /* fitted */\n",
       "  background-color: var(--sklearn-color-fitted-level-2);\n",
       "}\n",
       "\n",
       "/* Specification for estimator info (e.g. \"i\" and \"?\") */\n",
       "\n",
       "/* Common style for \"i\" and \"?\" */\n",
       "\n",
       ".sk-estimator-doc-link,\n",
       "a:link.sk-estimator-doc-link,\n",
       "a:visited.sk-estimator-doc-link {\n",
       "  float: right;\n",
       "  font-size: smaller;\n",
       "  line-height: 1em;\n",
       "  font-family: monospace;\n",
       "  background-color: var(--sklearn-color-background);\n",
       "  border-radius: 1em;\n",
       "  height: 1em;\n",
       "  width: 1em;\n",
       "  text-decoration: none !important;\n",
       "  margin-left: 0.5em;\n",
       "  text-align: center;\n",
       "  /* unfitted */\n",
       "  border: var(--sklearn-color-unfitted-level-1) 1pt solid;\n",
       "  color: var(--sklearn-color-unfitted-level-1);\n",
       "}\n",
       "\n",
       ".sk-estimator-doc-link.fitted,\n",
       "a:link.sk-estimator-doc-link.fitted,\n",
       "a:visited.sk-estimator-doc-link.fitted {\n",
       "  /* fitted */\n",
       "  border: var(--sklearn-color-fitted-level-1) 1pt solid;\n",
       "  color: var(--sklearn-color-fitted-level-1);\n",
       "}\n",
       "\n",
       "/* On hover */\n",
       "div.sk-estimator:hover .sk-estimator-doc-link:hover,\n",
       ".sk-estimator-doc-link:hover,\n",
       "div.sk-label-container:hover .sk-estimator-doc-link:hover,\n",
       ".sk-estimator-doc-link:hover {\n",
       "  /* unfitted */\n",
       "  background-color: var(--sklearn-color-unfitted-level-3);\n",
       "  color: var(--sklearn-color-background);\n",
       "  text-decoration: none;\n",
       "}\n",
       "\n",
       "div.sk-estimator.fitted:hover .sk-estimator-doc-link.fitted:hover,\n",
       ".sk-estimator-doc-link.fitted:hover,\n",
       "div.sk-label-container:hover .sk-estimator-doc-link.fitted:hover,\n",
       ".sk-estimator-doc-link.fitted:hover {\n",
       "  /* fitted */\n",
       "  background-color: var(--sklearn-color-fitted-level-3);\n",
       "  color: var(--sklearn-color-background);\n",
       "  text-decoration: none;\n",
       "}\n",
       "\n",
       "/* Span, style for the box shown on hovering the info icon */\n",
       ".sk-estimator-doc-link span {\n",
       "  display: none;\n",
       "  z-index: 9999;\n",
       "  position: relative;\n",
       "  font-weight: normal;\n",
       "  right: .2ex;\n",
       "  padding: .5ex;\n",
       "  margin: .5ex;\n",
       "  width: min-content;\n",
       "  min-width: 20ex;\n",
       "  max-width: 50ex;\n",
       "  color: var(--sklearn-color-text);\n",
       "  box-shadow: 2pt 2pt 4pt #999;\n",
       "  /* unfitted */\n",
       "  background: var(--sklearn-color-unfitted-level-0);\n",
       "  border: .5pt solid var(--sklearn-color-unfitted-level-3);\n",
       "}\n",
       "\n",
       ".sk-estimator-doc-link.fitted span {\n",
       "  /* fitted */\n",
       "  background: var(--sklearn-color-fitted-level-0);\n",
       "  border: var(--sklearn-color-fitted-level-3);\n",
       "}\n",
       "\n",
       ".sk-estimator-doc-link:hover span {\n",
       "  display: block;\n",
       "}\n",
       "\n",
       "/* \"?\"-specific style due to the `<a>` HTML tag */\n",
       "\n",
       "#sk-container-id-4 a.estimator_doc_link {\n",
       "  float: right;\n",
       "  font-size: 1rem;\n",
       "  line-height: 1em;\n",
       "  font-family: monospace;\n",
       "  background-color: var(--sklearn-color-background);\n",
       "  border-radius: 1rem;\n",
       "  height: 1rem;\n",
       "  width: 1rem;\n",
       "  text-decoration: none;\n",
       "  /* unfitted */\n",
       "  color: var(--sklearn-color-unfitted-level-1);\n",
       "  border: var(--sklearn-color-unfitted-level-1) 1pt solid;\n",
       "}\n",
       "\n",
       "#sk-container-id-4 a.estimator_doc_link.fitted {\n",
       "  /* fitted */\n",
       "  border: var(--sklearn-color-fitted-level-1) 1pt solid;\n",
       "  color: var(--sklearn-color-fitted-level-1);\n",
       "}\n",
       "\n",
       "/* On hover */\n",
       "#sk-container-id-4 a.estimator_doc_link:hover {\n",
       "  /* unfitted */\n",
       "  background-color: var(--sklearn-color-unfitted-level-3);\n",
       "  color: var(--sklearn-color-background);\n",
       "  text-decoration: none;\n",
       "}\n",
       "\n",
       "#sk-container-id-4 a.estimator_doc_link.fitted:hover {\n",
       "  /* fitted */\n",
       "  background-color: var(--sklearn-color-fitted-level-3);\n",
       "}\n",
       "</style><div id=\"sk-container-id-4\" class=\"sk-top-container\"><div class=\"sk-text-repr-fallback\"><pre>GridSearchCV(cv=3,\n",
       "             estimator=XGBClassifier(base_score=None, booster=None,\n",
       "                                     callbacks=None, colsample_bylevel=None,\n",
       "                                     colsample_bynode=None,\n",
       "                                     colsample_bytree=None, device=None,\n",
       "                                     early_stopping_rounds=None,\n",
       "                                     enable_categorical=False,\n",
       "                                     eval_metric=&#x27;logloss&#x27;, feature_types=None,\n",
       "                                     gamma=None, grow_policy=None,\n",
       "                                     importance_type=None,\n",
       "                                     interaction_constraints=None,\n",
       "                                     learning_rate=...\n",
       "                                     max_leaves=None, min_child_weight=None,\n",
       "                                     missing=nan, monotone_constraints=None,\n",
       "                                     multi_strategy=None, n_estimators=None,\n",
       "                                     n_jobs=None, num_parallel_tree=None,\n",
       "                                     random_state=42, ...),\n",
       "             n_jobs=1,\n",
       "             param_grid={&#x27;colsample_bytree&#x27;: [0.7, 0.9],\n",
       "                         &#x27;learning_rate&#x27;: [0.01, 0.1, 0.2],\n",
       "                         &#x27;max_depth&#x27;: [3, 5, 7],\n",
       "                         &#x27;n_estimators&#x27;: [100, 200, 300],\n",
       "                         &#x27;subsample&#x27;: [0.7, 0.9]},\n",
       "             scoring=&#x27;recall&#x27;, verbose=1)</pre><b>In a Jupyter environment, please rerun this cell to show the HTML representation or trust the notebook. <br />On GitHub, the HTML representation is unable to render, please try loading this page with nbviewer.org.</b></div><div class=\"sk-container\" hidden><div class=\"sk-item sk-dashed-wrapped\"><div class=\"sk-label-container\"><div class=\"sk-label fitted sk-toggleable\"><input class=\"sk-toggleable__control sk-hidden--visually\" id=\"sk-estimator-id-6\" type=\"checkbox\" ><label for=\"sk-estimator-id-6\" class=\"sk-toggleable__label fitted sk-toggleable__label-arrow\"><div><div>GridSearchCV</div></div><div><a class=\"sk-estimator-doc-link fitted\" rel=\"noreferrer\" target=\"_blank\" href=\"https://scikit-learn.org/1.6/modules/generated/sklearn.model_selection.GridSearchCV.html\">?<span>Documentation for GridSearchCV</span></a><span class=\"sk-estimator-doc-link fitted\">i<span>Fitted</span></span></div></label><div class=\"sk-toggleable__content fitted\"><pre>GridSearchCV(cv=3,\n",
       "             estimator=XGBClassifier(base_score=None, booster=None,\n",
       "                                     callbacks=None, colsample_bylevel=None,\n",
       "                                     colsample_bynode=None,\n",
       "                                     colsample_bytree=None, device=None,\n",
       "                                     early_stopping_rounds=None,\n",
       "                                     enable_categorical=False,\n",
       "                                     eval_metric=&#x27;logloss&#x27;, feature_types=None,\n",
       "                                     gamma=None, grow_policy=None,\n",
       "                                     importance_type=None,\n",
       "                                     interaction_constraints=None,\n",
       "                                     learning_rate=...\n",
       "                                     max_leaves=None, min_child_weight=None,\n",
       "                                     missing=nan, monotone_constraints=None,\n",
       "                                     multi_strategy=None, n_estimators=None,\n",
       "                                     n_jobs=None, num_parallel_tree=None,\n",
       "                                     random_state=42, ...),\n",
       "             n_jobs=1,\n",
       "             param_grid={&#x27;colsample_bytree&#x27;: [0.7, 0.9],\n",
       "                         &#x27;learning_rate&#x27;: [0.01, 0.1, 0.2],\n",
       "                         &#x27;max_depth&#x27;: [3, 5, 7],\n",
       "                         &#x27;n_estimators&#x27;: [100, 200, 300],\n",
       "                         &#x27;subsample&#x27;: [0.7, 0.9]},\n",
       "             scoring=&#x27;recall&#x27;, verbose=1)</pre></div> </div></div><div class=\"sk-parallel\"><div class=\"sk-parallel-item\"><div class=\"sk-item\"><div class=\"sk-label-container\"><div class=\"sk-label fitted sk-toggleable\"><input class=\"sk-toggleable__control sk-hidden--visually\" id=\"sk-estimator-id-7\" type=\"checkbox\" ><label for=\"sk-estimator-id-7\" class=\"sk-toggleable__label fitted sk-toggleable__label-arrow\"><div><div>best_estimator_: XGBClassifier</div></div></label><div class=\"sk-toggleable__content fitted\"><pre>XGBClassifier(base_score=None, booster=None, callbacks=None,\n",
       "              colsample_bylevel=None, colsample_bynode=None,\n",
       "              colsample_bytree=0.9, device=None, early_stopping_rounds=None,\n",
       "              enable_categorical=False, eval_metric=&#x27;logloss&#x27;,\n",
       "              feature_types=None, gamma=None, grow_policy=None,\n",
       "              importance_type=None, interaction_constraints=None,\n",
       "              learning_rate=0.2, max_bin=None, max_cat_threshold=None,\n",
       "              max_cat_to_onehot=None, max_delta_step=None, max_depth=7,\n",
       "              max_leaves=None, min_child_weight=None, missing=nan,\n",
       "              monotone_constraints=None, multi_strategy=None, n_estimators=300,\n",
       "              n_jobs=None, num_parallel_tree=None, random_state=42, ...)</pre></div> </div></div><div class=\"sk-serial\"><div class=\"sk-item\"><div class=\"sk-estimator fitted sk-toggleable\"><input class=\"sk-toggleable__control sk-hidden--visually\" id=\"sk-estimator-id-8\" type=\"checkbox\" ><label for=\"sk-estimator-id-8\" class=\"sk-toggleable__label fitted sk-toggleable__label-arrow\"><div><div>XGBClassifier</div></div></label><div class=\"sk-toggleable__content fitted\"><pre>XGBClassifier(base_score=None, booster=None, callbacks=None,\n",
       "              colsample_bylevel=None, colsample_bynode=None,\n",
       "              colsample_bytree=0.9, device=None, early_stopping_rounds=None,\n",
       "              enable_categorical=False, eval_metric=&#x27;logloss&#x27;,\n",
       "              feature_types=None, gamma=None, grow_policy=None,\n",
       "              importance_type=None, interaction_constraints=None,\n",
       "              learning_rate=0.2, max_bin=None, max_cat_threshold=None,\n",
       "              max_cat_to_onehot=None, max_delta_step=None, max_depth=7,\n",
       "              max_leaves=None, min_child_weight=None, missing=nan,\n",
       "              monotone_constraints=None, multi_strategy=None, n_estimators=300,\n",
       "              n_jobs=None, num_parallel_tree=None, random_state=42, ...)</pre></div> </div></div></div></div></div></div></div></div></div>"
      ],
      "text/plain": [
       "GridSearchCV(cv=3,\n",
       "             estimator=XGBClassifier(base_score=None, booster=None,\n",
       "                                     callbacks=None, colsample_bylevel=None,\n",
       "                                     colsample_bynode=None,\n",
       "                                     colsample_bytree=None, device=None,\n",
       "                                     early_stopping_rounds=None,\n",
       "                                     enable_categorical=False,\n",
       "                                     eval_metric='logloss', feature_types=None,\n",
       "                                     gamma=None, grow_policy=None,\n",
       "                                     importance_type=None,\n",
       "                                     interaction_constraints=None,\n",
       "                                     learning_rate=...\n",
       "                                     max_leaves=None, min_child_weight=None,\n",
       "                                     missing=nan, monotone_constraints=None,\n",
       "                                     multi_strategy=None, n_estimators=None,\n",
       "                                     n_jobs=None, num_parallel_tree=None,\n",
       "                                     random_state=42, ...),\n",
       "             n_jobs=1,\n",
       "             param_grid={'colsample_bytree': [0.7, 0.9],\n",
       "                         'learning_rate': [0.01, 0.1, 0.2],\n",
       "                         'max_depth': [3, 5, 7],\n",
       "                         'n_estimators': [100, 200, 300],\n",
       "                         'subsample': [0.7, 0.9]},\n",
       "             scoring='recall', verbose=1)"
      ]
     },
     "execution_count": 156,
     "metadata": {},
     "output_type": "execute_result"
    }
   ],
   "source": [
    "grid_search.fit(X_train_resampled,y_train_resampled)"
   ]
  },
  {
   "cell_type": "code",
   "execution_count": 157,
   "id": "a9ea0441-2698-42cd-8251-ab5d618cf9c0",
   "metadata": {},
   "outputs": [],
   "source": [
    "best_xgb = grid_search.best_estimator_"
   ]
  },
  {
   "cell_type": "code",
   "execution_count": 158,
   "id": "7fd1e411-0241-41ae-ae08-a89c541ea15a",
   "metadata": {},
   "outputs": [],
   "source": [
    "y_pred_best = best_xgb.predict(X_test)\n",
    "y_pred_proba_best = best_xgb.predict_proba(X_test)[:,1]"
   ]
  },
  {
   "cell_type": "code",
   "execution_count": 159,
   "id": "f90ecf09-fda9-4b99-9943-8068a41a25db",
   "metadata": {},
   "outputs": [
    {
     "name": "stdout",
     "output_type": "stream",
     "text": [
      "Classification report\n",
      "              precision    recall  f1-score   support\n",
      "\n",
      "           0       0.96      0.94      0.95     27995\n",
      "           1       0.32      0.42      0.37      2005\n",
      "\n",
      "    accuracy                           0.90     30000\n",
      "   macro avg       0.64      0.68      0.66     30000\n",
      "weighted avg       0.92      0.90      0.91     30000\n",
      "\n",
      "\n",
      "AOC Score\n",
      "0.8220041697862861\n",
      "\n",
      "Confusion Matrix\n",
      "[[26234  1761]\n",
      " [ 1164   841]]\n"
     ]
    }
   ],
   "source": [
    "print('Classification report')\n",
    "print(classification_report(y_test,y_pred_best))\n",
    "print('\\nAOC Score')\n",
    "print(roc_auc_score(y_test,y_pred_proba_best))\n",
    "print('\\nConfusion Matrix')\n",
    "print(confusion_matrix(y_test,y_pred_best))"
   ]
  },
  {
   "cell_type": "code",
   "execution_count": 160,
   "id": "87a9a164-2629-45f7-8cc4-7e7b8c9fe7b7",
   "metadata": {},
   "outputs": [],
   "source": [
    "from sklearn.metrics import precision_recall_curve, auc"
   ]
  },
  {
   "cell_type": "code",
   "execution_count": 161,
   "id": "5e78a4c3-e83d-439b-9974-7ae161398f59",
   "metadata": {},
   "outputs": [],
   "source": [
    "precision, recall, thresholds = precision_recall_curve(y_test,y_pred_proba_best)\n",
    "auc_pr = auc(recall,precision)"
   ]
  },
  {
   "cell_type": "code",
   "execution_count": 162,
   "id": "9a214e23-152b-43e6-a5dc-06a4326c2eb9",
   "metadata": {},
   "outputs": [
    {
     "name": "stdout",
     "output_type": "stream",
     "text": [
      "Area undder the PR curve: 0.30046630153008497\n"
     ]
    }
   ],
   "source": [
    "print('Area undder the PR curve:',auc_pr)"
   ]
  },
  {
   "cell_type": "code",
   "execution_count": 165,
   "id": "5a8e45c0-2924-4d1e-ad40-ddff57748ac8",
   "metadata": {},
   "outputs": [
    {
     "data": {
      "image/png": "[encoded data removed]",
      "text/plain": [
       "<Figure size 800x600 with 1 Axes>"
      ]
     },
     "metadata": {},
     "output_type": "display_data"
    }
   ],
   "source": [
    "plt.figure(figsize=(8,6))\n",
    "plt.plot(recall,precision,marker='.')\n",
    "plt.xlabel('Recall')\n",
    "plt.ylabel('Precision')\n",
    "plt.grid(True)"
   ]
  },
  {
   "cell_type": "code",
   "execution_count": 167,
   "id": "4b15cde5-a2bf-4c42-9494-626db2e8794f",
   "metadata": {},
   "outputs": [
    {
     "name": "stdout",
     "output_type": "stream",
     "text": [
      "Thresholds: 0.00014333653 Recall: 1.0 Precision: 0.06683333333333333\n",
      "Thresholds: 0.00076491205 Recall: 1.0 Precision: 0.06696726786907148\n",
      "Thresholds: 0.0011436881 Recall: 1.0 Precision: 0.06711072432721918\n",
      "Thresholds: 0.001460717 Recall: 0.9995012468827931 Precision: 0.06720096576238221\n",
      "Thresholds: 0.0017497261 Recall: 0.9995012468827931 Precision: 0.06733870967741935\n",
      "Thresholds: 0.0020923673 Recall: 0.9995012468827931 Precision: 0.06745657735290157\n",
      "Thresholds: 0.0023099522 Recall: 0.9985037406483791 Precision: 0.06752563410685375\n",
      "Thresholds: 0.0025612034 Recall: 0.9985037406483791 Precision: 0.067651133714054\n",
      "Thresholds: 0.002814708 Recall: 0.9985037406483791 Precision: 0.0678000541858575\n",
      "Thresholds: 0.0031212291 Recall: 0.9985037406483791 Precision: 0.06792888165038002\n",
      "Thresholds: 0.0033738422 Recall: 0.9985037406483791 Precision: 0.06804663335712587\n",
      "Thresholds: 0.0036213188 Recall: 0.9985037406483791 Precision: 0.06818336625570465\n",
      "Thresholds: 0.003843274 Recall: 0.9985037406483791 Precision: 0.06830899413129521\n",
      "Thresholds: 0.004067645 Recall: 0.9985037406483791 Precision: 0.06842572971494976\n",
      "Thresholds: 0.00426941 Recall: 0.9980049875311721 Precision: 0.06851331918099021\n",
      "Thresholds: 0.004530758 Recall: 0.9975062344139651 Precision: 0.06860592755214051\n",
      "Thresholds: 0.004771448 Recall: 0.9975062344139651 Precision: 0.06873088422282553\n",
      "Thresholds: 0.0049860887 Recall: 0.9975062344139651 Precision: 0.06885155604516661\n",
      "Thresholds: 0.005210134 Recall: 0.9975062344139651 Precision: 0.06897503103876397\n",
      "Thresholds: 0.005437988 Recall: 0.9970074812967581 Precision: 0.06906201416479531\n",
      "Thresholds: 0.0056433505 Recall: 0.9970074812967581 Precision: 0.06918630810230851\n",
      "Thresholds: 0.005894515 Recall: 0.9960099750623441 Precision: 0.06925130908208205\n",
      "Thresholds: 0.0060839406 Recall: 0.9955112219451372 Precision: 0.06933685344078924\n",
      "Thresholds: 0.006322406 Recall: 0.9955112219451372 Precision: 0.06945991091314031\n",
      "Thresholds: 0.006500456 Recall: 0.9950124688279302 Precision: 0.06956066945606694\n",
      "Thresholds: 0.006713459 Recall: 0.9950124688279302 Precision: 0.06968215158924206\n",
      "Thresholds: 0.0069069644 Recall: 0.9935162094763093 Precision: 0.06970152909478988\n",
      "Thresholds: 0.007112803 Recall: 0.9930174563591022 Precision: 0.0697886361246451\n",
      "Thresholds: 0.0073240614 Recall: 0.9930174563591022 Precision: 0.06991852788312965\n",
      "Thresholds: 0.007605215 Recall: 0.9915211970074813 Precision: 0.0699359741082108\n",
      "Thresholds: 0.007824013 Recall: 0.9915211970074813 Precision: 0.07005920496193967\n",
      "Thresholds: 0.008027437 Recall: 0.9915211970074813 Precision: 0.07018287086069336\n",
      "Thresholds: 0.008225958 Recall: 0.9915211970074813 Precision: 0.07031692133559705\n",
      "Thresholds: 0.008444189 Recall: 0.9910224438902743 Precision: 0.07041355115347815\n",
      "Thresholds: 0.008630798 Recall: 0.9910224438902743 Precision: 0.0705460484271817\n",
      "Thresholds: 0.008814663 Recall: 0.9910224438902743 Precision: 0.07067401742841899\n",
      "Thresholds: 0.009051162 Recall: 0.9910224438902743 Precision: 0.07081002102562275\n",
      "Thresholds: 0.00928714 Recall: 0.9910224438902743 Precision: 0.07094148309471955\n",
      "Thresholds: 0.009499689 Recall: 0.9910224438902743 Precision: 0.07106835008405164\n",
      "Thresholds: 0.009685718 Recall: 0.9910224438902743 Precision: 0.07119822273183317\n",
      "Thresholds: 0.009860973 Recall: 0.9905236907730673 Precision: 0.07129011415033383\n",
      "Thresholds: 0.010061032 Recall: 0.9900249376558603 Precision: 0.07138490308195779\n",
      "Thresholds: 0.010238015 Recall: 0.9900249376558603 Precision: 0.07151606859778066\n",
      "Thresholds: 0.010418648 Recall: 0.9900249376558603 Precision: 0.0716503032053133\n",
      "Thresholds: 0.010646125 Recall: 0.9900249376558603 Precision: 0.07178244675080461\n",
      "Thresholds: 0.010843701 Recall: 0.9895261845386534 Precision: 0.07187624533565193\n",
      "Thresholds: 0.011016682 Recall: 0.9895261845386534 Precision: 0.07201451905626134\n",
      "Thresholds: 0.011222025 Recall: 0.9890274314214463 Precision: 0.07211171315320557\n",
      "Thresholds: 0.011412851 Recall: 0.9890274314214463 Precision: 0.07224570096181872\n",
      "Thresholds: 0.011629737 Recall: 0.9890274314214463 Precision: 0.07238018761178232\n",
      "Thresholds: 0.011800019 Recall: 0.9890274314214463 Precision: 0.07251517589409785\n",
      "Thresholds: 0.011961656 Recall: 0.9885286783042394 Precision: 0.07262201377693096\n",
      "Thresholds: 0.012141118 Recall: 0.9875311720698254 Precision: 0.07268722466960352\n",
      "Thresholds: 0.012342149 Recall: 0.9875311720698254 Precision: 0.07282356835484939\n",
      "Thresholds: 0.012550439 Recall: 0.9875311720698254 Precision: 0.07297118006928577\n",
      "Thresholds: 0.01277031 Recall: 0.9875311720698254 Precision: 0.07310859210574899\n",
      "Thresholds: 0.012967445 Recall: 0.9875311720698254 Precision: 0.07324923236284266\n",
      "Thresholds: 0.013138348 Recall: 0.9870324189526185 Precision: 0.07334791149327305\n",
      "Thresholds: 0.013350933 Recall: 0.9870324189526185 Precision: 0.07348408896810367\n",
      "Thresholds: 0.013518336 Recall: 0.9870324189526185 Precision: 0.0736235119047619\n",
      "Thresholds: 0.013688956 Recall: 0.9865336658354115 Precision: 0.07372619180737262\n",
      "Thresholds: 0.013868402 Recall: 0.9865336658354115 Precision: 0.07386660691612518\n",
      "Thresholds: 0.014071795 Recall: 0.9865336658354115 Precision: 0.07401586588834007\n",
      "Thresholds: 0.014259899 Recall: 0.9865336658354115 Precision: 0.07415738762044015\n",
      "Thresholds: 0.014446698 Recall: 0.9865336658354115 Precision: 0.07429666078203058\n",
      "Thresholds: 0.014625685 Recall: 0.9865336658354115 Precision: 0.074436458058932\n",
      "Thresholds: 0.014841358 Recall: 0.9865336658354115 Precision: 0.07457678241526222\n",
      "Thresholds: 0.0150465155 Recall: 0.9865336658354115 Precision: 0.07472045935327894\n",
      "Thresholds: 0.015223482 Recall: 0.9860349127182045 Precision: 0.07482967448902347\n",
      "Thresholds: 0.015425725 Recall: 0.9860349127182045 Precision: 0.07497155858930603\n",
      "Thresholds: 0.015609146 Recall: 0.9855361596009975 Precision: 0.07507884038147346\n",
      "Thresholds: 0.015810547 Recall: 0.9855361596009975 Precision: 0.07522460788792447\n",
      "Thresholds: 0.016004108 Recall: 0.9850374064837906 Precision: 0.07532992600503471\n",
      "Thresholds: 0.016183896 Recall: 0.9845386533665835 Precision: 0.0754356465912565\n",
      "Thresholds: 0.016331753 Recall: 0.9845386533665835 Precision: 0.07558005972892258\n",
      "Thresholds: 0.01651691 Recall: 0.9845386533665835 Precision: 0.0757250268528464\n",
      "Thresholds: 0.01672366 Recall: 0.9840399002493766 Precision: 0.07583503094130761\n",
      "Thresholds: 0.016897399 Recall: 0.9840399002493766 Precision: 0.07599275892616415\n",
      "Thresholds: 0.017063318 Recall: 0.9840399002493766 Precision: 0.07613938949561996\n",
      "Thresholds: 0.017219475 Recall: 0.9840399002493766 Precision: 0.07628658701620075\n",
      "Thresholds: 0.017412012 Recall: 0.9835411471321696 Precision: 0.0763985743065241\n",
      "Thresholds: 0.017610485 Recall: 0.9835411471321696 Precision: 0.0765527950310559\n",
      "Thresholds: 0.017818129 Recall: 0.9830423940149626 Precision: 0.07666575907269828\n",
      "Thresholds: 0.017987221 Recall: 0.9825436408977556 Precision: 0.07677917218801153\n",
      "Thresholds: 0.018188141 Recall: 0.9815461346633416 Precision: 0.07685998828353838\n",
      "Thresholds: 0.018462647 Recall: 0.9815461346633416 Precision: 0.0770163972919031\n",
      "Thresholds: 0.018648012 Recall: 0.9810473815461347 Precision: 0.0771342300301949\n",
      "Thresholds: 0.01883833 Recall: 0.9810473815461347 Precision: 0.0772979133100169\n",
      "Thresholds: 0.019039938 Recall: 0.9800498753117207 Precision: 0.0773743896676642\n",
      "Thresholds: 0.019241087 Recall: 0.9795511221945137 Precision: 0.07748757200347195\n",
      "Thresholds: 0.019438997 Recall: 0.9790523690773068 Precision: 0.07760733770854748\n",
      "Thresholds: 0.019614892 Recall: 0.9785536159600997 Precision: 0.07773067628065448\n",
      "Thresholds: 0.01984136 Recall: 0.9785536159600997 Precision: 0.07788495891389782\n",
      "Thresholds: 0.020025972 Recall: 0.9785536159600997 Precision: 0.07804606388480051\n",
      "Thresholds: 0.020244846 Recall: 0.9785536159600997 Precision: 0.07820783672818592\n",
      "Thresholds: 0.020468706 Recall: 0.9785536159600997 Precision: 0.07836402124855214\n",
      "Thresholds: 0.020679548 Recall: 0.9785536159600997 Precision: 0.07852397342511806\n",
      "Thresholds: 0.020854726 Recall: 0.9785536159600997 Precision: 0.07868457990776018\n",
      "Thresholds: 0.02109025 Recall: 0.9785536159600997 Precision: 0.07884267631103074\n",
      "Thresholds: 0.021315943 Recall: 0.9785536159600997 Precision: 0.07900140930138917\n",
      "Thresholds: 0.021488773 Recall: 0.9785536159600997 Precision: 0.07917036558792673\n",
      "Thresholds: 0.021660348 Recall: 0.9780548628428928 Precision: 0.07928998867863497\n",
      "Thresholds: 0.021854274 Recall: 0.9765586034912718 Precision: 0.07932906571590632\n",
      "Thresholds: 0.022053124 Recall: 0.9765586034912718 Precision: 0.07949332142422151\n",
      "Thresholds: 0.0221977 Recall: 0.9760598503740648 Precision: 0.07961433627598552\n",
      "Thresholds: 0.022394076 Recall: 0.9760598503740648 Precision: 0.07977986139421117\n",
      "Thresholds: 0.022600837 Recall: 0.9760598503740648 Precision: 0.07995587514299722\n",
      "Thresholds: 0.022789342 Recall: 0.9755610972568578 Precision: 0.0800786047654139\n",
      "Thresholds: 0.022978976 Recall: 0.9745635910224439 Precision: 0.08016410256410256\n",
      "Thresholds: 0.023236852 Recall: 0.9745635910224439 Precision: 0.08032887975334019\n",
      "Thresholds: 0.023479478 Recall: 0.9740648379052369 Precision: 0.08045645546675455\n",
      "Thresholds: 0.023678737 Recall: 0.9740648379052369 Precision: 0.08062252311756936\n",
      "Thresholds: 0.023940993 Recall: 0.9740648379052369 Precision: 0.0807959622703955\n",
      "Thresholds: 0.02416331 Recall: 0.9730673316708229 Precision: 0.08088723051409619\n",
      "Thresholds: 0.024342496 Recall: 0.972568578553616 Precision: 0.08101707590676804\n",
      "Thresholds: 0.024568157 Recall: 0.972568578553616 Precision: 0.08118910816887334\n",
      "Thresholds: 0.024791209 Recall: 0.971072319201995 Precision: 0.08123331108144193\n",
      "Thresholds: 0.024965381 Recall: 0.9705735660847881 Precision: 0.08136131783593946\n",
      "Thresholds: 0.025173588 Recall: 0.9705735660847881 Precision: 0.08153175800234624\n",
      "Thresholds: 0.025399774 Recall: 0.9705735660847881 Precision: 0.08170291376270047\n",
      "Thresholds: 0.025611203 Recall: 0.970074812967581 Precision: 0.08183271625715248\n",
      "Thresholds: 0.02582952 Recall: 0.970074812967581 Precision: 0.08200522809680412\n",
      "Thresholds: 0.026015744 Recall: 0.9695760598503741 Precision: 0.08213968817340601\n",
      "Thresholds: 0.02619669 Recall: 0.969077306733167 Precision: 0.08227821300021174\n",
      "Thresholds: 0.026461089 Recall: 0.969077306733167 Precision: 0.08245279015489072\n",
      "Thresholds: 0.026679054 Recall: 0.9685785536159601 Precision: 0.08258558366999787\n",
      "Thresholds: 0.026872117 Recall: 0.9680798004987531 Precision: 0.08272246846232527\n",
      "Thresholds: 0.027094228 Recall: 0.9680798004987531 Precision: 0.082899120184505\n",
      "Thresholds: 0.027292935 Recall: 0.9670822942643391 Precision: 0.08299447844882935\n",
      "Thresholds: 0.027516231 Recall: 0.9665835411471322 Precision: 0.08313671657157565\n",
      "Thresholds: 0.027728839 Recall: 0.9665835411471322 Precision: 0.08331542066119256\n",
      "Thresholds: 0.027918387 Recall: 0.9665835411471322 Precision: 0.08350568769389866\n",
      "Thresholds: 0.028114716 Recall: 0.9665835411471322 Precision: 0.08369682573958108\n",
      "Thresholds: 0.028301882 Recall: 0.9660847880299251 Precision: 0.08383829639889197\n",
      "Thresholds: 0.028532565 Recall: 0.9660847880299251 Precision: 0.084027416276245\n",
      "Thresholds: 0.028764566 Recall: 0.9660847880299251 Precision: 0.08421372983783314\n",
      "Thresholds: 0.028978301 Recall: 0.9660847880299251 Precision: 0.08440454921783085\n",
      "Thresholds: 0.029206337 Recall: 0.9660847880299251 Precision: 0.08459993011879804\n",
      "Thresholds: 0.029382959 Recall: 0.9660847880299251 Precision: 0.08478508272782982\n",
      "Thresholds: 0.029608104 Recall: 0.9660847880299251 Precision: 0.08497104755220214\n",
      "Thresholds: 0.029840332 Recall: 0.9655860349127182 Precision: 0.08511760826555287\n",
      "Thresholds: 0.030093683 Recall: 0.9655860349127182 Precision: 0.08530889221820745\n",
      "Thresholds: 0.030319951 Recall: 0.9655860349127182 Precision: 0.08549726196785021\n",
      "Thresholds: 0.03053539 Recall: 0.9650872817955112 Precision: 0.08564599654760324\n",
      "Thresholds: 0.030780604 Recall: 0.9650872817955112 Precision: 0.08583595794703455\n",
      "Thresholds: 0.031021358 Recall: 0.9650872817955112 Precision: 0.08602676388209665\n",
      "Thresholds: 0.031265505 Recall: 0.9640897755610972 Precision: 0.08614081996434937\n",
      "Thresholds: 0.031471737 Recall: 0.9640897755610972 Precision: 0.0863370405109652\n",
      "Thresholds: 0.03172358 Recall: 0.9640897755610972 Precision: 0.08653028336093826\n",
      "Thresholds: 0.031995572 Recall: 0.9640897755610972 Precision: 0.08672439319843869\n",
      "Thresholds: 0.032251187 Recall: 0.9640897755610972 Precision: 0.08691937587121723\n",
      "Thresholds: 0.03248019 Recall: 0.9635910224438903 Precision: 0.08707016990400648\n",
      "Thresholds: 0.032712627 Recall: 0.9635910224438903 Precision: 0.08727075616586864\n",
      "Thresholds: 0.03298705 Recall: 0.9635910224438903 Precision: 0.08746830858384644\n",
      "Thresholds: 0.03320104 Recall: 0.9635910224438903 Precision: 0.08766675741900354\n",
      "Thresholds: 0.03342012 Recall: 0.9630922693266832 Precision: 0.08782861821158919\n",
      "Thresholds: 0.033719663 Recall: 0.9620947630922694 Precision: 0.08794164577159791\n",
      "Thresholds: 0.033971284 Recall: 0.9620947630922694 Precision: 0.08814659111679767\n",
      "Thresholds: 0.034195717 Recall: 0.9620947630922694 Precision: 0.08834844737565266\n",
      "Thresholds: 0.034523398 Recall: 0.9620947630922694 Precision: 0.08855123026074183\n",
      "Thresholds: 0.03478477 Recall: 0.9620947630922694 Precision: 0.08875494616729548\n",
      "Thresholds: 0.03505669 Recall: 0.9615960099750623 Precision: 0.08891348459693783\n",
      "Thresholds: 0.035360396 Recall: 0.9605985037406484 Precision: 0.08902653231025238\n",
      "Thresholds: 0.03560081 Recall: 0.9605985037406484 Precision: 0.08923276501111935\n",
      "Thresholds: 0.03583129 Recall: 0.9600997506234414 Precision: 0.08939766869456184\n",
      "Thresholds: 0.036103494 Recall: 0.9596009975062344 Precision: 0.08955918633337988\n",
      "Thresholds: 0.0363166 Recall: 0.9591022443890275 Precision: 0.08972564389697649\n",
      "Thresholds: 0.036536753 Recall: 0.9586034912718204 Precision: 0.08988869142269199\n",
      "Thresholds: 0.036770843 Recall: 0.9581047381546135 Precision: 0.09005250328145509\n",
      "Thresholds: 0.03700126 Recall: 0.9581047381546135 Precision: 0.09027255639097745\n",
      "Thresholds: 0.037201785 Recall: 0.9581047381546135 Precision: 0.0904936875824383\n",
      "Thresholds: 0.0374319 Recall: 0.9566084788029925 Precision: 0.0905656813674568\n",
      "Thresholds: 0.037677526 Recall: 0.9566084788029925 Precision: 0.09078000757288905\n",
      "Thresholds: 0.03794156 Recall: 0.9566084788029925 Precision: 0.09099966788442378\n",
      "Thresholds: 0.03818316 Recall: 0.9566084788029925 Precision: 0.09121605554762924\n",
      "Thresholds: 0.038430985 Recall: 0.9561097256857856 Precision: 0.09138580349907041\n",
      "Thresholds: 0.038706485 Recall: 0.9561097256857856 Precision: 0.09160852527955653\n",
      "Thresholds: 0.038926136 Recall: 0.9561097256857856 Precision: 0.0918279363862809\n",
      "Thresholds: 0.039144937 Recall: 0.9556109725685785 Precision: 0.0920003841352156\n",
      "Thresholds: 0.03937135 Recall: 0.9551122194513716 Precision: 0.09217366191759722\n",
      "Thresholds: 0.039581683 Recall: 0.9546134663341646 Precision: 0.09234777574061565\n",
      "Thresholds: 0.039859254 Recall: 0.9526184538653366 Precision: 0.09237763590636487\n",
      "Thresholds: 0.0400988 Recall: 0.9526184538653366 Precision: 0.09260157083292932\n",
      "Thresholds: 0.04039564 Recall: 0.9521197007481297 Precision: 0.09278250303766707\n",
      "Thresholds: 0.04059531 Recall: 0.9521197007481297 Precision: 0.09301305788345351\n",
      "Thresholds: 0.040804226 Recall: 0.9521197007481297 Precision: 0.09324931613911684\n",
      "Thresholds: 0.04111736 Recall: 0.9521197007481297 Precision: 0.09347762217216728\n",
      "Thresholds: 0.041342963 Recall: 0.9521197007481297 Precision: 0.0937070488906342\n",
      "Thresholds: 0.041597415 Recall: 0.9521197007481297 Precision: 0.09393760456647968\n",
      "Thresholds: 0.041898727 Recall: 0.9516209476309226 Precision: 0.09412461151398549\n",
      "Thresholds: 0.04214847 Recall: 0.9511221945137157 Precision: 0.0943078977300826\n",
      "Thresholds: 0.042406887 Recall: 0.9496259351620948 Precision: 0.09439294035992266\n",
      "Thresholds: 0.042593393 Recall: 0.9486284289276808 Precision: 0.09453280318091452\n",
      "Thresholds: 0.042883713 Recall: 0.9481296758104738 Precision: 0.09471848530144494\n",
      "Thresholds: 0.043176007 Recall: 0.9481296758104738 Precision: 0.09495504495504495\n",
      "Thresholds: 0.043515675 Recall: 0.9476309226932669 Precision: 0.09514271407110667\n",
      "Thresholds: 0.043831855 Recall: 0.9476309226932669 Precision: 0.09539110352445025\n",
      "Thresholds: 0.04409078 Recall: 0.9471321695760598 Precision: 0.09559045605557233\n",
      "Thresholds: 0.044351727 Recall: 0.9461346633416459 Precision: 0.09573072264836496\n",
      "Thresholds: 0.044625003 Recall: 0.9456359102244389 Precision: 0.0959271439413104\n",
      "Thresholds: 0.04486441 Recall: 0.944638403990025 Precision: 0.09607872977223152\n",
      "Thresholds: 0.045123704 Recall: 0.943640897755611 Precision: 0.09622132940039668\n",
      "Thresholds: 0.045389466 Recall: 0.943640897755611 Precision: 0.09646662927650028\n",
      "Thresholds: 0.045687437 Recall: 0.943142144638404 Precision: 0.09666700746344954\n",
      "Thresholds: 0.045939866 Recall: 0.942643391521197 Precision: 0.09686346863468635\n",
      "Thresholds: 0.04617263 Recall: 0.942643391521197 Precision: 0.09712729328331364\n",
      "Thresholds: 0.046467338 Recall: 0.94214463840399 Precision: 0.09732598279148849\n",
      "Thresholds: 0.046774417 Recall: 0.94214463840399 Precision: 0.09758743606963889\n",
      "Thresholds: 0.047085717 Recall: 0.94214463840399 Precision: 0.0978401615994199\n",
      "Thresholds: 0.04729779 Recall: 0.941147132169576 Precision: 0.0979903411746378\n",
      "Thresholds: 0.047567304 Recall: 0.940149625935162 Precision: 0.09814641257940226\n",
      "Thresholds: 0.04783015 Recall: 0.9391521197007481 Precision: 0.09829818333681353\n",
      "Thresholds: 0.048100393 Recall: 0.9391521197007481 Precision: 0.09855542761436198\n",
      "Thresholds: 0.048411056 Recall: 0.9391521197007481 Precision: 0.09881402183039463\n",
      "Thresholds: 0.048698436 Recall: 0.9386533665835411 Precision: 0.09902136167526045\n",
      "Thresholds: 0.048998915 Recall: 0.9386533665835411 Precision: 0.09928254906098333\n",
      "Thresholds: 0.04936222 Recall: 0.9381546134663342 Precision: 0.09949748743718594\n",
      "Thresholds: 0.049721356 Recall: 0.9366583541147132 Precision: 0.09960222752585521\n",
      "Thresholds: 0.05005747 Recall: 0.9356608478802992 Precision: 0.09976600723250373\n",
      "Thresholds: 0.050334826 Recall: 0.9351620947630923 Precision: 0.09997867121680708\n",
      "Thresholds: 0.050651856 Recall: 0.9346633416458853 Precision: 0.10019247219846023\n",
      "Thresholds: 0.05094287 Recall: 0.9341645885286783 Precision: 0.10040741932025303\n",
      "Thresholds: 0.0511721 Recall: 0.9336658354114713 Precision: 0.10062352182326381\n",
      "Thresholds: 0.05153431 Recall: 0.9336658354114713 Precision: 0.10089468578204161\n",
      "Thresholds: 0.051843606 Recall: 0.9336658354114713 Precision: 0.10116731517509728\n",
      "Thresholds: 0.052196983 Recall: 0.9331670822942644 Precision: 0.10138723312019074\n",
      "Thresholds: 0.05247903 Recall: 0.9326683291770573 Precision: 0.10161386730424388\n",
      "Thresholds: 0.052818812 Recall: 0.9321695760598504 Precision: 0.10184176111595467\n",
      "Thresholds: 0.053121116 Recall: 0.9316708229426434 Precision: 0.10207092508606087\n",
      "Thresholds: 0.053503644 Recall: 0.9306733167082294 Precision: 0.10224097309736453\n",
      "Thresholds: 0.05381211 Recall: 0.9306733167082294 Precision: 0.10252183945937036\n",
      "Thresholds: 0.054173008 Recall: 0.9296758104738154 Precision: 0.10269406644262025\n",
      "Thresholds: 0.05455023 Recall: 0.9276807980049875 Precision: 0.10275675377050991\n",
      "Thresholds: 0.054809745 Recall: 0.9276807980049875 Precision: 0.10304138274887818\n",
      "Thresholds: 0.05511887 Recall: 0.9266832917705735 Precision: 0.10321648797289039\n",
      "Thresholds: 0.05544415 Recall: 0.9266832917705735 Precision: 0.10350974930362117\n",
      "Thresholds: 0.055814397 Recall: 0.9266832917705735 Precision: 0.10379888268156424\n",
      "Thresholds: 0.05607894 Recall: 0.9261845386533666 Precision: 0.10403361344537815\n",
      "Thresholds: 0.056480784 Recall: 0.9251870324189526 Precision: 0.10421348314606742\n",
      "Thresholds: 0.056867965 Recall: 0.9241895261845386 Precision: 0.1043943661971831\n",
      "Thresholds: 0.057282794 Recall: 0.9236907730673317 Precision: 0.10463276836158192\n",
      "Thresholds: 0.05762499 Recall: 0.9231920199501247 Precision: 0.10487846336902941\n",
      "Thresholds: 0.057912596 Recall: 0.9231920199501247 Precision: 0.10517643047900449\n",
      "Thresholds: 0.058242023 Recall: 0.9226932668329177 Precision: 0.10542511967175747\n",
      "Thresholds: 0.058584876 Recall: 0.9226932668329177 Precision: 0.10572636872785461\n",
      "Thresholds: 0.05895031 Recall: 0.9221945137157107 Precision: 0.10597810511835845\n",
      "Thresholds: 0.05927751 Recall: 0.9216957605985038 Precision: 0.10622521124331781\n",
      "Thresholds: 0.05965332 Recall: 0.9211970074812967 Precision: 0.10647374185738168\n",
      "Thresholds: 0.060004096 Recall: 0.9211970074812967 Precision: 0.10678152280742326\n",
      "Thresholds: 0.060365193 Recall: 0.9206982543640898 Precision: 0.1070331072070505\n",
      "Thresholds: 0.060718138 Recall: 0.9201995012468828 Precision: 0.10728615456184218\n",
      "Thresholds: 0.06109509 Recall: 0.9197007481296758 Precision: 0.10754067766956318\n",
      "Thresholds: 0.06144688 Recall: 0.9197007481296758 Precision: 0.10785517927121717\n",
      "Thresholds: 0.061820555 Recall: 0.9197007481296758 Precision: 0.10818421824581989\n",
      "Thresholds: 0.06232786 Recall: 0.9182044887780548 Precision: 0.10832597822889085\n",
      "Thresholds: 0.06259986 Recall: 0.9177057356608479 Precision: 0.10858660371791089\n",
      "Thresholds: 0.062904805 Recall: 0.9172069825436409 Precision: 0.10885521486918433\n",
      "Thresholds: 0.063267335 Recall: 0.9167082294264339 Precision: 0.10911897411541202\n",
      "Thresholds: 0.063669465 Recall: 0.9167082294264339 Precision: 0.10944384899368823\n",
      "Thresholds: 0.06398843 Recall: 0.9152119700748129 Precision: 0.10960458726555967\n",
      "Thresholds: 0.06448623 Recall: 0.913715710723192 Precision: 0.10975975076388472\n",
      "Thresholds: 0.06487863 Recall: 0.9132169576059851 Precision: 0.11004267083358375\n",
      "Thresholds: 0.065206535 Recall: 0.9132169576059851 Precision: 0.1103809983120328\n",
      "Thresholds: 0.065727785 Recall: 0.912718204488778 Precision: 0.11065425081630186\n",
      "Thresholds: 0.06621806 Recall: 0.9117206982543641 Precision: 0.11086851043182921\n",
      "Thresholds: 0.06658281 Recall: 0.9112219451371572 Precision: 0.11114490813967635\n",
      "Thresholds: 0.06701071 Recall: 0.9107231920199501 Precision: 0.11142299243348792\n",
      "Thresholds: 0.06747521 Recall: 0.9087281795511222 Precision: 0.11151915779165136\n",
      "Thresholds: 0.06781439 Recall: 0.9082294264339152 Precision: 0.11180009823182711\n",
      "Thresholds: 0.06823825 Recall: 0.9072319201995013 Precision: 0.11202808400566606\n",
      "Thresholds: 0.068584934 Recall: 0.9062344139650873 Precision: 0.11225057144622227\n",
      "Thresholds: 0.068965666 Recall: 0.9052369077306733 Precision: 0.11247443762781185\n",
      "Thresholds: 0.06946007 Recall: 0.9042394014962594 Precision: 0.11270670147954744\n",
      "Thresholds: 0.06981641 Recall: 0.9037406483790523 Precision: 0.11299575954103268\n",
      "Thresholds: 0.07021676 Recall: 0.9037406483790523 Precision: 0.11334918053296635\n",
      "Thresholds: 0.07062119 Recall: 0.9037406483790523 Precision: 0.11370481927710843\n",
      "Thresholds: 0.071204446 Recall: 0.9027431421446384 Precision: 0.11393679969784716\n",
      "Thresholds: 0.07158529 Recall: 0.9007481296758105 Precision: 0.11404395049254862\n",
      "Thresholds: 0.07201954 Recall: 0.9002493765586035 Precision: 0.11434182186747752\n",
      "Thresholds: 0.07234786 Recall: 0.8997506234413966 Precision: 0.11464887194153162\n",
      "Thresholds: 0.0728338 Recall: 0.8997506234413966 Precision: 0.11501434491552438\n",
      "Thresholds: 0.07327959 Recall: 0.8997506234413966 Precision: 0.11538215542053086\n",
      "Thresholds: 0.07370024 Recall: 0.8992518703241895 Precision: 0.11568816169393648\n",
      "Thresholds: 0.07410217 Recall: 0.8982543640897755 Precision: 0.11593176697779209\n",
      "Thresholds: 0.07458019 Recall: 0.8972568578553616 Precision: 0.11617694543106231\n",
      "Thresholds: 0.07497467 Recall: 0.8962593516209476 Precision: 0.11643125566930154\n",
      "Thresholds: 0.075465 Recall: 0.8952618453865336 Precision: 0.11668725216147696\n",
      "Thresholds: 0.07601359 Recall: 0.8947630922693267 Precision: 0.11700254353355508\n",
      "Thresholds: 0.07641524 Recall: 0.8937655860349127 Precision: 0.1172621384635519\n",
      "Thresholds: 0.076913394 Recall: 0.8937655860349127 Precision: 0.11764705882352941\n",
      "Thresholds: 0.07731852 Recall: 0.8937655860349127 Precision: 0.11803451455671189\n",
      "Thresholds: 0.07775157 Recall: 0.8927680798004988 Precision: 0.1182923605604018\n",
      "Thresholds: 0.07817881 Recall: 0.8917705735660848 Precision: 0.11855191619148654\n",
      "Thresholds: 0.078522936 Recall: 0.8917705735660848 Precision: 0.11894624800425758\n",
      "Thresholds: 0.07888211 Recall: 0.8907730673316708 Precision: 0.11920971832866106\n",
      "Thresholds: 0.079352476 Recall: 0.8892768079800498 Precision: 0.11941598017547385\n",
      "Thresholds: 0.0797698 Recall: 0.8892768079800498 Precision: 0.11981721658490693\n",
      "Thresholds: 0.08036668 Recall: 0.887281795511222 Precision: 0.11995145303755647\n",
      "Thresholds: 0.08077667 Recall: 0.886284289276808 Precision: 0.12022190650158988\n",
      "Thresholds: 0.081237085 Recall: 0.885286783042394 Precision: 0.12049419591337995\n",
      "Thresholds: 0.08170081 Recall: 0.8832917705735661 Precision: 0.12064032697547684\n",
      "Thresholds: 0.082291245 Recall: 0.8827930174563591 Precision: 0.12098427887901572\n",
      "Thresholds: 0.08284091 Recall: 0.8817955112219451 Precision: 0.12126200274348423\n",
      "Thresholds: 0.08340362 Recall: 0.8817955112219451 Precision: 0.12168765916442977\n",
      "Thresholds: 0.08396699 Recall: 0.8817955112219451 Precision: 0.12210788037847918\n",
      "Thresholds: 0.0844721 Recall: 0.8807980049875311 Precision: 0.12239240418601428\n",
      "Thresholds: 0.084911525 Recall: 0.8798004987531172 Precision: 0.12267890673899437\n",
      "Thresholds: 0.08544731 Recall: 0.8793017456359102 Precision: 0.12304578447794529\n",
      "Thresholds: 0.08583924 Recall: 0.8783042394014963 Precision: 0.12333660176495308\n",
      "Thresholds: 0.08634033 Recall: 0.8768079800498753 Precision: 0.12356786392071413\n",
      "Thresholds: 0.086752094 Recall: 0.8768079800498753 Precision: 0.12400366791281653\n",
      "Thresholds: 0.08728356 Recall: 0.8768079800498753 Precision: 0.12444255680611595\n",
      "Thresholds: 0.0877811 Recall: 0.8763092269326683 Precision: 0.12481352560914968\n",
      "Thresholds: 0.08824345 Recall: 0.8763092269326683 Precision: 0.12525843017038568\n",
      "Thresholds: 0.08882523 Recall: 0.8753117206982544 Precision: 0.12556342562781714\n",
      "Thresholds: 0.08939564 Recall: 0.8733167082294264 Precision: 0.12572700509801105\n",
      "Thresholds: 0.08983324 Recall: 0.8723192019950124 Precision: 0.1260449697319112\n",
      "Thresholds: 0.09030971 Recall: 0.8718204488778055 Precision: 0.12642846810357297\n",
      "Thresholds: 0.09085029 Recall: 0.8713216957605985 Precision: 0.12681475029036005\n",
      "Thresholds: 0.091401905 Recall: 0.8713216957605985 Precision: 0.1272767011511001\n",
      "Thresholds: 0.092034034 Recall: 0.8698254364089776 Precision: 0.12752266744662183\n",
      "Thresholds: 0.092547 Recall: 0.8688279301745636 Precision: 0.12784382797592836\n",
      "Thresholds: 0.09312633 Recall: 0.8688279301745636 Precision: 0.1283146729522687\n",
      "Thresholds: 0.093559794 Recall: 0.8683291770573566 Precision: 0.12871506727783527\n",
      "Thresholds: 0.093934 Recall: 0.8673316708229426 Precision: 0.1290442267735233\n",
      "Thresholds: 0.09448298 Recall: 0.8658354114713217 Precision: 0.12930135557872785\n",
      "Thresholds: 0.09504141 Recall: 0.8648379052369077 Precision: 0.12963516746411483\n",
      "Thresholds: 0.095693275 Recall: 0.8638403990024938 Precision: 0.129971484316374\n",
      "Thresholds: 0.096368074 Recall: 0.8618453865336658 Precision: 0.13015968665260622\n",
      "Thresholds: 0.096929856 Recall: 0.8613466334164589 Precision: 0.130586011342155\n",
      "Thresholds: 0.09754848 Recall: 0.8598503740648379 Precision: 0.130853889943074\n",
      "Thresholds: 0.098068826 Recall: 0.859351620947631 Precision: 0.1312861932337702\n",
      "Thresholds: 0.098487265 Recall: 0.858354114713217 Precision: 0.1316353067156188\n",
      "Thresholds: 0.099060535 Recall: 0.856857855361596 Precision: 0.13191031941031942\n",
      "Thresholds: 0.099733636 Recall: 0.856857855361596 Precision: 0.13241868352088793\n",
      "Thresholds: 0.100391746 Recall: 0.8553615960099751 Precision: 0.13270912326859088\n",
      "Thresholds: 0.10101117 Recall: 0.8538653366583541 Precision: 0.1329915326652684\n",
      "Thresholds: 0.101608574 Recall: 0.8533665835411471 Precision: 0.13343211416985104\n",
      "Thresholds: 0.10234215 Recall: 0.8523690773067332 Precision: 0.13379785485007437\n",
      "Thresholds: 0.10293761 Recall: 0.8513715710723192 Precision: 0.1341664701721292\n",
      "Thresholds: 0.1035344 Recall: 0.8498753117206983 Precision: 0.1344590862463505\n",
      "Thresholds: 0.10417258 Recall: 0.8498753117206983 Precision: 0.13499168185059018\n",
      "Thresholds: 0.1047391 Recall: 0.8483790523690773 Precision: 0.13530066815144767\n",
      "Thresholds: 0.10536454 Recall: 0.8473815461346633 Precision: 0.13568120108608847\n",
      "Thresholds: 0.106091626 Recall: 0.8473815461346633 Precision: 0.13622514432328417\n",
      "Thresholds: 0.10678766 Recall: 0.8473815461346633 Precision: 0.13677346643052649\n",
      "Thresholds: 0.107316904 Recall: 0.8463840399002494 Precision: 0.13716456514710637\n",
      "Thresholds: 0.107788906 Recall: 0.8458852867830424 Precision: 0.13763999350754746\n",
      "Thresholds: 0.10858377 Recall: 0.8453865336658354 Precision: 0.1381305517072773\n",
      "Thresholds: 0.109348714 Recall: 0.8448877805486285 Precision: 0.13861386138613863\n",
      "Thresholds: 0.110215075 Recall: 0.8433915211970074 Precision: 0.13893681702407362\n",
      "Thresholds: 0.11067294 Recall: 0.8433915211970074 Precision: 0.1395099414239749\n",
      "Thresholds: 0.11140006 Recall: 0.8418952618453865 Precision: 0.13983928423494324\n",
      "Thresholds: 0.11221213 Recall: 0.8389027431421446 Precision: 0.13996837813098112\n",
      "Thresholds: 0.11294693 Recall: 0.8384039900249377 Precision: 0.14046962480153757\n",
      "Thresholds: 0.11354945 Recall: 0.8364089775561098 Precision: 0.14072333641017035\n",
      "Thresholds: 0.11426793 Recall: 0.8349127182044888 Precision: 0.14106345327378444\n",
      "Thresholds: 0.11495368 Recall: 0.8344139650872818 Precision: 0.1415876777251185\n",
      "Thresholds: 0.115671806 Recall: 0.8334164588528679 Precision: 0.14203144921376964\n",
      "Thresholds: 0.11649855 Recall: 0.8314214463840399 Precision: 0.14229620145113103\n",
      "Thresholds: 0.11734922 Recall: 0.8309226932668329 Precision: 0.1428204029147021\n",
      "Thresholds: 0.11813554 Recall: 0.830423940149626 Precision: 0.14334911752044768\n",
      "Thresholds: 0.118941784 Recall: 0.829426433915212 Precision: 0.14379593601383484\n",
      "Thresholds: 0.11968562 Recall: 0.828428927680798 Precision: 0.14424663482414243\n",
      "Thresholds: 0.12050437 Recall: 0.827930174563591 Precision: 0.14478848669864805\n",
      "Thresholds: 0.121225335 Recall: 0.8259351620947631 Precision: 0.14508498335377606\n",
      "Thresholds: 0.122095264 Recall: 0.8234413965087282 Precision: 0.14528335093277014\n",
      "Thresholds: 0.123027764 Recall: 0.8219451371571073 Precision: 0.14566024394555419\n",
      "Thresholds: 0.12383642 Recall: 0.8214463840399002 Precision: 0.14621803977272727\n",
      "Thresholds: 0.124522254 Recall: 0.8209476309226933 Precision: 0.146780809702158\n",
      "Thresholds: 0.12540926 Recall: 0.8204488778054863 Precision: 0.14734862056610534\n",
      "Thresholds: 0.12608096 Recall: 0.8189526184538654 Precision: 0.14782138998919697\n",
      "Thresholds: 0.12690692 Recall: 0.8184538653366583 Precision: 0.14839934888768314\n",
      "Thresholds: 0.12775657 Recall: 0.8164588528678304 Precision: 0.14871002906976744\n",
      "Thresholds: 0.12862271 Recall: 0.8154613466334164 Precision: 0.14920605949990876\n",
      "Thresholds: 0.12968531 Recall: 0.8154613466334164 Precision: 0.1499174766183752\n",
      "Thresholds: 0.13026972 Recall: 0.8134663341645886 Precision: 0.1502394988946205\n",
      "Thresholds: 0.13124897 Recall: 0.8114713216957606 Precision: 0.15056450120303536\n",
      "Thresholds: 0.13202538 Recall: 0.8089775561097257 Precision: 0.15079955373744885\n",
      "Thresholds: 0.13302656 Recall: 0.8079800498753117 Precision: 0.15131701849430226\n",
      "Thresholds: 0.1340643 Recall: 0.8074812967581048 Precision: 0.1519331831831832\n",
      "Thresholds: 0.1350266 Recall: 0.8059850374064838 Precision: 0.15236658495191402\n",
      "Thresholds: 0.13582703 Recall: 0.8054862842892768 Precision: 0.15300805305542398\n",
      "Thresholds: 0.13675366 Recall: 0.8039900249376558 Precision: 0.15346534653465346\n",
      "Thresholds: 0.13760115 Recall: 0.8024937655860349 Precision: 0.15391237803711497\n",
      "Thresholds: 0.13872108 Recall: 0.800498753117207 Precision: 0.15426758938869667\n",
      "Thresholds: 0.13962404 Recall: 0.798503740648379 Precision: 0.15462623140815143\n",
      "Thresholds: 0.14059062 Recall: 0.7970074812967581 Precision: 0.15508540372670807\n",
      "Thresholds: 0.14154346 Recall: 0.7950124688279302 Precision: 0.1554515311098108\n",
      "Thresholds: 0.14254242 Recall: 0.7940149625935162 Precision: 0.1560172481379851\n",
      "Thresholds: 0.14361991 Recall: 0.7915211970074812 Precision: 0.15629308646838685\n",
      "Thresholds: 0.1444711 Recall: 0.7910224438902743 Precision: 0.15696753760886778\n",
      "Thresholds: 0.14570053 Recall: 0.7900249376558603 Precision: 0.1575492341356674\n",
      "Thresholds: 0.14672768 Recall: 0.7880299251870324 Precision: 0.15793682526989206\n",
      "Thresholds: 0.14766766 Recall: 0.7855361596009975 Precision: 0.15829145728643215\n",
      "Thresholds: 0.14879987 Recall: 0.7840399002493765 Precision: 0.15878787878787878\n",
      "Thresholds: 0.14992379 Recall: 0.7820448877805486 Precision: 0.15918781725888326\n",
      "Thresholds: 0.15104976 Recall: 0.7805486284289277 Precision: 0.1597101745076028\n",
      "Thresholds: 0.15207149 Recall: 0.7795511221945137 Precision: 0.1603241358088009\n",
      "Thresholds: 0.15307231 Recall: 0.7775561097256858 Precision: 0.1607382204350964\n",
      "Thresholds: 0.1541468 Recall: 0.7760598503740649 Precision: 0.1612602342211628\n",
      "Thresholds: 0.15525457 Recall: 0.7735660847880299 Precision: 0.16159616586788914\n",
      "Thresholds: 0.1562882 Recall: 0.773067331670823 Precision: 0.16233766233766234\n",
      "Thresholds: 0.15734176 Recall: 0.771072319201995 Precision: 0.1627711097073068\n",
      "Thresholds: 0.15871044 Recall: 0.7690773067331671 Precision: 0.1632091447925487\n",
      "Thresholds: 0.15976104 Recall: 0.7680798004987531 Precision: 0.16386465205362843\n",
      "Thresholds: 0.16070762 Recall: 0.7655860349127181 Precision: 0.16420624732563116\n",
      "Thresholds: 0.16166654 Recall: 0.7635910224438903 Precision: 0.16465906646590664\n",
      "Thresholds: 0.16273746 Recall: 0.7620947630922693 Precision: 0.1652249134948097\n",
      "Thresholds: 0.1639217 Recall: 0.7610972568578553 Precision: 0.1659056316590563\n",
      "Thresholds: 0.16519105 Recall: 0.7605985037406484 Precision: 0.16670310450371667\n",
      "Thresholds: 0.16648589 Recall: 0.7591022443890274 Precision: 0.16728951417894042\n",
      "Thresholds: 0.16760446 Recall: 0.7581047381546134 Precision: 0.16799292661361626\n",
      "Thresholds: 0.16898678 Recall: 0.7556109725685786 Precision: 0.16837074905534563\n",
      "Thresholds: 0.17058663 Recall: 0.7541147132169576 Precision: 0.16897630755476084\n",
      "Thresholds: 0.17158788 Recall: 0.7526184538653367 Precision: 0.1695886716115981\n",
      "Thresholds: 0.17274524 Recall: 0.7511221945137158 Precision: 0.17020795660036167\n",
      "Thresholds: 0.17432083 Recall: 0.7506234413965087 Precision: 0.1710810503580766\n",
      "Thresholds: 0.17549938 Recall: 0.7501246882793018 Precision: 0.17194466674288328\n",
      "Thresholds: 0.17688347 Recall: 0.7486284289276808 Precision: 0.17258824882143267\n",
      "Thresholds: 0.17820573 Recall: 0.7466334164588528 Precision: 0.17312362669133805\n",
      "Thresholds: 0.17923681 Recall: 0.744139650872818 Precision: 0.17354891241130627\n",
      "Thresholds: 0.1805544 Recall: 0.743142144638404 Precision: 0.17433017433017434\n",
      "Thresholds: 0.18178873 Recall: 0.74214463840399 Precision: 0.17512063081087442\n",
      "Thresholds: 0.18307048 Recall: 0.7391521197007481 Precision: 0.17544690422635256\n",
      "Thresholds: 0.18467666 Recall: 0.7386533665835412 Precision: 0.17637251399309278\n",
      "Thresholds: 0.18639258 Recall: 0.7361596009975062 Precision: 0.1768299988019648\n",
      "Thresholds: 0.18799537 Recall: 0.7351620947630922 Precision: 0.17765457394238882\n",
      "Thresholds: 0.18944861 Recall: 0.7326683291770574 Precision: 0.17812537892566993\n",
      "Thresholds: 0.19095421 Recall: 0.7316708229426434 Precision: 0.17896791509088691\n",
      "Thresholds: 0.1926185 Recall: 0.7301745635910224 Precision: 0.17969804836136\n",
      "Thresholds: 0.19419263 Recall: 0.7291770573566084 Precision: 0.18058300395256918\n",
      "Thresholds: 0.19593602 Recall: 0.7291770573566084 Precision: 0.18170519512801392\n",
      "Thresholds: 0.19766875 Recall: 0.7266832917705736 Precision: 0.18221610805402702\n",
      "Thresholds: 0.19908364 Recall: 0.7261845386533666 Precision: 0.18325991189427313\n",
      "Thresholds: 0.2008472 Recall: 0.7256857855361596 Precision: 0.18429385687143762\n",
      "Thresholds: 0.20206772 Recall: 0.7241895261845387 Precision: 0.18508604206500956\n",
      "Thresholds: 0.20333007 Recall: 0.7211970074812968 Precision: 0.1855035279025016\n",
      "Thresholds: 0.20481136 Recall: 0.7206982543640897 Precision: 0.18657198192382182\n",
      "Thresholds: 0.20641029 Recall: 0.7192019950124688 Precision: 0.18739441195581547\n",
      "Thresholds: 0.20766799 Recall: 0.7182044887780549 Precision: 0.18835840418574232\n",
      "Thresholds: 0.20954345 Recall: 0.7167082294264339 Precision: 0.1892034233048058\n",
      "Thresholds: 0.21095918 Recall: 0.714713216957606 Precision: 0.1899271040424122\n",
      "Thresholds: 0.21274659 Recall: 0.713216957605985 Precision: 0.19079386257505004\n",
      "Thresholds: 0.21471101 Recall: 0.7112219451371571 Precision: 0.19153794492948287\n",
      "Thresholds: 0.21630672 Recall: 0.7092269326683291 Precision: 0.1922920892494929\n",
      "Thresholds: 0.21791801 Recall: 0.7067331670822943 Precision: 0.1929203539823009\n",
      "Thresholds: 0.21987307 Recall: 0.7047381546134663 Precision: 0.19369431117203564\n",
      "Thresholds: 0.22172545 Recall: 0.7037406483790524 Precision: 0.19475500345065563\n",
      "Thresholds: 0.22335443 Recall: 0.7022443890274315 Precision: 0.19569145239749827\n",
      "Thresholds: 0.22557177 Recall: 0.6997506234413965 Precision: 0.19636109167249824\n",
      "Thresholds: 0.22717963 Recall: 0.6962593516209477 Precision: 0.1967582804792107\n",
      "Thresholds: 0.22949478 Recall: 0.6947630922693266 Precision: 0.19772888573456351\n",
      "Thresholds: 0.23132329 Recall: 0.6922693266832918 Precision: 0.19842744817726948\n",
      "Thresholds: 0.23364474 Recall: 0.6892768079800499 Precision: 0.1989920806335493\n",
      "Thresholds: 0.23552656 Recall: 0.687780548628429 Precision: 0.2\n",
      "Thresholds: 0.23742704 Recall: 0.6847880299251871 Precision: 0.20058436815193573\n",
      "Thresholds: 0.23902267 Recall: 0.68428927680798 Precision: 0.20191317144959528\n",
      "Thresholds: 0.2408837 Recall: 0.6817955112219451 Precision: 0.20266864343958488\n",
      "Thresholds: 0.2428251 Recall: 0.6802992518703241 Precision: 0.2037341299477222\n",
      "Thresholds: 0.24530727 Recall: 0.6783042394014963 Precision: 0.20466516177577126\n",
      "Thresholds: 0.2477902 Recall: 0.6768079800498753 Precision: 0.20576194086429114\n",
      "Thresholds: 0.24960706 Recall: 0.6758104738154613 Precision: 0.20702826585179526\n",
      "Thresholds: 0.2516152 Recall: 0.6748129675810474 Precision: 0.20834616569140746\n",
      "Thresholds: 0.25360602 Recall: 0.6723192019950125 Precision: 0.20918684047175667\n",
      "Thresholds: 0.25575376 Recall: 0.6713216957605985 Precision: 0.21050985298717548\n",
      "Thresholds: 0.25772843 Recall: 0.6678304239401496 Precision: 0.21106557377049182\n",
      "Thresholds: 0.25995052 Recall: 0.6648379052369078 Precision: 0.21182266009852216\n",
      "Thresholds: 0.26201513 Recall: 0.6628428927680798 Precision: 0.21287842383469485\n",
      "Thresholds: 0.2636743 Recall: 0.6613466334164588 Precision: 0.21414728682170542\n",
      "Thresholds: 0.26569524 Recall: 0.65785536159601 Precision: 0.21475089547378703\n",
      "Thresholds: 0.26781842 Recall: 0.656359102244389 Precision: 0.21602101116217992\n",
      "Thresholds: 0.27031612 Recall: 0.655860349127182 Precision: 0.21767919218672405\n",
      "Thresholds: 0.2732213 Recall: 0.654364089775561 Precision: 0.21899515940577532\n",
      "Thresholds: 0.27514943 Recall: 0.6523690773067332 Precision: 0.2201649553947147\n",
      "Thresholds: 0.2772105 Recall: 0.6508728179551122 Precision: 0.2215243591919878\n",
      "Thresholds: 0.27917424 Recall: 0.6488778054862843 Precision: 0.22273583290532442\n",
      "Thresholds: 0.28178748 Recall: 0.6458852867830424 Precision: 0.2236614853195164\n",
      "Thresholds: 0.2844946 Recall: 0.6443890274314215 Precision: 0.22508710801393728\n",
      "Thresholds: 0.28698125 Recall: 0.6399002493765586 Precision: 0.22548330404217926\n",
      "Thresholds: 0.28933913 Recall: 0.6389027431421447 Precision: 0.2271679375775847\n",
      "Thresholds: 0.2922924 Recall: 0.6369077306733167 Precision: 0.22860723236663086\n",
      "Thresholds: 0.2940996 Recall: 0.6354114713216957 Precision: 0.2301300578034682\n",
      "Thresholds: 0.29581377 Recall: 0.6329177057356609 Precision: 0.23131607728764128\n",
      "Thresholds: 0.2985505 Recall: 0.629925187032419 Precision: 0.23233995584988962\n",
      "Thresholds: 0.30093834 Recall: 0.627930174563591 Precision: 0.233754177497215\n",
      "Thresholds: 0.3039155 Recall: 0.6254364089775561 Precision: 0.23500749625187406\n",
      "Thresholds: 0.30682862 Recall: 0.6224438902743142 Precision: 0.23609534619750283\n",
      "Thresholds: 0.3099727 Recall: 0.6184538653366584 Precision: 0.23682200152788388\n",
      "Thresholds: 0.31279314 Recall: 0.6169576059850375 Precision: 0.23852680293096798\n",
      "Thresholds: 0.31512663 Recall: 0.6124688279301745 Precision: 0.239143135345667\n",
      "Thresholds: 0.31790498 Recall: 0.6094763092269326 Precision: 0.24031465093411997\n",
      "Thresholds: 0.32070893 Recall: 0.6064837905236907 Precision: 0.24155740961462058\n",
      "Thresholds: 0.3244103 Recall: 0.6029925187032419 Precision: 0.24257624398073838\n",
      "Thresholds: 0.3277862 Recall: 0.599002493765586 Precision: 0.24346239610784512\n",
      "Thresholds: 0.33067954 Recall: 0.5945137157107232 Precision: 0.24411222609051814\n",
      "Thresholds: 0.33387595 Recall: 0.5925187032418953 Precision: 0.24581005586592178\n",
      "Thresholds: 0.33723226 Recall: 0.5890274314214464 Precision: 0.24691616140497596\n",
      "Thresholds: 0.33942318 Recall: 0.5835411471321695 Precision: 0.24720050707796323\n",
      "Thresholds: 0.34235746 Recall: 0.5795511221945138 Precision: 0.24823755607776116\n",
      "Thresholds: 0.34520033 Recall: 0.5760598503740648 Precision: 0.2494061757719715\n",
      "Thresholds: 0.34728822 Recall: 0.5720698254364089 Precision: 0.250382012660991\n",
      "Thresholds: 0.3505919 Recall: 0.570573566084788 Precision: 0.2525386313465784\n",
      "Thresholds: 0.35394022 Recall: 0.5660847880299252 Precision: 0.2534613666815543\n",
      "Thresholds: 0.3570409 Recall: 0.5635910224438903 Precision: 0.2553095345684591\n",
      "Thresholds: 0.36050823 Recall: 0.5605985037406483 Precision: 0.25685557586837293\n",
      "Thresholds: 0.36347255 Recall: 0.5556109725685785 Precision: 0.2575127138233934\n",
      "Thresholds: 0.36695462 Recall: 0.5516209476309227 Precision: 0.2586529466791394\n",
      "Thresholds: 0.36938363 Recall: 0.5491271820448878 Precision: 0.26053005205868435\n",
      "Thresholds: 0.37247396 Recall: 0.5466334164588529 Precision: 0.2624521072796935\n",
      "Thresholds: 0.37689975 Recall: 0.542643391521197 Precision: 0.2638215324927255\n",
      "Thresholds: 0.38041398 Recall: 0.5396508728179551 Precision: 0.265586647029946\n",
      "Thresholds: 0.38376695 Recall: 0.5351620947630923 Precision: 0.26684904252673464\n",
      "Thresholds: 0.38766652 Recall: 0.5326683291770573 Precision: 0.2689498866784185\n",
      "Thresholds: 0.3910487 Recall: 0.5306733167082295 Precision: 0.2713593471053303\n",
      "Thresholds: 0.39535466 Recall: 0.5276807980049876 Precision: 0.27338501291989664\n",
      "Thresholds: 0.3996769 Recall: 0.5251870324189526 Precision: 0.2756544502617801\n",
      "Thresholds: 0.40334237 Recall: 0.5241895261845386 Precision: 0.27877984084880636\n",
      "Thresholds: 0.40722382 Recall: 0.5211970074812967 Precision: 0.28091397849462363\n",
      "Thresholds: 0.41128016 Recall: 0.5187032418952618 Precision: 0.28337874659400547\n",
      "Thresholds: 0.41457188 Recall: 0.516209476309227 Precision: 0.28591160220994477\n",
      "Thresholds: 0.41817644 Recall: 0.512718204488778 Precision: 0.2879551820728291\n",
      "Thresholds: 0.4221649 Recall: 0.5077306733167082 Precision: 0.28920454545454544\n",
      "Thresholds: 0.42682984 Recall: 0.5047381546134664 Precision: 0.29164265129683\n",
      "Thresholds: 0.4309559 Recall: 0.5007481296758105 Precision: 0.2935672514619883\n",
      "Thresholds: 0.4346262 Recall: 0.49276807980049875 Precision: 0.29317507418397626\n",
      "Thresholds: 0.4381296 Recall: 0.4877805486284289 Precision: 0.2946670683940946\n",
      "Thresholds: 0.44246876 Recall: 0.48428927680798006 Precision: 0.2971236230110159\n",
      "Thresholds: 0.44680023 Recall: 0.4793017456359102 Precision: 0.298725520671433\n",
      "Thresholds: 0.4512993 Recall: 0.47531172069825434 Precision: 0.30101073910296905\n",
      "Thresholds: 0.45572245 Recall: 0.47082294264339153 Precision: 0.30304975922953453\n",
      "Thresholds: 0.4597712 Recall: 0.4648379052369077 Precision: 0.3042768527587333\n",
      "Thresholds: 0.4633211 Recall: 0.4603491271820449 Precision: 0.30633919681380684\n",
      "Thresholds: 0.46850917 Recall: 0.457356608478803 Precision: 0.30948363145460683\n",
      "Thresholds: 0.4727821 Recall: 0.45286783042394013 Precision: 0.3117061448678338\n",
      "Thresholds: 0.47702268 Recall: 0.44738154613466335 Precision: 0.31330771917568984\n",
      "Thresholds: 0.48122394 Recall: 0.44089775561097255 Precision: 0.31425524351226447\n",
      "Thresholds: 0.4857581 Recall: 0.43640897755610975 Precision: 0.3166847629388346\n",
      "Thresholds: 0.48956335 Recall: 0.4309226932668329 Precision: 0.3184666420936233\n",
      "Thresholds: 0.49422503 Recall: 0.42543640897755614 Precision: 0.3203154337213669\n",
      "Thresholds: 0.499308 Recall: 0.4204488778054863 Precision: 0.32274119448698313\n",
      "Thresholds: 0.50453144 Recall: 0.41496259351620945 Precision: 0.32474629195940674\n",
      "Thresholds: 0.51065123 Recall: 0.4089775561097257 Precision: 0.326563122262047\n",
      "Thresholds: 0.51517296 Recall: 0.4029925187032419 Precision: 0.3283218203982121\n",
      "Thresholds: 0.52202487 Recall: 0.39850374064837907 Precision: 0.33139776026545004\n",
      "Thresholds: 0.52786845 Recall: 0.39301745635910224 Precision: 0.3338983050847458\n",
      "Thresholds: 0.53357834 Recall: 0.3860349127182045 Precision: 0.33535528596187175\n",
      "Thresholds: 0.5385701 Recall: 0.38104738154613466 Precision: 0.3383525243578388\n",
      "Thresholds: 0.5432556 Recall: 0.3745635910224439 Precision: 0.3401268115942029\n",
      "Thresholds: 0.54927677 Recall: 0.3680798004987531 Precision: 0.34198331788693237\n",
      "Thresholds: 0.55407625 Recall: 0.36209476309226934 Precision: 0.3444022770398482\n",
      "Thresholds: 0.5607151 Recall: 0.35561097256857854 Precision: 0.34662129314535733\n",
      "Thresholds: 0.56737643 Recall: 0.35062344139650875 Precision: 0.3502740408570005\n",
      "Thresholds: 0.5729607 Recall: 0.3451371571072319 Precision: 0.35360245273377616\n",
      "Thresholds: 0.579574 Recall: 0.3376558603491272 Precision: 0.3550078657577347\n",
      "Thresholds: 0.58481705 Recall: 0.32917705735660846 Precision: 0.3554119547657512\n",
      "Thresholds: 0.5905021 Recall: 0.32468827930174565 Precision: 0.36086474501108645\n",
      "Thresholds: 0.59734434 Recall: 0.3172069825436409 Precision: 0.36259977194982895\n",
      "Thresholds: 0.6032353 Recall: 0.31022443890274315 Precision: 0.36502347417840375\n",
      "Thresholds: 0.6131726 Recall: 0.3052369077306733 Precision: 0.37001209189842804\n",
      "Thresholds: 0.621776 Recall: 0.2977556109725686 Precision: 0.3721945137157107\n",
      "Thresholds: 0.6295202 Recall: 0.29226932668329175 Precision: 0.37733419188667094\n",
      "Thresholds: 0.6362484 Recall: 0.28478802992518704 Precision: 0.37990685296074517\n",
      "Thresholds: 0.6431633 Recall: 0.2773067331670823 Precision: 0.3826565726083964\n",
      "Thresholds: 0.65080184 Recall: 0.27032418952618453 Precision: 0.3863150392017106\n",
      "Thresholds: 0.65733755 Recall: 0.26483790523690776 Precision: 0.3924611973392461\n",
      "Thresholds: 0.6649718 Recall: 0.2593516209476309 Precision: 0.39938556067588327\n",
      "Thresholds: 0.67417836 Recall: 0.2538653366583541 Precision: 0.40654952076677314\n",
      "Thresholds: 0.68268865 Recall: 0.24688279301745636 Precision: 0.4121565362198168\n",
      "Thresholds: 0.6937708 Recall: 0.2399002493765586 Precision: 0.41789748045178104\n",
      "Thresholds: 0.70206106 Recall: 0.23291770573566084 Precision: 0.42415985467756584\n",
      "Thresholds: 0.709177 Recall: 0.22793017456359102 Precision: 0.43523809523809526\n",
      "Thresholds: 0.71681625 Recall: 0.21596009975062344 Precision: 0.43343343343343343\n",
      "Thresholds: 0.7237871 Recall: 0.20548628428927682 Precision: 0.43414120126448896\n",
      "Thresholds: 0.7323315 Recall: 0.19800498753117207 Precision: 0.44160177975528364\n",
      "Thresholds: 0.7405665 Recall: 0.19201995012468828 Precision: 0.45454545454545453\n",
      "Thresholds: 0.7506432 Recall: 0.18204488778054864 Precision: 0.45796737766624845\n",
      "Thresholds: 0.7587144 Recall: 0.17057356608478802 Precision: 0.4578313253012048\n",
      "Thresholds: 0.7671117 Recall: 0.16408977556109725 Precision: 0.4720229555236729\n",
      "Thresholds: 0.7778326 Recall: 0.1541147132169576 Precision: 0.4775888717156105\n",
      "Thresholds: 0.78877306 Recall: 0.14413965087281796 Precision: 0.4848993288590604\n",
      "Thresholds: 0.8007734 Recall: 0.13266832917705737 Precision: 0.48717948717948717\n",
      "Thresholds: 0.8096432 Recall: 0.12169576059850375 Precision: 0.49193548387096775\n",
      "Thresholds: 0.82212156 Recall: 0.11072319201995012 Precision: 0.4977578475336323\n",
      "Thresholds: 0.8342715 Recall: 0.10274314214463841 Precision: 0.5202020202020202\n",
      "Thresholds: 0.8451636 Recall: 0.0912718204488778 Precision: 0.5289017341040463\n",
      "Thresholds: 0.8555849 Recall: 0.07880299251870324 Precision: 0.5337837837837838\n",
      "Thresholds: 0.8713275 Recall: 0.06683291770573566 Precision: 0.5447154471544715\n",
      "Thresholds: 0.8864357 Recall: 0.05336658354114713 Precision: 0.5459183673469388\n",
      "Thresholds: 0.9041681 Recall: 0.04239401496259352 Precision: 0.5862068965517241\n",
      "Thresholds: 0.9241743 Recall: 0.02743142144638404 Precision: 0.5789473684210527\n",
      "Thresholds: 0.944171 Recall: 0.011970074812967581 Precision: 0.5853658536585366\n"
     ]
    }
   ],
   "source": [
    "for i in range(0, len(thresholds), 50):\n",
    "    print('Thresholds:',thresholds[i],'Recall:',recall[i],'Precision:',precision[i])"
   ]
  },
  {
   "cell_type": "code",
   "execution_count": 168,
   "id": "f2d8c357-0720-4da2-aa17-6228641b6748",
   "metadata": {},
   "outputs": [],
   "source": [
    "f1_score = 2 * (precision*recall) / (precision+recall) "
   ]
  },
  {
   "cell_type": "code",
   "execution_count": 173,
   "id": "01109440-d020-449c-a508-f01018657ed2",
   "metadata": {},
   "outputs": [
    {
     "name": "stdout",
     "output_type": "stream",
     "text": [
      "Threshold that maximizes the f1: 0.43050885 best f1 score: 0.3706293706293706 best precision: 0.2936716243802858 best recall: 0.5022443890274314\n"
     ]
    }
   ],
   "source": [
    "f1_score = np.nan_to_num(f1_score)\n",
    "best_threshold = thresholds[np.argmax(f1_score)]\n",
    "best_f1 = f1_score[np.argmax(f1_score)]\n",
    "best_precision = precision[np.argmax(f1_score)]\n",
    "best_recall = recall[np.argmax(f1_score)]\n",
    "print('Threshold that maximizes the f1:',best_threshold,'best f1 score:',best_f1,'best precision:',best_precision,'best recall:',best_recall)"
   ]
  },
  {
   "cell_type": "code",
   "execution_count": 174,
   "id": "27ec9d83-7b39-4732-812f-0ba6cf2724ee",
   "metadata": {},
   "outputs": [
    {
     "name": "stdout",
     "output_type": "stream",
     "text": [
      "Threshold for recall: 0.32705632 Precision: 0.2434729811778992 f1 score: 0.3463864094442845 recall: 0.6\n"
     ]
    }
   ],
   "source": [
    "ideal_recall = 0.6\n",
    "index_ideal_recall = np.where(recall >= ideal_recall)[0][-1]\n",
    "threshold_for_ideal_recall = thresholds[np.where(recall >= ideal_recall)[0][-1]]\n",
    "precision_at_ideal_recall = precision[np.where(recall >= ideal_recall)[0][-1]]\n",
    "f1_score_at_ideal_recall = f1_score[index_ideal_recall]\n",
    "recall_at_ideal_recall = recall[index_ideal_recall]\n",
    "print('Threshold for recall:',threshold_for_ideal_recall, 'Precision:',precision_at_ideal_recall,'f1 score:',f1_score_at_ideal_recall, 'recall:',recall_at_ideal_recall)"
   ]
  },
  {
   "cell_type": "code",
   "execution_count": null,
   "id": "36dbfeac-7cff-4dc2-946d-d8bebb53956c",
   "metadata": {},
   "outputs": [],
   "source": []
  }
 ],
 "metadata": {
  "kernelspec": {
   "display_name": "Python (AI_env)",
   "language": "python",
   "name": "ai_env"
  },
  "language_info": {
   "codemirror_mode": {
    "name": "ipython",
    "version": 3
   },
   "file_extension": ".py",
   "mimetype": "text/x-python",
   "name": "python",
   "nbconvert_exporter": "python",
   "pygments_lexer": "ipython3",
   "version": "3.9.21"
  }
 },
 "nbformat": 4,
 "nbformat_minor": 5
}
